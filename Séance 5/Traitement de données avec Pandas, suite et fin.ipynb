{
 "cells": [
  {
   "cell_type": "markdown",
   "metadata": {},
   "source": [
    "# Continuons avec Pandas"
   ]
  },
  {
   "cell_type": "markdown",
   "metadata": {},
   "source": [
    "Les premières lignes : charger des données"
   ]
  },
  {
   "cell_type": "code",
   "execution_count": 1,
   "metadata": {},
   "outputs": [],
   "source": [
    "import pandas as pd\n",
    "url = \"https://raw.githubusercontent.com/OpenAPC/openapc-de/master/data/snsf/snsf_openapc.csv\"\n",
    "corpus = pd.read_csv(url)"
   ]
  },
  {
   "cell_type": "code",
   "execution_count": 4,
   "metadata": {},
   "outputs": [
    {
     "data": {
      "text/plain": [
       "Index(['institution', 'period', 'euro', 'doi', 'journal_full_title',\n",
       "       'publisher', 'is_hybrid', 'issn', 'url', 'chf', 'conversion_rate',\n",
       "       'invoice_original_amount', 'invoice_original_currency',\n",
       "       'snsf_voucher_number', 'grant_snsf', 'grant_snsf_related'],\n",
       "      dtype='object')"
      ]
     },
     "execution_count": 4,
     "metadata": {},
     "output_type": "execute_result"
    }
   ],
   "source": [
    "corpus.columns"
   ]
  },
  {
   "cell_type": "markdown",
   "metadata": {},
   "source": [
    "## Fonctions d'accompagnement du traitement de données"
   ]
  },
  {
   "cell_type": "markdown",
   "metadata": {},
   "source": [
    "Gestion des valeurs nulles"
   ]
  },
  {
   "cell_type": "code",
   "execution_count": 6,
   "metadata": {},
   "outputs": [
    {
     "data": {
      "text/plain": [
       "False    718\n",
       "Name: euro, dtype: int64"
      ]
     },
     "execution_count": 6,
     "metadata": {},
     "output_type": "execute_result"
    }
   ],
   "source": [
    "pd.isnull(corpus[\"euro\"]).value_counts()"
   ]
  },
  {
   "cell_type": "code",
   "execution_count": 7,
   "metadata": {},
   "outputs": [
    {
     "data": {
      "text/plain": [
       "False    717\n",
       "True       1\n",
       "Name: doi, dtype: int64"
      ]
     },
     "execution_count": 7,
     "metadata": {},
     "output_type": "execute_result"
    }
   ],
   "source": [
    "pd.isnull(corpus[\"doi\"]).value_counts()"
   ]
  },
  {
   "cell_type": "markdown",
   "metadata": {},
   "source": [
    "Enlever toutes les lignes où il y a au moins une valeur absente (None)"
   ]
  },
  {
   "cell_type": "code",
   "execution_count": 15,
   "metadata": {},
   "outputs": [
    {
     "data": {
      "text/html": [
       "<div>\n",
       "<style scoped>\n",
       "    .dataframe tbody tr th:only-of-type {\n",
       "        vertical-align: middle;\n",
       "    }\n",
       "\n",
       "    .dataframe tbody tr th {\n",
       "        vertical-align: top;\n",
       "    }\n",
       "\n",
       "    .dataframe thead th {\n",
       "        text-align: right;\n",
       "    }\n",
       "</style>\n",
       "<table border=\"1\" class=\"dataframe\">\n",
       "  <thead>\n",
       "    <tr style=\"text-align: right;\">\n",
       "      <th></th>\n",
       "      <th>euro</th>\n",
       "      <th>period</th>\n",
       "    </tr>\n",
       "  </thead>\n",
       "  <tbody>\n",
       "    <tr>\n",
       "      <th>0</th>\n",
       "      <td>896.45</td>\n",
       "      <td>2011</td>\n",
       "    </tr>\n",
       "    <tr>\n",
       "      <th>1</th>\n",
       "      <td>929.92</td>\n",
       "      <td>2012</td>\n",
       "    </tr>\n",
       "    <tr>\n",
       "      <th>2</th>\n",
       "      <td>1784.42</td>\n",
       "      <td>2012</td>\n",
       "    </tr>\n",
       "    <tr>\n",
       "      <th>3</th>\n",
       "      <td>972.18</td>\n",
       "      <td>2012</td>\n",
       "    </tr>\n",
       "    <tr>\n",
       "      <th>4</th>\n",
       "      <td>1254.45</td>\n",
       "      <td>2012</td>\n",
       "    </tr>\n",
       "    <tr>\n",
       "      <th>...</th>\n",
       "      <td>...</td>\n",
       "      <td>...</td>\n",
       "    </tr>\n",
       "    <tr>\n",
       "      <th>713</th>\n",
       "      <td>1498.00</td>\n",
       "      <td>2019</td>\n",
       "    </tr>\n",
       "    <tr>\n",
       "      <th>714</th>\n",
       "      <td>369.55</td>\n",
       "      <td>2019</td>\n",
       "    </tr>\n",
       "    <tr>\n",
       "      <th>715</th>\n",
       "      <td>1256.28</td>\n",
       "      <td>2019</td>\n",
       "    </tr>\n",
       "    <tr>\n",
       "      <th>716</th>\n",
       "      <td>2269.33</td>\n",
       "      <td>2019</td>\n",
       "    </tr>\n",
       "    <tr>\n",
       "      <th>717</th>\n",
       "      <td>984.33</td>\n",
       "      <td>2019</td>\n",
       "    </tr>\n",
       "  </tbody>\n",
       "</table>\n",
       "<p>718 rows × 2 columns</p>\n",
       "</div>"
      ],
      "text/plain": [
       "        euro  period\n",
       "0     896.45    2011\n",
       "1     929.92    2012\n",
       "2    1784.42    2012\n",
       "3     972.18    2012\n",
       "4    1254.45    2012\n",
       "..       ...     ...\n",
       "713  1498.00    2019\n",
       "714   369.55    2019\n",
       "715  1256.28    2019\n",
       "716  2269.33    2019\n",
       "717   984.33    2019\n",
       "\n",
       "[718 rows x 2 columns]"
      ]
     },
     "execution_count": 15,
     "metadata": {},
     "output_type": "execute_result"
    }
   ],
   "source": [
    "#corpus[[\"euro\",\"period\"]].dropna()\n",
    "corpus[[\"euro\",\"period\"]].fillna(\"Valeur nulle\")"
   ]
  },
  {
   "cell_type": "markdown",
   "metadata": {},
   "source": [
    "### La phase de recodage des données"
   ]
  },
  {
   "cell_type": "code",
   "execution_count": 17,
   "metadata": {},
   "outputs": [],
   "source": [
    "corpus[\"Nouvelle colonne\"] = 1"
   ]
  },
  {
   "cell_type": "code",
   "execution_count": 21,
   "metadata": {},
   "outputs": [],
   "source": [
    "corpus[\"journal_full_title_lower\"] = corpus[\"journal_full_title\"].str.lower()"
   ]
  },
  {
   "cell_type": "code",
   "execution_count": 22,
   "metadata": {},
   "outputs": [
    {
     "data": {
      "text/plain": [
       "269"
      ]
     },
     "execution_count": 22,
     "metadata": {},
     "output_type": "execute_result"
    }
   ],
   "source": [
    "len(corpus[\"journal_full_title_lower\"].unique())"
   ]
  },
  {
   "cell_type": "code",
   "execution_count": 24,
   "metadata": {},
   "outputs": [
    {
     "data": {
      "text/plain": [
       "273"
      ]
     },
     "execution_count": 24,
     "metadata": {},
     "output_type": "execute_result"
    }
   ],
   "source": [
    "len(corpus[\"journal_full_title\"].unique())"
   ]
  },
  {
   "cell_type": "markdown",
   "metadata": {},
   "source": [
    "Comment faire pour recoder élément par élément une colonne d'un tableau en suivant une règle.\n",
    "\n",
    "Recodage d'une variable numérique en variable par catégorie\n",
    "\n",
    "Règle générale :\n",
    "\n",
    "1. Définir une fonction qui fait l'opération sur un élément\n",
    "2. On va l'appliquer sur chacun des éléments d'une colonne"
   ]
  },
  {
   "cell_type": "markdown",
   "metadata": {},
   "source": [
    "Pour recoder une variable numérique : définir une fonction qui prend en entrée un nombre et qui renvoie la catégorie associée souhaitée (moins de 1000, entre 1000 et 3000, entre 3000 et 4000 et plus de 4000)"
   ]
  },
  {
   "cell_type": "markdown",
   "metadata": {},
   "source": [
    "Etape 1 : définir la fonction qui fait l'opération sur un cas"
   ]
  },
  {
   "cell_type": "code",
   "execution_count": 43,
   "metadata": {},
   "outputs": [],
   "source": [
    "def recodage(case):\n",
    "    \n",
    "    if pd.isnull(case):\n",
    "        return None\n",
    "    \n",
    "    if case < 1000:\n",
    "        return \"1-Moins de 1000\"\n",
    "    elif case < 3000:\n",
    "        return \"2-Entre 1000 et 3000\"\n",
    "    elif case < 4000:\n",
    "        return \"3-Entre 3000 et 4000\"\n",
    "    else:\n",
    "        return \"4-Plus de 4000\""
   ]
  },
  {
   "cell_type": "code",
   "execution_count": 30,
   "metadata": {},
   "outputs": [
    {
     "data": {
      "text/plain": [
       "'1-Moins de 1000e'"
      ]
     },
     "execution_count": 30,
     "metadata": {},
     "output_type": "execute_result"
    }
   ],
   "source": [
    "recodage(10)"
   ]
  },
  {
   "cell_type": "markdown",
   "metadata": {},
   "source": [
    "Etape 2 : l'appliquer sur une colonne avec la méthode .apply"
   ]
  },
  {
   "cell_type": "code",
   "execution_count": 44,
   "metadata": {},
   "outputs": [],
   "source": [
    "corpus[\"invoice_recoded\"] = corpus[\"invoice_original_amount\"].apply(recodage)"
   ]
  },
  {
   "cell_type": "code",
   "execution_count": 45,
   "metadata": {},
   "outputs": [
    {
     "data": {
      "text/plain": [
       "2-Entre 1000 et 3000    392\n",
       "4-Plus de 4000           74\n",
       "1-Moins de 1000          71\n",
       "3-Entre 3000 et 4000     68\n",
       "Name: invoice_recoded, dtype: int64"
      ]
     },
     "execution_count": 45,
     "metadata": {},
     "output_type": "execute_result"
    }
   ],
   "source": [
    "corpus[\"invoice_recoded\"].value_counts()"
   ]
  },
  {
   "cell_type": "markdown",
   "metadata": {},
   "source": [
    "Exercice : créer une nouvelle colonne avec le nom des journaux sans espaces et en minuscule\n",
    "\n",
    "\n",
    "1. on définit une fonction qui prend en entrée un texte, et renvoie le texte sans les espaces en minuscule\n",
    "2. j'applique cette fonction à la colonne journal_full_title"
   ]
  },
  {
   "cell_type": "code",
   "execution_count": 52,
   "metadata": {},
   "outputs": [],
   "source": [
    "def recodage_texte(titre):\n",
    "    # mettre en minuscule\n",
    "    titre = titre.lower()\n",
    "    # remplacer les espaces\n",
    "    titre = titre.replace(\" \",\"\")\n",
    "    return titre\n",
    "\n",
    "#def recodage_texte(titre):\n",
    "#    return titre.lower().replace(\" \",\"\")"
   ]
  },
  {
   "cell_type": "code",
   "execution_count": 49,
   "metadata": {},
   "outputs": [
    {
     "data": {
      "text/plain": [
       "'ceciestuntitre'"
      ]
     },
     "execution_count": 49,
     "metadata": {},
     "output_type": "execute_result"
    }
   ],
   "source": [
    "recodage_texte(\"Ceci est un titre\")"
   ]
  },
  {
   "cell_type": "code",
   "execution_count": 53,
   "metadata": {},
   "outputs": [
    {
     "data": {
      "text/plain": [
       "269"
      ]
     },
     "execution_count": 53,
     "metadata": {},
     "output_type": "execute_result"
    }
   ],
   "source": [
    "len(corpus[\"journal_full_title\"].apply(recodage_texte).unique())"
   ]
  },
  {
   "cell_type": "markdown",
   "metadata": {},
   "source": [
    "### Les fonctions anonymes"
   ]
  },
  {
   "cell_type": "markdown",
   "metadata": {},
   "source": [
    "Faire la fonction qui multiplie un nombre par 10"
   ]
  },
  {
   "cell_type": "code",
   "execution_count": 55,
   "metadata": {},
   "outputs": [
    {
     "data": {
      "text/plain": [
       "1000"
      ]
     },
     "execution_count": 55,
     "metadata": {},
     "output_type": "execute_result"
    }
   ],
   "source": [
    "(lambda x : 10*x)(100)"
   ]
  },
  {
   "cell_type": "code",
   "execution_count": 56,
   "metadata": {},
   "outputs": [
    {
     "data": {
      "text/plain": [
       "0                                      plosone\n",
       "1                plosneglectedtropicaldiseases\n",
       "2                                plospathogens\n",
       "3                      frontiersinmicrobiology\n",
       "4      internationaljournalofmolecularsciences\n",
       "                        ...                   \n",
       "713                              thecryosphere\n",
       "714              journalofeducationandlearning\n",
       "715                          ecologyandsociety\n",
       "716                                      elife\n",
       "717                                      peerj\n",
       "Name: journal_full_title, Length: 718, dtype: object"
      ]
     },
     "execution_count": 56,
     "metadata": {},
     "output_type": "execute_result"
    }
   ],
   "source": [
    "corpus[\"journal_full_title\"].apply(lambda x: x.lower().replace(\" \",\"\"))"
   ]
  },
  {
   "cell_type": "markdown",
   "metadata": {},
   "source": [
    "Si on veut faire une boucle sur chaque ligne d'un tableau"
   ]
  },
  {
   "cell_type": "code",
   "execution_count": 61,
   "metadata": {},
   "outputs": [
    {
     "name": "stdout",
     "output_type": "stream",
     "text": [
      "Cellular Physiology and Biochemistry\n",
      "Cell Reports\n",
      "Cell Reports\n",
      "Cell Reports\n",
      "Cell Discovery\n",
      "Frontiers in Cellular and Infection Microbiology\n",
      "Cell Reports\n",
      "Frontiers in Cell and Developmental Biology\n",
      "Frontiers in Cellular and Infection Microbiology\n",
      "Plant Cell, Tissue and Organ Culture (PCTOC)\n",
      "Cell Reports\n",
      "Cell Reports\n",
      "Molecular Cell\n",
      "European Cells and Materials\n",
      "Frontiers in Cellular Neuroscience\n",
      "Cell Reports\n",
      "Cell Reports\n",
      "Cell Reports\n",
      "Cell Reports\n",
      "Cell Reports\n",
      "Cell Reports\n",
      "Cell Reports\n",
      "Cell Reports\n",
      "Cell Reports\n",
      "Cell Reports\n",
      "Cell Reports\n",
      "Cell Reports\n",
      "Stem Cell Reports\n",
      "Cell Death & Disease\n",
      "Cell Reports\n",
      "Cell Reports\n",
      "Cell Reports\n",
      "Cell Reports\n",
      "Cell Reports\n",
      "Cell Reports\n",
      "Stem Cell Reports\n",
      "Frontiers in Cellular Neuroscience\n"
     ]
    }
   ],
   "source": [
    "for i,ligne in corpus.iterrows(): # c'est un itérateur qui renvoie deux éléments : l'index et la ligne\n",
    "    if \"Cell\" in ligne[\"journal_full_title\"]:\n",
    "        print(ligne[\"journal_full_title\"])"
   ]
  },
  {
   "cell_type": "markdown",
   "metadata": {},
   "source": [
    "On peut regrouper les éléments d'un tableau par rapport à une colonne"
   ]
  },
  {
   "cell_type": "markdown",
   "metadata": {},
   "source": [
    "Je veux calculer les dépenses par année du FNS"
   ]
  },
  {
   "cell_type": "code",
   "execution_count": 64,
   "metadata": {},
   "outputs": [
    {
     "data": {
      "text/plain": [
       "period\n",
       "2011       896.45\n",
       "2012      4940.97\n",
       "2013     26488.29\n",
       "2014     71904.28\n",
       "2015    175968.53\n",
       "2016    193439.05\n",
       "2017    139668.57\n",
       "2018    376130.45\n",
       "2019    449944.69\n",
       "Name: euro, dtype: float64"
      ]
     },
     "execution_count": 64,
     "metadata": {},
     "output_type": "execute_result"
    }
   ],
   "source": [
    "corpus.groupby(\"period\")[\"euro\"].sum()"
   ]
  },
  {
   "cell_type": "code",
   "execution_count": 66,
   "metadata": {},
   "outputs": [
    {
     "data": {
      "text/html": [
       "<div>\n",
       "<style scoped>\n",
       "    .dataframe tbody tr th:only-of-type {\n",
       "        vertical-align: middle;\n",
       "    }\n",
       "\n",
       "    .dataframe tbody tr th {\n",
       "        vertical-align: top;\n",
       "    }\n",
       "\n",
       "    .dataframe thead th {\n",
       "        text-align: right;\n",
       "    }\n",
       "</style>\n",
       "<table border=\"1\" class=\"dataframe\">\n",
       "  <thead>\n",
       "    <tr style=\"text-align: right;\">\n",
       "      <th></th>\n",
       "      <th>sum</th>\n",
       "      <th>median</th>\n",
       "      <th>mean</th>\n",
       "      <th>std</th>\n",
       "    </tr>\n",
       "    <tr>\n",
       "      <th>period</th>\n",
       "      <th></th>\n",
       "      <th></th>\n",
       "      <th></th>\n",
       "      <th></th>\n",
       "    </tr>\n",
       "  </thead>\n",
       "  <tbody>\n",
       "    <tr>\n",
       "      <th>2011</th>\n",
       "      <td>896.45</td>\n",
       "      <td>896.450</td>\n",
       "      <td>896.450000</td>\n",
       "      <td>NaN</td>\n",
       "    </tr>\n",
       "    <tr>\n",
       "      <th>2012</th>\n",
       "      <td>4940.97</td>\n",
       "      <td>1113.315</td>\n",
       "      <td>1235.242500</td>\n",
       "      <td>393.441466</td>\n",
       "    </tr>\n",
       "    <tr>\n",
       "      <th>2013</th>\n",
       "      <td>26488.29</td>\n",
       "      <td>1115.945</td>\n",
       "      <td>1204.013182</td>\n",
       "      <td>414.835939</td>\n",
       "    </tr>\n",
       "    <tr>\n",
       "      <th>2014</th>\n",
       "      <td>71904.28</td>\n",
       "      <td>1092.330</td>\n",
       "      <td>1331.560741</td>\n",
       "      <td>612.570624</td>\n",
       "    </tr>\n",
       "    <tr>\n",
       "      <th>2015</th>\n",
       "      <td>175968.53</td>\n",
       "      <td>1389.295</td>\n",
       "      <td>1795.597245</td>\n",
       "      <td>1025.868529</td>\n",
       "    </tr>\n",
       "    <tr>\n",
       "      <th>2016</th>\n",
       "      <td>193439.05</td>\n",
       "      <td>1543.945</td>\n",
       "      <td>1824.896698</td>\n",
       "      <td>877.518207</td>\n",
       "    </tr>\n",
       "    <tr>\n",
       "      <th>2017</th>\n",
       "      <td>139668.57</td>\n",
       "      <td>1720.090</td>\n",
       "      <td>1967.162958</td>\n",
       "      <td>991.153982</td>\n",
       "    </tr>\n",
       "    <tr>\n",
       "      <th>2018</th>\n",
       "      <td>376130.45</td>\n",
       "      <td>1937.010</td>\n",
       "      <td>2307.548773</td>\n",
       "      <td>1192.963623</td>\n",
       "    </tr>\n",
       "    <tr>\n",
       "      <th>2019</th>\n",
       "      <td>449944.69</td>\n",
       "      <td>1785.890</td>\n",
       "      <td>2261.028593</td>\n",
       "      <td>1270.304621</td>\n",
       "    </tr>\n",
       "  </tbody>\n",
       "</table>\n",
       "</div>"
      ],
      "text/plain": [
       "              sum    median         mean          std\n",
       "period                                               \n",
       "2011       896.45   896.450   896.450000          NaN\n",
       "2012      4940.97  1113.315  1235.242500   393.441466\n",
       "2013     26488.29  1115.945  1204.013182   414.835939\n",
       "2014     71904.28  1092.330  1331.560741   612.570624\n",
       "2015    175968.53  1389.295  1795.597245  1025.868529\n",
       "2016    193439.05  1543.945  1824.896698   877.518207\n",
       "2017    139668.57  1720.090  1967.162958   991.153982\n",
       "2018    376130.45  1937.010  2307.548773  1192.963623\n",
       "2019    449944.69  1785.890  2261.028593  1270.304621"
      ]
     },
     "execution_count": 66,
     "metadata": {},
     "output_type": "execute_result"
    }
   ],
   "source": [
    "# grouper par la colonne period, prendre la colonne euro de chaque élément, \n",
    "# appliquer un ensemble de fonctions avec agg\n",
    "corpus.groupby(\"period\")[\"euro\"].agg([\"sum\",\"median\",\"mean\",\"std\"])"
   ]
  },
  {
   "cell_type": "code",
   "execution_count": 72,
   "metadata": {},
   "outputs": [
    {
     "data": {
      "text/html": [
       "<div>\n",
       "<style scoped>\n",
       "    .dataframe tbody tr th:only-of-type {\n",
       "        vertical-align: middle;\n",
       "    }\n",
       "\n",
       "    .dataframe tbody tr th {\n",
       "        vertical-align: top;\n",
       "    }\n",
       "\n",
       "    .dataframe thead th {\n",
       "        text-align: right;\n",
       "    }\n",
       "</style>\n",
       "<table border=\"1\" class=\"dataframe\">\n",
       "  <thead>\n",
       "    <tr style=\"text-align: right;\">\n",
       "      <th></th>\n",
       "      <th>count</th>\n",
       "      <th>sum</th>\n",
       "      <th>median</th>\n",
       "      <th>mean</th>\n",
       "      <th>std</th>\n",
       "    </tr>\n",
       "    <tr>\n",
       "      <th>journal_full_title</th>\n",
       "      <th></th>\n",
       "      <th></th>\n",
       "      <th></th>\n",
       "      <th></th>\n",
       "      <th></th>\n",
       "    </tr>\n",
       "  </thead>\n",
       "  <tbody>\n",
       "    <tr>\n",
       "      <th>AAPS Open</th>\n",
       "      <td>1</td>\n",
       "      <td>1929.55</td>\n",
       "      <td>1929.550</td>\n",
       "      <td>1929.550000</td>\n",
       "      <td>NaN</td>\n",
       "    </tr>\n",
       "    <tr>\n",
       "      <th>Journal of Maps</th>\n",
       "      <td>1</td>\n",
       "      <td>506.68</td>\n",
       "      <td>506.680</td>\n",
       "      <td>506.680000</td>\n",
       "      <td>NaN</td>\n",
       "    </tr>\n",
       "    <tr>\n",
       "      <th>Journal of Medical Internet Research</th>\n",
       "      <td>1</td>\n",
       "      <td>2267.56</td>\n",
       "      <td>2267.560</td>\n",
       "      <td>2267.560000</td>\n",
       "      <td>NaN</td>\n",
       "    </tr>\n",
       "    <tr>\n",
       "      <th>Journal of Molecular Biology</th>\n",
       "      <td>1</td>\n",
       "      <td>1368.78</td>\n",
       "      <td>1368.780</td>\n",
       "      <td>1368.780000</td>\n",
       "      <td>NaN</td>\n",
       "    </tr>\n",
       "    <tr>\n",
       "      <th>Journal of Neurochemistry</th>\n",
       "      <td>1</td>\n",
       "      <td>2724.00</td>\n",
       "      <td>2724.000</td>\n",
       "      <td>2724.000000</td>\n",
       "      <td>NaN</td>\n",
       "    </tr>\n",
       "    <tr>\n",
       "      <th>...</th>\n",
       "      <td>...</td>\n",
       "      <td>...</td>\n",
       "      <td>...</td>\n",
       "      <td>...</td>\n",
       "      <td>...</td>\n",
       "    </tr>\n",
       "    <tr>\n",
       "      <th>Frontiers in Psychology</th>\n",
       "      <td>19</td>\n",
       "      <td>30646.17</td>\n",
       "      <td>1413.970</td>\n",
       "      <td>1612.956316</td>\n",
       "      <td>639.346650</td>\n",
       "    </tr>\n",
       "    <tr>\n",
       "      <th>Cell Reports</th>\n",
       "      <td>24</td>\n",
       "      <td>104638.36</td>\n",
       "      <td>4430.190</td>\n",
       "      <td>4359.931667</td>\n",
       "      <td>446.033215</td>\n",
       "    </tr>\n",
       "    <tr>\n",
       "      <th>PLOS ONE</th>\n",
       "      <td>46</td>\n",
       "      <td>61316.44</td>\n",
       "      <td>1321.745</td>\n",
       "      <td>1332.966087</td>\n",
       "      <td>98.239324</td>\n",
       "    </tr>\n",
       "    <tr>\n",
       "      <th>Scientific Reports</th>\n",
       "      <td>62</td>\n",
       "      <td>85060.55</td>\n",
       "      <td>1383.700</td>\n",
       "      <td>1371.944355</td>\n",
       "      <td>226.612741</td>\n",
       "    </tr>\n",
       "    <tr>\n",
       "      <th>Nature Communications</th>\n",
       "      <td>72</td>\n",
       "      <td>304545.91</td>\n",
       "      <td>4203.335</td>\n",
       "      <td>4229.804306</td>\n",
       "      <td>429.554457</td>\n",
       "    </tr>\n",
       "  </tbody>\n",
       "</table>\n",
       "<p>273 rows × 5 columns</p>\n",
       "</div>"
      ],
      "text/plain": [
       "                                      count        sum    median         mean  \\\n",
       "journal_full_title                                                              \n",
       "AAPS Open                                 1    1929.55  1929.550  1929.550000   \n",
       "Journal of Maps                           1     506.68   506.680   506.680000   \n",
       "Journal of Medical Internet Research      1    2267.56  2267.560  2267.560000   \n",
       "Journal of Molecular Biology              1    1368.78  1368.780  1368.780000   \n",
       "Journal of Neurochemistry                 1    2724.00  2724.000  2724.000000   \n",
       "...                                     ...        ...       ...          ...   \n",
       "Frontiers in Psychology                  19   30646.17  1413.970  1612.956316   \n",
       "Cell Reports                             24  104638.36  4430.190  4359.931667   \n",
       "PLOS ONE                                 46   61316.44  1321.745  1332.966087   \n",
       "Scientific Reports                       62   85060.55  1383.700  1371.944355   \n",
       "Nature Communications                    72  304545.91  4203.335  4229.804306   \n",
       "\n",
       "                                             std  \n",
       "journal_full_title                                \n",
       "AAPS Open                                    NaN  \n",
       "Journal of Maps                              NaN  \n",
       "Journal of Medical Internet Research         NaN  \n",
       "Journal of Molecular Biology                 NaN  \n",
       "Journal of Neurochemistry                    NaN  \n",
       "...                                          ...  \n",
       "Frontiers in Psychology               639.346650  \n",
       "Cell Reports                          446.033215  \n",
       "PLOS ONE                               98.239324  \n",
       "Scientific Reports                    226.612741  \n",
       "Nature Communications                 429.554457  \n",
       "\n",
       "[273 rows x 5 columns]"
      ]
     },
     "execution_count": 72,
     "metadata": {},
     "output_type": "execute_result"
    }
   ],
   "source": [
    "corpus.groupby(\"journal_full_title\")[\"euro\"].agg([\"count\",\"sum\",\"median\",\"mean\",\"std\"]).sort_values(\"count\")"
   ]
  }
 ],
 "metadata": {
  "kernelspec": {
   "display_name": "Python 3",
   "language": "python",
   "name": "python3"
  },
  "language_info": {
   "codemirror_mode": {
    "name": "ipython",
    "version": 3
   },
   "file_extension": ".py",
   "mimetype": "text/x-python",
   "name": "python",
   "nbconvert_exporter": "python",
   "pygments_lexer": "ipython3",
   "version": "3.7.7"
  }
 },
 "nbformat": 4,
 "nbformat_minor": 4
}
