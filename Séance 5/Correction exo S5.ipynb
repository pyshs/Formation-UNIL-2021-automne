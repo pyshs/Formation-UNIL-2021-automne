{
 "cells": [
  {
   "cell_type": "markdown",
   "metadata": {},
   "source": [
    "## Correction exercices séance 5\n",
    "\n",
    "À partir des données sur la perception de la science en 2011\n",
    "\n",
    "1. Obtenir le tableau de répartition de la PCS  (catégorie socio-professionnelle) des enquêtés\n",
    "2. Calculer la moyenne d'âge par genre\n",
    "3. Quelle est la catégorie de diplome ayant en moyenne l'indicateur de confiance dans les institutions (confiance_ind) le plus élevé ?\n",
    "4. Calculer le niveau moyen de culture scientifique (connaissance_sci) selon le genre, puis selon l'intérêt pour la politique\n",
    "5. Faire une représentation graphique de la répartition des revenus dans l'échantillon.\n",
    "6. Faire un tableau croisant le niveau de diplome et l'intérêt pour la science\n",
    "7. Faire un tableau croisant l'intérêt pour la politique et l'intérêt pour la science\n",
    "8. Regrouper ces 2 tableaux en un, et enregistrez le sous un format Excel\n",
    "9. Recodez l'âge en catégories (18/25/35/45/55/65/+) en utilisant à la fois la méthode apply, puis en regardant la fonction cut de Pandas"
   ]
  },
  {
   "cell_type": "code",
   "execution_count": 1,
   "metadata": {},
   "outputs": [],
   "source": [
    "import pandas as pd\n",
    "import pyshs\n",
    "df = pd.read_excel(\"image_science_france_2011_simplifie.xls\")"
   ]
  },
  {
   "cell_type": "code",
   "execution_count": 2,
   "metadata": {},
   "outputs": [
    {
     "data": {
      "text/plain": [
       "(1027, 12)"
      ]
     },
     "execution_count": 2,
     "metadata": {},
     "output_type": "execute_result"
    }
   ],
   "source": [
    "df.shape"
   ]
  },
  {
   "cell_type": "code",
   "execution_count": 3,
   "metadata": {},
   "outputs": [
    {
     "data": {
      "text/plain": [
       "Index(['Unnamed: 0', 'sexe', 'age', 'pcs', 'diplome', 'politique', 'revenus',\n",
       "       'confiance_ind', 'interetpolitique', 'interetscience', 'apportscience',\n",
       "       'connaissance_sci'],\n",
       "      dtype='object')"
      ]
     },
     "execution_count": 3,
     "metadata": {},
     "output_type": "execute_result"
    }
   ],
   "source": [
    "df.columns"
   ]
  },
  {
   "cell_type": "code",
   "execution_count": 4,
   "metadata": {},
   "outputs": [],
   "source": [
    "# rapide aperçu de mes données…"
   ]
  },
  {
   "cell_type": "code",
   "execution_count": 5,
   "metadata": {
    "scrolled": false
   },
   "outputs": [
    {
     "data": {
      "text/html": [
       "<div>\n",
       "<style scoped>\n",
       "    .dataframe tbody tr th:only-of-type {\n",
       "        vertical-align: middle;\n",
       "    }\n",
       "\n",
       "    .dataframe tbody tr th {\n",
       "        vertical-align: top;\n",
       "    }\n",
       "\n",
       "    .dataframe thead th {\n",
       "        text-align: right;\n",
       "    }\n",
       "</style>\n",
       "<table border=\"1\" class=\"dataframe\">\n",
       "  <thead>\n",
       "    <tr style=\"text-align: right;\">\n",
       "      <th></th>\n",
       "      <th>Unnamed: 0</th>\n",
       "      <th>age</th>\n",
       "      <th>confiance_ind</th>\n",
       "      <th>connaissance_sci</th>\n",
       "    </tr>\n",
       "  </thead>\n",
       "  <tbody>\n",
       "    <tr>\n",
       "      <th>count</th>\n",
       "      <td>1027.000000</td>\n",
       "      <td>1027.000000</td>\n",
       "      <td>1027.000000</td>\n",
       "      <td>1027.000000</td>\n",
       "    </tr>\n",
       "    <tr>\n",
       "      <th>mean</th>\n",
       "      <td>513.000000</td>\n",
       "      <td>48.140214</td>\n",
       "      <td>0.548588</td>\n",
       "      <td>13.028238</td>\n",
       "    </tr>\n",
       "    <tr>\n",
       "      <th>std</th>\n",
       "      <td>296.613666</td>\n",
       "      <td>17.954073</td>\n",
       "      <td>0.243683</td>\n",
       "      <td>82.190385</td>\n",
       "    </tr>\n",
       "    <tr>\n",
       "      <th>min</th>\n",
       "      <td>0.000000</td>\n",
       "      <td>18.000000</td>\n",
       "      <td>0.000000</td>\n",
       "      <td>1.000000</td>\n",
       "    </tr>\n",
       "    <tr>\n",
       "      <th>25%</th>\n",
       "      <td>256.500000</td>\n",
       "      <td>33.000000</td>\n",
       "      <td>0.400000</td>\n",
       "      <td>2.000000</td>\n",
       "    </tr>\n",
       "    <tr>\n",
       "      <th>50%</th>\n",
       "      <td>513.000000</td>\n",
       "      <td>46.000000</td>\n",
       "      <td>0.600000</td>\n",
       "      <td>3.000000</td>\n",
       "    </tr>\n",
       "    <tr>\n",
       "      <th>75%</th>\n",
       "      <td>769.500000</td>\n",
       "      <td>62.000000</td>\n",
       "      <td>0.700000</td>\n",
       "      <td>4.000000</td>\n",
       "    </tr>\n",
       "    <tr>\n",
       "      <th>max</th>\n",
       "      <td>1026.000000</td>\n",
       "      <td>88.000000</td>\n",
       "      <td>1.000000</td>\n",
       "      <td>666.000000</td>\n",
       "    </tr>\n",
       "  </tbody>\n",
       "</table>\n",
       "</div>"
      ],
      "text/plain": [
       "        Unnamed: 0          age  confiance_ind  connaissance_sci\n",
       "count  1027.000000  1027.000000    1027.000000       1027.000000\n",
       "mean    513.000000    48.140214       0.548588         13.028238\n",
       "std     296.613666    17.954073       0.243683         82.190385\n",
       "min       0.000000    18.000000       0.000000          1.000000\n",
       "25%     256.500000    33.000000       0.400000          2.000000\n",
       "50%     513.000000    46.000000       0.600000          3.000000\n",
       "75%     769.500000    62.000000       0.700000          4.000000\n",
       "max    1026.000000    88.000000       1.000000        666.000000"
      ]
     },
     "execution_count": 5,
     "metadata": {},
     "output_type": "execute_result"
    }
   ],
   "source": [
    "df.describe()"
   ]
  },
  {
   "cell_type": "code",
   "execution_count": 6,
   "metadata": {},
   "outputs": [
    {
     "data": {
      "text/plain": [
       "Unnamed: 0            0\n",
       "sexe                  0\n",
       "age                   0\n",
       "pcs                   0\n",
       "diplome               4\n",
       "politique           168\n",
       "revenus             121\n",
       "confiance_ind         0\n",
       "interetpolitique      0\n",
       "interetscience        1\n",
       "apportscience        14\n",
       "connaissance_sci      0\n",
       "dtype: int64"
      ]
     },
     "execution_count": 6,
     "metadata": {},
     "output_type": "execute_result"
    }
   ],
   "source": [
    "df.isnull().sum()"
   ]
  },
  {
   "cell_type": "code",
   "execution_count": 7,
   "metadata": {
    "scrolled": true
   },
   "outputs": [
    {
     "data": {
      "text/html": [
       "<div>\n",
       "<style scoped>\n",
       "    .dataframe tbody tr th:only-of-type {\n",
       "        vertical-align: middle;\n",
       "    }\n",
       "\n",
       "    .dataframe tbody tr th {\n",
       "        vertical-align: top;\n",
       "    }\n",
       "\n",
       "    .dataframe thead th {\n",
       "        text-align: right;\n",
       "    }\n",
       "</style>\n",
       "<table border=\"1\" class=\"dataframe\">\n",
       "  <thead>\n",
       "    <tr style=\"text-align: right;\">\n",
       "      <th></th>\n",
       "      <th>Type</th>\n",
       "      <th>Modalités</th>\n",
       "      <th>Mode</th>\n",
       "      <th>Moyenne</th>\n",
       "      <th>Écart-type</th>\n",
       "      <th>Valeurs manquantes</th>\n",
       "    </tr>\n",
       "    <tr>\n",
       "      <th>Variable</th>\n",
       "      <th></th>\n",
       "      <th></th>\n",
       "      <th></th>\n",
       "      <th></th>\n",
       "      <th></th>\n",
       "      <th></th>\n",
       "    </tr>\n",
       "  </thead>\n",
       "  <tbody>\n",
       "    <tr>\n",
       "      <th>Unnamed: 0</th>\n",
       "      <td>Numérique</td>\n",
       "      <td></td>\n",
       "      <td></td>\n",
       "      <td>513.0</td>\n",
       "      <td>296.61</td>\n",
       "      <td>0</td>\n",
       "    </tr>\n",
       "    <tr>\n",
       "      <th>sexe</th>\n",
       "      <td>Catégorielle</td>\n",
       "      <td>2.0</td>\n",
       "      <td>Femme</td>\n",
       "      <td></td>\n",
       "      <td></td>\n",
       "      <td>0</td>\n",
       "    </tr>\n",
       "    <tr>\n",
       "      <th>age</th>\n",
       "      <td>Numérique</td>\n",
       "      <td></td>\n",
       "      <td></td>\n",
       "      <td>48.14</td>\n",
       "      <td>17.95</td>\n",
       "      <td>0</td>\n",
       "    </tr>\n",
       "    <tr>\n",
       "      <th>pcs</th>\n",
       "      <td>Catégorielle</td>\n",
       "      <td>7.0</td>\n",
       "      <td>Retraités / Autres inactifs</td>\n",
       "      <td></td>\n",
       "      <td></td>\n",
       "      <td>0</td>\n",
       "    </tr>\n",
       "    <tr>\n",
       "      <th>diplome</th>\n",
       "      <td>Catégorielle</td>\n",
       "      <td>7.0</td>\n",
       "      <td>Intermédiaire</td>\n",
       "      <td></td>\n",
       "      <td></td>\n",
       "      <td>4</td>\n",
       "    </tr>\n",
       "    <tr>\n",
       "      <th>politique</th>\n",
       "      <td>Catégorielle</td>\n",
       "      <td>8.0</td>\n",
       "      <td>4</td>\n",
       "      <td></td>\n",
       "      <td></td>\n",
       "      <td>168</td>\n",
       "    </tr>\n",
       "    <tr>\n",
       "      <th>revenus</th>\n",
       "      <td>Catégorielle</td>\n",
       "      <td>10.0</td>\n",
       "      <td>J - De 1501 à 2300 euros (de 10 001 à 15 000 f...</td>\n",
       "      <td></td>\n",
       "      <td></td>\n",
       "      <td>121</td>\n",
       "    </tr>\n",
       "    <tr>\n",
       "      <th>confiance_ind</th>\n",
       "      <td>Numérique</td>\n",
       "      <td></td>\n",
       "      <td></td>\n",
       "      <td>0.55</td>\n",
       "      <td>0.24</td>\n",
       "      <td>0</td>\n",
       "    </tr>\n",
       "    <tr>\n",
       "      <th>interetpolitique</th>\n",
       "      <td>Catégorielle</td>\n",
       "      <td>4.0</td>\n",
       "      <td>Un peu</td>\n",
       "      <td></td>\n",
       "      <td></td>\n",
       "      <td>0</td>\n",
       "    </tr>\n",
       "    <tr>\n",
       "      <th>interetscience</th>\n",
       "      <td>Catégorielle</td>\n",
       "      <td>3.0</td>\n",
       "      <td>Oui</td>\n",
       "      <td></td>\n",
       "      <td></td>\n",
       "      <td>1</td>\n",
       "    </tr>\n",
       "    <tr>\n",
       "      <th>apportscience</th>\n",
       "      <td>Catégorielle</td>\n",
       "      <td>4.0</td>\n",
       "      <td>A peu près autant de bien que de mal</td>\n",
       "      <td></td>\n",
       "      <td></td>\n",
       "      <td>14</td>\n",
       "    </tr>\n",
       "    <tr>\n",
       "      <th>connaissance_sci</th>\n",
       "      <td>Numérique</td>\n",
       "      <td></td>\n",
       "      <td></td>\n",
       "      <td>13.03</td>\n",
       "      <td>82.19</td>\n",
       "      <td>0</td>\n",
       "    </tr>\n",
       "  </tbody>\n",
       "</table>\n",
       "</div>"
      ],
      "text/plain": [
       "                          Type Modalités  \\\n",
       "Variable                                   \n",
       "Unnamed: 0           Numérique             \n",
       "sexe              Catégorielle       2.0   \n",
       "age                  Numérique             \n",
       "pcs               Catégorielle       7.0   \n",
       "diplome           Catégorielle       7.0   \n",
       "politique         Catégorielle       8.0   \n",
       "revenus           Catégorielle      10.0   \n",
       "confiance_ind        Numérique             \n",
       "interetpolitique  Catégorielle       4.0   \n",
       "interetscience    Catégorielle       3.0   \n",
       "apportscience     Catégorielle       4.0   \n",
       "connaissance_sci     Numérique             \n",
       "\n",
       "                                                               Mode Moyenne  \\\n",
       "Variable                                                                      \n",
       "Unnamed: 0                                                            513.0   \n",
       "sexe                                                          Femme           \n",
       "age                                                                   48.14   \n",
       "pcs                                     Retraités / Autres inactifs           \n",
       "diplome                                               Intermédiaire           \n",
       "politique                                                         4           \n",
       "revenus           J - De 1501 à 2300 euros (de 10 001 à 15 000 f...           \n",
       "confiance_ind                                                          0.55   \n",
       "interetpolitique                                             Un peu           \n",
       "interetscience                                                  Oui           \n",
       "apportscience                  A peu près autant de bien que de mal           \n",
       "connaissance_sci                                                      13.03   \n",
       "\n",
       "                 Écart-type  Valeurs manquantes  \n",
       "Variable                                         \n",
       "Unnamed: 0           296.61                   0  \n",
       "sexe                                          0  \n",
       "age                   17.95                   0  \n",
       "pcs                                           0  \n",
       "diplome                                       4  \n",
       "politique                                   168  \n",
       "revenus                                     121  \n",
       "confiance_ind          0.24                   0  \n",
       "interetpolitique                              0  \n",
       "interetscience                                1  \n",
       "apportscience                                14  \n",
       "connaissance_sci      82.19                   0  "
      ]
     },
     "execution_count": 7,
     "metadata": {},
     "output_type": "execute_result"
    }
   ],
   "source": [
    "pyshs.description(df)"
   ]
  },
  {
   "cell_type": "code",
   "execution_count": 8,
   "metadata": {},
   "outputs": [],
   "source": [
    "# moi y a des choses qui me plaisent pas trop… mais on va y revenir dans les exos"
   ]
  },
  {
   "cell_type": "markdown",
   "metadata": {},
   "source": [
    "## 1. Obtenir le tableau de répartition de la PCS  (catégorie socio-professionnelle) des enquêtés"
   ]
  },
  {
   "cell_type": "code",
   "execution_count": 9,
   "metadata": {
    "scrolled": true
   },
   "outputs": [
    {
     "data": {
      "text/plain": [
       "Retraités / Autres inactifs                                     46.445959\n",
       "Employés et Personnels de services                              17.916261\n",
       "Professions intermédiaires, Techniciens, Contremaitres et Ag    12.852970\n",
       "Ouvriers                                                        12.658228\n",
       "Professions libérales et Cadres                                  7.205453\n",
       "Artisans, Commercants et Chefs d'entreprises                     2.531646\n",
       "Agriculteurs exploitants                                         0.389484\n",
       "Name: pcs, dtype: float64"
      ]
     },
     "execution_count": 9,
     "metadata": {},
     "output_type": "execute_result"
    }
   ],
   "source": [
    "# répartition PCS\n",
    "df[\"pcs\"].value_counts(normalize = True)*100\n",
    "# pour trier par nom :\n",
    "# df[\"pcs\"].value_counts(normalize = True).sort_index()*100"
   ]
  },
  {
   "cell_type": "code",
   "execution_count": 10,
   "metadata": {},
   "outputs": [
    {
     "data": {
      "text/plain": [
       "Retraités / Autres inactifs                                     46.45\n",
       "Employés et Personnels de services                              17.92\n",
       "Professions intermédiaires, Techniciens, Contremaitres et Ag    12.85\n",
       "Ouvriers                                                        12.66\n",
       "Professions libérales et Cadres                                  7.21\n",
       "Artisans, Commercants et Chefs d'entreprises                     2.53\n",
       "Agriculteurs exploitants                                         0.39\n",
       "Name: pcs, dtype: float64"
      ]
     },
     "execution_count": 10,
     "metadata": {},
     "output_type": "execute_result"
    }
   ],
   "source": [
    "# si je veux arrondir : mettre entre parenthèses ()\n",
    "(df[\"pcs\"].value_counts(normalize = True)*100).round(2)"
   ]
  },
  {
   "cell_type": "code",
   "execution_count": 11,
   "metadata": {},
   "outputs": [
    {
     "data": {
      "text/plain": [
       "Retraités / Autres inactifs                                     46.45\n",
       "Employés et Personnels de services                              17.92\n",
       "Professions intermédiaires, Techniciens, Contremaitres et Ag    12.85\n",
       "Ouvriers                                                        12.66\n",
       "Professions libérales et Cadres                                  7.21\n",
       "Artisans, Commercants et Chefs d'entreprises                     2.53\n",
       "Agriculteurs exploitants                                         0.39\n",
       "Name: pcs, dtype: float64"
      ]
     },
     "execution_count": 11,
     "metadata": {},
     "output_type": "execute_result"
    }
   ],
   "source": [
    "# ou alors mettre round avant le *100 (et adapter le nb de décimales conservées):\n",
    "df[\"pcs\"].value_counts(normalize = True).round(4)*100"
   ]
  },
  {
   "cell_type": "code",
   "execution_count": 12,
   "metadata": {},
   "outputs": [
    {
     "data": {
      "text/html": [
       "<div>\n",
       "<style scoped>\n",
       "    .dataframe tbody tr th:only-of-type {\n",
       "        vertical-align: middle;\n",
       "    }\n",
       "\n",
       "    .dataframe tbody tr th {\n",
       "        vertical-align: top;\n",
       "    }\n",
       "\n",
       "    .dataframe thead th {\n",
       "        text-align: right;\n",
       "    }\n",
       "</style>\n",
       "<table border=\"1\" class=\"dataframe\">\n",
       "  <thead>\n",
       "    <tr style=\"text-align: right;\">\n",
       "      <th></th>\n",
       "      <th>Effectif</th>\n",
       "      <th>Pourcentage (%)</th>\n",
       "    </tr>\n",
       "  </thead>\n",
       "  <tbody>\n",
       "    <tr>\n",
       "      <th>Agriculteurs exploitants</th>\n",
       "      <td>4.0</td>\n",
       "      <td>0.4</td>\n",
       "    </tr>\n",
       "    <tr>\n",
       "      <th>Artisans, Commercants et Chefs d'entreprises</th>\n",
       "      <td>26.0</td>\n",
       "      <td>2.5</td>\n",
       "    </tr>\n",
       "    <tr>\n",
       "      <th>Employés et Personnels de services</th>\n",
       "      <td>184.0</td>\n",
       "      <td>17.9</td>\n",
       "    </tr>\n",
       "    <tr>\n",
       "      <th>Ouvriers</th>\n",
       "      <td>130.0</td>\n",
       "      <td>12.7</td>\n",
       "    </tr>\n",
       "    <tr>\n",
       "      <th>Professions intermédiaires, Techniciens, Contremaitres et Ag</th>\n",
       "      <td>132.0</td>\n",
       "      <td>12.9</td>\n",
       "    </tr>\n",
       "    <tr>\n",
       "      <th>Professions libérales et Cadres</th>\n",
       "      <td>74.0</td>\n",
       "      <td>7.2</td>\n",
       "    </tr>\n",
       "    <tr>\n",
       "      <th>Retraités / Autres inactifs</th>\n",
       "      <td>477.0</td>\n",
       "      <td>46.4</td>\n",
       "    </tr>\n",
       "    <tr>\n",
       "      <th>Total</th>\n",
       "      <td>1027.0</td>\n",
       "      <td>100.0</td>\n",
       "    </tr>\n",
       "  </tbody>\n",
       "</table>\n",
       "</div>"
      ],
      "text/plain": [
       "                                                    Effectif  Pourcentage (%)\n",
       "Agriculteurs exploitants                                 4.0              0.4\n",
       "Artisans, Commercants et Chefs d'entreprises            26.0              2.5\n",
       "Employés et Personnels de services                     184.0             17.9\n",
       "Ouvriers                                               130.0             12.7\n",
       "Professions intermédiaires, Techniciens, Contre...     132.0             12.9\n",
       "Professions libérales et Cadres                         74.0              7.2\n",
       "Retraités / Autres inactifs                            477.0             46.4\n",
       "Total                                                 1027.0            100.0"
      ]
     },
     "execution_count": 12,
     "metadata": {},
     "output_type": "execute_result"
    }
   ],
   "source": [
    "# ou avec pyshs\n",
    "pyshs.tri_a_plat(df, \"pcs\")"
   ]
  },
  {
   "cell_type": "markdown",
   "metadata": {},
   "source": [
    "## 2. Calculer la moyenne d'âge par genre"
   ]
  },
  {
   "cell_type": "code",
   "execution_count": 13,
   "metadata": {},
   "outputs": [
    {
     "data": {
      "text/plain": [
       "sexe\n",
       "Femme    46.061798\n",
       "Homme    50.391481\n",
       "Name: age, dtype: float64"
      ]
     },
     "execution_count": 13,
     "metadata": {},
     "output_type": "execute_result"
    }
   ],
   "source": [
    "# je regroupe selon le sexe avec groupby et je fais la moyenne d'âge avec mean: \n",
    "df.groupby(\"sexe\")[\"age\"].mean()"
   ]
  },
  {
   "cell_type": "markdown",
   "metadata": {},
   "source": [
    "## 3. Quelle est la catégorie de diplome ayant en moyenne l'indicateur de confiance dans les institutions (confiance_ind) le plus élevée ?"
   ]
  },
  {
   "cell_type": "code",
   "execution_count": 14,
   "metadata": {},
   "outputs": [
    {
     "data": {
      "text/plain": [
       "'Supérieur médical'"
      ]
     },
     "execution_count": 14,
     "metadata": {},
     "output_type": "execute_result"
    }
   ],
   "source": [
    "#confiance_ind moyenne selon le diplome\n",
    "# je groupe par diplome / je selectione la variable confiance_ind / je fais la moyenne / j'identifie le max :\n",
    "df.groupby(\"diplome\")[\"confiance_ind\"].mean().idxmax()"
   ]
  },
  {
   "cell_type": "code",
   "execution_count": 15,
   "metadata": {},
   "outputs": [
    {
     "data": {
      "text/plain": [
       "diplome\n",
       "Supérieur médical         0.680000\n",
       "Supérieur scientifique    0.626804\n",
       "Supérieur                 0.587374\n",
       "Secondaire                0.542935\n",
       "Intermédiaire             0.524207\n",
       "Primaire                  0.493605\n",
       "Name: confiance_ind, dtype: float64"
      ]
     },
     "execution_count": 15,
     "metadata": {},
     "output_type": "execute_result"
    }
   ],
   "source": [
    "# ou je peux aller regarder directement dans le regroupement réalisé\n",
    "df.groupby(\"diplome\")[\"confiance_ind\"].mean().sort_values(ascending=False)"
   ]
  },
  {
   "cell_type": "markdown",
   "metadata": {},
   "source": [
    "## 4. Calculer le niveau moyen de culture scientifique (connaissance_sci) selon le genre, puis selon l'intérêt pour la politique"
   ]
  },
  {
   "cell_type": "code",
   "execution_count": 16,
   "metadata": {},
   "outputs": [
    {
     "data": {
      "text/plain": [
       "sexe   interetpolitique\n",
       "Femme  Beaucoup            10.375000\n",
       "       Pas du tout          8.910000\n",
       "       Très peu            22.931298\n",
       "       Un peu              18.069767\n",
       "Homme  Beaucoup             7.012346\n",
       "       Pas du tout         23.444444\n",
       "       Très peu            24.540984\n",
       "       Un peu               2.787440\n",
       "Name: connaissance_sci, dtype: float64"
      ]
     },
     "execution_count": 16,
     "metadata": {},
     "output_type": "execute_result"
    }
   ],
   "source": [
    "# calcul connaissance_sci moyenne selon sexe et l'intérêt politique\n",
    "# groupby me permet de passer plusieurs variables de regroupement : .groupby([\"var1\",\"var2\"])\n",
    "df.groupby([\"sexe\", \"interetpolitique\"])[\"connaissance_sci\"].mean()"
   ]
  },
  {
   "cell_type": "code",
   "execution_count": 17,
   "metadata": {},
   "outputs": [],
   "source": [
    "# les résultats semblent surprenants, je fais des tests."
   ]
  },
  {
   "cell_type": "code",
   "execution_count": 18,
   "metadata": {},
   "outputs": [
    {
     "data": {
      "text/plain": [
       "3      358\n",
       "2      271\n",
       "4      242\n",
       "1      140\n",
       "666     16\n",
       "Name: connaissance_sci, dtype: int64"
      ]
     },
     "execution_count": 18,
     "metadata": {},
     "output_type": "execute_result"
    }
   ],
   "source": [
    "df[\"connaissance_sci\"].value_counts()"
   ]
  },
  {
   "cell_type": "code",
   "execution_count": 19,
   "metadata": {},
   "outputs": [],
   "source": [
    "# emilien a visiblement intégré l'antéchrist dans ses données.\n",
    "# soit il tente de nous piéger, soit c'était un recodage volontairement abérant pour exclure des données.\n",
    "# dans ce cas soit on creuse, soit on demande au responsable."
   ]
  },
  {
   "cell_type": "code",
   "execution_count": 20,
   "metadata": {},
   "outputs": [
    {
     "data": {
      "text/plain": [
       "array([  3,   2,   4,   1, 666])"
      ]
     },
     "execution_count": 20,
     "metadata": {},
     "output_type": "execute_result"
    }
   ],
   "source": [
    "# faire le traitement en live\n",
    "df[\"connaissance_sci\"].unique()"
   ]
  },
  {
   "cell_type": "code",
   "execution_count": 21,
   "metadata": {},
   "outputs": [],
   "source": [
    "df[\"recodage_conn\"] = df[\"connaissance_sci\"].replace(666, None)"
   ]
  },
  {
   "cell_type": "code",
   "execution_count": 22,
   "metadata": {},
   "outputs": [
    {
     "data": {
      "text/plain": [
       "sexe   interetpolitique\n",
       "Femme  Beaucoup            2.829545\n",
       "       Pas du tout         2.260000\n",
       "       Très peu            2.656489\n",
       "       Un peu              2.651163\n",
       "Homme  Beaucoup            2.919753\n",
       "       Pas du tout         2.412698\n",
       "       Très peu            2.803279\n",
       "       Un peu              2.787440\n",
       "Name: recodage_conn, dtype: float64"
      ]
     },
     "execution_count": 22,
     "metadata": {},
     "output_type": "execute_result"
    }
   ],
   "source": [
    "df.groupby([\"sexe\", \"interetpolitique\"])[\"recodage_conn\"].mean()"
   ]
  },
  {
   "cell_type": "markdown",
   "metadata": {},
   "source": [
    "## 5. Faire une représentation graphique de la répartition des revenus dans l'échantillon."
   ]
  },
  {
   "cell_type": "code",
   "execution_count": 23,
   "metadata": {},
   "outputs": [
    {
     "data": {
      "text/plain": [
       "<AxesSubplot:>"
      ]
     },
     "execution_count": 23,
     "metadata": {},
     "output_type": "execute_result"
    },
    {
     "data": {
      "image/png": "[encoded data removed]",
      "text/plain": [
       "<Figure size 432x288 with 1 Axes>"
      ]
     },
     "metadata": {
      "needs_background": "light"
     },
     "output_type": "display_data"
    }
   ],
   "source": [
    "# 5. Faire une représentation graphique de la répartition des revenus dans l'échantillon.\n",
    "df[\"revenus\"].value_counts().plot(kind = \"barh\")"
   ]
  },
  {
   "cell_type": "markdown",
   "metadata": {},
   "source": [
    "## 6. Faire un tableau croisant le niveau de diplome et l'intérêt pour la science"
   ]
  },
  {
   "cell_type": "code",
   "execution_count": 24,
   "metadata": {
    "scrolled": true
   },
   "outputs": [
    {
     "data": {
      "text/html": [
       "<div>\n",
       "<style scoped>\n",
       "    .dataframe tbody tr th:only-of-type {\n",
       "        vertical-align: middle;\n",
       "    }\n",
       "\n",
       "    .dataframe tbody tr th {\n",
       "        vertical-align: top;\n",
       "    }\n",
       "\n",
       "    .dataframe thead th {\n",
       "        text-align: right;\n",
       "    }\n",
       "</style>\n",
       "<table border=\"1\" class=\"dataframe\">\n",
       "  <thead>\n",
       "    <tr style=\"text-align: right;\">\n",
       "      <th>interetscience</th>\n",
       "      <th>Non</th>\n",
       "      <th>Oui</th>\n",
       "    </tr>\n",
       "    <tr>\n",
       "      <th>diplome</th>\n",
       "      <th></th>\n",
       "      <th></th>\n",
       "    </tr>\n",
       "  </thead>\n",
       "  <tbody>\n",
       "    <tr>\n",
       "      <th>Intermédiaire</th>\n",
       "      <td>201</td>\n",
       "      <td>146</td>\n",
       "    </tr>\n",
       "    <tr>\n",
       "      <th>Primaire</th>\n",
       "      <td>103</td>\n",
       "      <td>69</td>\n",
       "    </tr>\n",
       "    <tr>\n",
       "      <th>Secondaire</th>\n",
       "      <td>74</td>\n",
       "      <td>110</td>\n",
       "    </tr>\n",
       "    <tr>\n",
       "      <th>Supérieur</th>\n",
       "      <td>71</td>\n",
       "      <td>126</td>\n",
       "    </tr>\n",
       "    <tr>\n",
       "      <th>Supérieur médical</th>\n",
       "      <td>7</td>\n",
       "      <td>18</td>\n",
       "    </tr>\n",
       "    <tr>\n",
       "      <th>Supérieur scientifique</th>\n",
       "      <td>8</td>\n",
       "      <td>89</td>\n",
       "    </tr>\n",
       "  </tbody>\n",
       "</table>\n",
       "</div>"
      ],
      "text/plain": [
       "interetscience          Non  Oui\n",
       "diplome                         \n",
       "Intermédiaire           201  146\n",
       "Primaire                103   69\n",
       "Secondaire               74  110\n",
       "Supérieur                71  126\n",
       "Supérieur médical         7   18\n",
       "Supérieur scientifique    8   89"
      ]
     },
     "execution_count": 24,
     "metadata": {},
     "output_type": "execute_result"
    }
   ],
   "source": [
    "#6. Faire un tableau croisant le niveau de diplome et l'intérêt pour la science\n",
    "pd.crosstab(df[\"diplome\"], df[\"interetscience\"])"
   ]
  },
  {
   "cell_type": "code",
   "execution_count": 25,
   "metadata": {},
   "outputs": [
    {
     "data": {
      "text/html": [
       "<div>\n",
       "<style scoped>\n",
       "    .dataframe tbody tr th:only-of-type {\n",
       "        vertical-align: middle;\n",
       "    }\n",
       "\n",
       "    .dataframe tbody tr th {\n",
       "        vertical-align: top;\n",
       "    }\n",
       "\n",
       "    .dataframe thead th {\n",
       "        text-align: right;\n",
       "    }\n",
       "</style>\n",
       "<table border=\"1\" class=\"dataframe\">\n",
       "  <thead>\n",
       "    <tr style=\"text-align: right;\">\n",
       "      <th>interetscience</th>\n",
       "      <th>Non</th>\n",
       "      <th>Oui</th>\n",
       "    </tr>\n",
       "    <tr>\n",
       "      <th>diplome</th>\n",
       "      <th></th>\n",
       "      <th></th>\n",
       "    </tr>\n",
       "  </thead>\n",
       "  <tbody>\n",
       "    <tr>\n",
       "      <th>Intermédiaire</th>\n",
       "      <td>57.925072</td>\n",
       "      <td>42.074928</td>\n",
       "    </tr>\n",
       "    <tr>\n",
       "      <th>Primaire</th>\n",
       "      <td>59.883721</td>\n",
       "      <td>40.116279</td>\n",
       "    </tr>\n",
       "    <tr>\n",
       "      <th>Secondaire</th>\n",
       "      <td>40.217391</td>\n",
       "      <td>59.782609</td>\n",
       "    </tr>\n",
       "    <tr>\n",
       "      <th>Supérieur</th>\n",
       "      <td>36.040609</td>\n",
       "      <td>63.959391</td>\n",
       "    </tr>\n",
       "    <tr>\n",
       "      <th>Supérieur médical</th>\n",
       "      <td>28.000000</td>\n",
       "      <td>72.000000</td>\n",
       "    </tr>\n",
       "    <tr>\n",
       "      <th>Supérieur scientifique</th>\n",
       "      <td>8.247423</td>\n",
       "      <td>91.752577</td>\n",
       "    </tr>\n",
       "    <tr>\n",
       "      <th>All</th>\n",
       "      <td>45.401174</td>\n",
       "      <td>54.598826</td>\n",
       "    </tr>\n",
       "  </tbody>\n",
       "</table>\n",
       "</div>"
      ],
      "text/plain": [
       "interetscience                Non        Oui\n",
       "diplome                                     \n",
       "Intermédiaire           57.925072  42.074928\n",
       "Primaire                59.883721  40.116279\n",
       "Secondaire              40.217391  59.782609\n",
       "Supérieur               36.040609  63.959391\n",
       "Supérieur médical       28.000000  72.000000\n",
       "Supérieur scientifique   8.247423  91.752577\n",
       "All                     45.401174  54.598826"
      ]
     },
     "execution_count": 25,
     "metadata": {},
     "output_type": "execute_result"
    }
   ],
   "source": [
    "# En mieux\n",
    "t1 = pd.crosstab(df[\"diplome\"], df[\"interetscience\"],normalize=\"index\",margins=True)*100\n",
    "t1"
   ]
  },
  {
   "cell_type": "markdown",
   "metadata": {},
   "source": [
    "## 7. Faire un tableau croisant l'intérêt pour la politique et l'intérêt pour la science"
   ]
  },
  {
   "cell_type": "code",
   "execution_count": 26,
   "metadata": {},
   "outputs": [
    {
     "data": {
      "text/html": [
       "<div>\n",
       "<style scoped>\n",
       "    .dataframe tbody tr th:only-of-type {\n",
       "        vertical-align: middle;\n",
       "    }\n",
       "\n",
       "    .dataframe tbody tr th {\n",
       "        vertical-align: top;\n",
       "    }\n",
       "\n",
       "    .dataframe thead th {\n",
       "        text-align: right;\n",
       "    }\n",
       "</style>\n",
       "<table border=\"1\" class=\"dataframe\">\n",
       "  <thead>\n",
       "    <tr style=\"text-align: right;\">\n",
       "      <th>interetscience</th>\n",
       "      <th>Non</th>\n",
       "      <th>Oui</th>\n",
       "    </tr>\n",
       "    <tr>\n",
       "      <th>interetpolitique</th>\n",
       "      <th></th>\n",
       "      <th></th>\n",
       "    </tr>\n",
       "  </thead>\n",
       "  <tbody>\n",
       "    <tr>\n",
       "      <th>Beaucoup</th>\n",
       "      <td>24.497992</td>\n",
       "      <td>75.502008</td>\n",
       "    </tr>\n",
       "    <tr>\n",
       "      <th>Pas du tout</th>\n",
       "      <td>68.098160</td>\n",
       "      <td>31.901840</td>\n",
       "    </tr>\n",
       "    <tr>\n",
       "      <th>Très peu</th>\n",
       "      <td>58.854167</td>\n",
       "      <td>41.145833</td>\n",
       "    </tr>\n",
       "    <tr>\n",
       "      <th>Un peu</th>\n",
       "      <td>42.890995</td>\n",
       "      <td>57.109005</td>\n",
       "    </tr>\n",
       "    <tr>\n",
       "      <th>All</th>\n",
       "      <td>45.419103</td>\n",
       "      <td>54.580897</td>\n",
       "    </tr>\n",
       "  </tbody>\n",
       "</table>\n",
       "</div>"
      ],
      "text/plain": [
       "interetscience          Non        Oui\n",
       "interetpolitique                      \n",
       "Beaucoup          24.497992  75.502008\n",
       "Pas du tout       68.098160  31.901840\n",
       "Très peu          58.854167  41.145833\n",
       "Un peu            42.890995  57.109005\n",
       "All               45.419103  54.580897"
      ]
     },
     "execution_count": 26,
     "metadata": {},
     "output_type": "execute_result"
    }
   ],
   "source": [
    "# 7. Faire un tableau croisant l'intérêt pour la politique et l'intérêt pour la science\n",
    "t2 = pd.crosstab(df[\"interetpolitique\"], df[\"interetscience\"],normalize=\"index\",margins=True)*100\n",
    "t2"
   ]
  },
  {
   "cell_type": "markdown",
   "metadata": {},
   "source": [
    "## 8. Regrouper ces 2 tableaux en un, et enregistrez le sous un format Excel"
   ]
  },
  {
   "cell_type": "code",
   "execution_count": 27,
   "metadata": {},
   "outputs": [
    {
     "data": {
      "text/html": [
       "<div>\n",
       "<style scoped>\n",
       "    .dataframe tbody tr th:only-of-type {\n",
       "        vertical-align: middle;\n",
       "    }\n",
       "\n",
       "    .dataframe tbody tr th {\n",
       "        vertical-align: top;\n",
       "    }\n",
       "\n",
       "    .dataframe thead th {\n",
       "        text-align: right;\n",
       "    }\n",
       "</style>\n",
       "<table border=\"1\" class=\"dataframe\">\n",
       "  <thead>\n",
       "    <tr style=\"text-align: right;\">\n",
       "      <th>interetscience</th>\n",
       "      <th>Non</th>\n",
       "      <th>Oui</th>\n",
       "    </tr>\n",
       "  </thead>\n",
       "  <tbody>\n",
       "    <tr>\n",
       "      <th>Intermédiaire</th>\n",
       "      <td>57.925072</td>\n",
       "      <td>42.074928</td>\n",
       "    </tr>\n",
       "    <tr>\n",
       "      <th>Primaire</th>\n",
       "      <td>59.883721</td>\n",
       "      <td>40.116279</td>\n",
       "    </tr>\n",
       "    <tr>\n",
       "      <th>Secondaire</th>\n",
       "      <td>40.217391</td>\n",
       "      <td>59.782609</td>\n",
       "    </tr>\n",
       "    <tr>\n",
       "      <th>Supérieur</th>\n",
       "      <td>36.040609</td>\n",
       "      <td>63.959391</td>\n",
       "    </tr>\n",
       "    <tr>\n",
       "      <th>Supérieur médical</th>\n",
       "      <td>28.000000</td>\n",
       "      <td>72.000000</td>\n",
       "    </tr>\n",
       "    <tr>\n",
       "      <th>Supérieur scientifique</th>\n",
       "      <td>8.247423</td>\n",
       "      <td>91.752577</td>\n",
       "    </tr>\n",
       "    <tr>\n",
       "      <th>All</th>\n",
       "      <td>45.401174</td>\n",
       "      <td>54.598826</td>\n",
       "    </tr>\n",
       "    <tr>\n",
       "      <th>Beaucoup</th>\n",
       "      <td>24.497992</td>\n",
       "      <td>75.502008</td>\n",
       "    </tr>\n",
       "    <tr>\n",
       "      <th>Pas du tout</th>\n",
       "      <td>68.098160</td>\n",
       "      <td>31.901840</td>\n",
       "    </tr>\n",
       "    <tr>\n",
       "      <th>Très peu</th>\n",
       "      <td>58.854167</td>\n",
       "      <td>41.145833</td>\n",
       "    </tr>\n",
       "    <tr>\n",
       "      <th>Un peu</th>\n",
       "      <td>42.890995</td>\n",
       "      <td>57.109005</td>\n",
       "    </tr>\n",
       "    <tr>\n",
       "      <th>All</th>\n",
       "      <td>45.419103</td>\n",
       "      <td>54.580897</td>\n",
       "    </tr>\n",
       "  </tbody>\n",
       "</table>\n",
       "</div>"
      ],
      "text/plain": [
       "interetscience                Non        Oui\n",
       "Intermédiaire           57.925072  42.074928\n",
       "Primaire                59.883721  40.116279\n",
       "Secondaire              40.217391  59.782609\n",
       "Supérieur               36.040609  63.959391\n",
       "Supérieur médical       28.000000  72.000000\n",
       "Supérieur scientifique   8.247423  91.752577\n",
       "All                     45.401174  54.598826\n",
       "Beaucoup                24.497992  75.502008\n",
       "Pas du tout             68.098160  31.901840\n",
       "Très peu                58.854167  41.145833\n",
       "Un peu                  42.890995  57.109005\n",
       "All                     45.419103  54.580897"
      ]
     },
     "execution_count": 27,
     "metadata": {},
     "output_type": "execute_result"
    }
   ],
   "source": [
    "# 8. Regrouper ces 2 tableaux en 1 seul\n",
    "pd.concat([t1, t2])"
   ]
  },
  {
   "cell_type": "code",
   "execution_count": 28,
   "metadata": {},
   "outputs": [
    {
     "data": {
      "text/html": [
       "<div>\n",
       "<style scoped>\n",
       "    .dataframe tbody tr th:only-of-type {\n",
       "        vertical-align: middle;\n",
       "    }\n",
       "\n",
       "    .dataframe tbody tr th {\n",
       "        vertical-align: top;\n",
       "    }\n",
       "\n",
       "    .dataframe thead th {\n",
       "        text-align: right;\n",
       "    }\n",
       "</style>\n",
       "<table border=\"1\" class=\"dataframe\">\n",
       "  <thead>\n",
       "    <tr style=\"text-align: right;\">\n",
       "      <th></th>\n",
       "      <th>interetscience</th>\n",
       "      <th>Non</th>\n",
       "      <th>Oui</th>\n",
       "    </tr>\n",
       "  </thead>\n",
       "  <tbody>\n",
       "    <tr>\n",
       "      <th rowspan=\"7\" valign=\"top\">Diplome</th>\n",
       "      <th>Intermédiaire</th>\n",
       "      <td>57.925072</td>\n",
       "      <td>42.074928</td>\n",
       "    </tr>\n",
       "    <tr>\n",
       "      <th>Primaire</th>\n",
       "      <td>59.883721</td>\n",
       "      <td>40.116279</td>\n",
       "    </tr>\n",
       "    <tr>\n",
       "      <th>Secondaire</th>\n",
       "      <td>40.217391</td>\n",
       "      <td>59.782609</td>\n",
       "    </tr>\n",
       "    <tr>\n",
       "      <th>Supérieur</th>\n",
       "      <td>36.040609</td>\n",
       "      <td>63.959391</td>\n",
       "    </tr>\n",
       "    <tr>\n",
       "      <th>Supérieur médical</th>\n",
       "      <td>28.000000</td>\n",
       "      <td>72.000000</td>\n",
       "    </tr>\n",
       "    <tr>\n",
       "      <th>Supérieur scientifique</th>\n",
       "      <td>8.247423</td>\n",
       "      <td>91.752577</td>\n",
       "    </tr>\n",
       "    <tr>\n",
       "      <th>All</th>\n",
       "      <td>45.401174</td>\n",
       "      <td>54.598826</td>\n",
       "    </tr>\n",
       "    <tr>\n",
       "      <th rowspan=\"5\" valign=\"top\">Intérêt politique</th>\n",
       "      <th>Beaucoup</th>\n",
       "      <td>24.497992</td>\n",
       "      <td>75.502008</td>\n",
       "    </tr>\n",
       "    <tr>\n",
       "      <th>Pas du tout</th>\n",
       "      <td>68.098160</td>\n",
       "      <td>31.901840</td>\n",
       "    </tr>\n",
       "    <tr>\n",
       "      <th>Très peu</th>\n",
       "      <td>58.854167</td>\n",
       "      <td>41.145833</td>\n",
       "    </tr>\n",
       "    <tr>\n",
       "      <th>Un peu</th>\n",
       "      <td>42.890995</td>\n",
       "      <td>57.109005</td>\n",
       "    </tr>\n",
       "    <tr>\n",
       "      <th>All</th>\n",
       "      <td>45.419103</td>\n",
       "      <td>54.580897</td>\n",
       "    </tr>\n",
       "  </tbody>\n",
       "</table>\n",
       "</div>"
      ],
      "text/plain": [
       "interetscience                                  Non        Oui\n",
       "Diplome           Intermédiaire           57.925072  42.074928\n",
       "                  Primaire                59.883721  40.116279\n",
       "                  Secondaire              40.217391  59.782609\n",
       "                  Supérieur               36.040609  63.959391\n",
       "                  Supérieur médical       28.000000  72.000000\n",
       "                  Supérieur scientifique   8.247423  91.752577\n",
       "                  All                     45.401174  54.598826\n",
       "Intérêt politique Beaucoup                24.497992  75.502008\n",
       "                  Pas du tout             68.098160  31.901840\n",
       "                  Très peu                58.854167  41.145833\n",
       "                  Un peu                  42.890995  57.109005\n",
       "                  All                     45.419103  54.580897"
      ]
     },
     "execution_count": 28,
     "metadata": {},
     "output_type": "execute_result"
    }
   ],
   "source": [
    "# on peut améliorer la mise en forme en utilisant un dictionaire : {\"Nom1\" : tableau1, \"Nom2\" : tableau2}\n",
    "pd.concat({\"Diplome\" : t1, \"Intérêt politique\" : t2})"
   ]
  },
  {
   "cell_type": "code",
   "execution_count": 29,
   "metadata": {},
   "outputs": [
    {
     "name": "stdout",
     "output_type": "stream",
     "text": [
      "Attention, les totaux par tableaux sont différents (valeurs manquantes)\n"
     ]
    },
    {
     "data": {
      "text/html": [
       "<div>\n",
       "<style scoped>\n",
       "    .dataframe tbody tr th:only-of-type {\n",
       "        vertical-align: middle;\n",
       "    }\n",
       "\n",
       "    .dataframe tbody tr th {\n",
       "        vertical-align: top;\n",
       "    }\n",
       "\n",
       "    .dataframe thead th {\n",
       "        text-align: right;\n",
       "    }\n",
       "</style>\n",
       "<table border=\"1\" class=\"dataframe\">\n",
       "  <thead>\n",
       "    <tr style=\"text-align: right;\">\n",
       "      <th></th>\n",
       "      <th></th>\n",
       "      <th>Non</th>\n",
       "      <th>Oui</th>\n",
       "      <th>Total</th>\n",
       "      <th>Distribution</th>\n",
       "    </tr>\n",
       "    <tr>\n",
       "      <th>Variable</th>\n",
       "      <th>Modalités</th>\n",
       "      <th></th>\n",
       "      <th></th>\n",
       "      <th></th>\n",
       "      <th></th>\n",
       "    </tr>\n",
       "  </thead>\n",
       "  <tbody>\n",
       "    <tr>\n",
       "      <th rowspan=\"7\" valign=\"top\">diplome (p = 0.000)</th>\n",
       "      <th>Intermédiaire</th>\n",
       "      <td>201 (57.9%)</td>\n",
       "      <td>146 (42.1%)</td>\n",
       "      <td>347 (100%)</td>\n",
       "      <td>33.9%</td>\n",
       "    </tr>\n",
       "    <tr>\n",
       "      <th>Primaire</th>\n",
       "      <td>103 (59.9%)</td>\n",
       "      <td>69 (40.1%)</td>\n",
       "      <td>172 (100%)</td>\n",
       "      <td>16.8%</td>\n",
       "    </tr>\n",
       "    <tr>\n",
       "      <th>Secondaire</th>\n",
       "      <td>74 (40.2%)</td>\n",
       "      <td>110 (59.8%)</td>\n",
       "      <td>184 (100%)</td>\n",
       "      <td>18.0%</td>\n",
       "    </tr>\n",
       "    <tr>\n",
       "      <th>Supérieur</th>\n",
       "      <td>71 (36.0%)</td>\n",
       "      <td>126 (64.0%)</td>\n",
       "      <td>197 (100%)</td>\n",
       "      <td>19.4%</td>\n",
       "    </tr>\n",
       "    <tr>\n",
       "      <th>Supérieur médical</th>\n",
       "      <td>7 (28.0%)</td>\n",
       "      <td>18 (72.0%)</td>\n",
       "      <td>25 (100%)</td>\n",
       "      <td>2.4%</td>\n",
       "    </tr>\n",
       "    <tr>\n",
       "      <th>Supérieur scientifique</th>\n",
       "      <td>8 (8.2%)</td>\n",
       "      <td>89 (91.8%)</td>\n",
       "      <td>97 (100%)</td>\n",
       "      <td>9.5%</td>\n",
       "    </tr>\n",
       "    <tr>\n",
       "      <th>Total</th>\n",
       "      <td>464 (45.4%)</td>\n",
       "      <td>558 (54.6%)</td>\n",
       "      <td>1022 (100%)</td>\n",
       "      <td>100.0%</td>\n",
       "    </tr>\n",
       "    <tr>\n",
       "      <th rowspan=\"5\" valign=\"top\">interetpolitique (p = 0.000)</th>\n",
       "      <th>Beaucoup</th>\n",
       "      <td>61 (24.5%)</td>\n",
       "      <td>188 (75.5%)</td>\n",
       "      <td>249 (100%)</td>\n",
       "      <td>24.3%</td>\n",
       "    </tr>\n",
       "    <tr>\n",
       "      <th>Pas du tout</th>\n",
       "      <td>111 (68.1%)</td>\n",
       "      <td>52 (31.9%)</td>\n",
       "      <td>163 (100%)</td>\n",
       "      <td>15.9%</td>\n",
       "    </tr>\n",
       "    <tr>\n",
       "      <th>Très peu</th>\n",
       "      <td>113 (58.9%)</td>\n",
       "      <td>79 (41.1%)</td>\n",
       "      <td>192 (100%)</td>\n",
       "      <td>18.7%</td>\n",
       "    </tr>\n",
       "    <tr>\n",
       "      <th>Un peu</th>\n",
       "      <td>181 (42.9%)</td>\n",
       "      <td>241 (57.1%)</td>\n",
       "      <td>422 (100%)</td>\n",
       "      <td>41.1%</td>\n",
       "    </tr>\n",
       "    <tr>\n",
       "      <th>Total</th>\n",
       "      <td>466 (45.4%)</td>\n",
       "      <td>560 (54.6%)</td>\n",
       "      <td>1026 (100%)</td>\n",
       "      <td>100.00000000000001%</td>\n",
       "    </tr>\n",
       "  </tbody>\n",
       "</table>\n",
       "</div>"
      ],
      "text/plain": [
       "                                                             Non          Oui  \\\n",
       "Variable                     Modalités                                          \n",
       "diplome (p = 0.000)          Intermédiaire           201 (57.9%)  146 (42.1%)   \n",
       "                             Primaire                103 (59.9%)   69 (40.1%)   \n",
       "                             Secondaire               74 (40.2%)  110 (59.8%)   \n",
       "                             Supérieur                71 (36.0%)  126 (64.0%)   \n",
       "                             Supérieur médical         7 (28.0%)   18 (72.0%)   \n",
       "                             Supérieur scientifique     8 (8.2%)   89 (91.8%)   \n",
       "                             Total                   464 (45.4%)  558 (54.6%)   \n",
       "interetpolitique (p = 0.000) Beaucoup                 61 (24.5%)  188 (75.5%)   \n",
       "                             Pas du tout             111 (68.1%)   52 (31.9%)   \n",
       "                             Très peu                113 (58.9%)   79 (41.1%)   \n",
       "                             Un peu                  181 (42.9%)  241 (57.1%)   \n",
       "                             Total                   466 (45.4%)  560 (54.6%)   \n",
       "\n",
       "                                                           Total  \\\n",
       "Variable                     Modalités                             \n",
       "diplome (p = 0.000)          Intermédiaire            347 (100%)   \n",
       "                             Primaire                 172 (100%)   \n",
       "                             Secondaire               184 (100%)   \n",
       "                             Supérieur                197 (100%)   \n",
       "                             Supérieur médical         25 (100%)   \n",
       "                             Supérieur scientifique    97 (100%)   \n",
       "                             Total                   1022 (100%)   \n",
       "interetpolitique (p = 0.000) Beaucoup                 249 (100%)   \n",
       "                             Pas du tout              163 (100%)   \n",
       "                             Très peu                 192 (100%)   \n",
       "                             Un peu                   422 (100%)   \n",
       "                             Total                   1026 (100%)   \n",
       "\n",
       "                                                            Distribution  \n",
       "Variable                     Modalités                                    \n",
       "diplome (p = 0.000)          Intermédiaire                         33.9%  \n",
       "                             Primaire                              16.8%  \n",
       "                             Secondaire                            18.0%  \n",
       "                             Supérieur                             19.4%  \n",
       "                             Supérieur médical                      2.4%  \n",
       "                             Supérieur scientifique                 9.5%  \n",
       "                             Total                                100.0%  \n",
       "interetpolitique (p = 0.000) Beaucoup                              24.3%  \n",
       "                             Pas du tout                           15.9%  \n",
       "                             Très peu                              18.7%  \n",
       "                             Un peu                                41.1%  \n",
       "                             Total                   100.00000000000001%  "
      ]
     },
     "execution_count": 29,
     "metadata": {},
     "output_type": "execute_result"
    }
   ],
   "source": [
    "# la même chose avec pyshs :\n",
    "pyshs.tableau_croise_multiple(df,\"interetscience\", [\"diplome\", \"interetpolitique\"])"
   ]
  },
  {
   "cell_type": "markdown",
   "metadata": {},
   "source": [
    "### (8. suite) Enregistrer la sorie sous excel "
   ]
  },
  {
   "cell_type": "code",
   "execution_count": 30,
   "metadata": {},
   "outputs": [
    {
     "name": "stdout",
     "output_type": "stream",
     "text": [
      "Attention, les totaux par tableaux sont différents (valeurs manquantes)\n"
     ]
    }
   ],
   "source": [
    "# j'utilise .to_excel(\"nom_souhaité\")\n",
    "\n",
    "# pour la version pd.concat :\n",
    "pd.concat({\"Diplome\" : t1, \"Intérêt politique\" : t2}).to_excel(\"tableau_groupe.xlsx\")\n",
    "# idem pour la version pyshs : \n",
    "pyshs.tableau_croise_multiple(df,\"interetscience\", [\"diplome\", \"interetpolitique\"]).to_excel(\"tableau_pyshs.xlsx\")"
   ]
  },
  {
   "cell_type": "markdown",
   "metadata": {},
   "source": [
    "## 9. Recodez l'âge en catégories (18/25/35/45/55/65/+) en utilisant à la fois la méthode apply, puis en regardant la fonction cut de Pandas"
   ]
  },
  {
   "cell_type": "code",
   "execution_count": 31,
   "metadata": {},
   "outputs": [],
   "source": [
    "# ICI : la question peut se poser de savoir comment on souhaiter gérer les bornes.\n",
    "# je veux que les <25 ? ou je veux aussi ceux de 25 ?\n",
    "# -> les moins de 25 (jusqu'à 24), puis les 25-34, 35-45, etc. ?\n",
    "# -> ou les 18-25 puis les 26-35, etc. ?\n",
    "# pour faciliter la comparaison avec pd.cut je pars sur <= 25, etc.\n",
    "\n",
    "def recodage_age(entree):\n",
    "    if entree <=25:\n",
    "        return \"18 à 25\"\n",
    "    elif entree <=35:\n",
    "        return \"26 à 35\"\n",
    "    elif entree<=45:\n",
    "        return \"36 à 45\"\n",
    "    elif entree <=55:\n",
    "        return \"46 à 55\"\n",
    "    elif entree <=65:\n",
    "        return \"56 à 65\"\n",
    "    else:\n",
    "        return \"66 et plus\""
   ]
  },
  {
   "cell_type": "code",
   "execution_count": 32,
   "metadata": {},
   "outputs": [
    {
     "name": "stdout",
     "output_type": "stream",
     "text": [
      "18 à 25\n",
      "26 à 35\n",
      "36 à 45\n",
      "46 à 55\n",
      "56 à 65\n",
      "66 et plus\n"
     ]
    }
   ],
   "source": [
    "#test\n",
    "for i in [20, 30, 40, 50, 60, 70]:\n",
    "    print(recodage_age(i))"
   ]
  },
  {
   "cell_type": "code",
   "execution_count": 33,
   "metadata": {},
   "outputs": [],
   "source": [
    "df[\"age_recod1\"] = df[\"age\"].apply(recodage_age)"
   ]
  },
  {
   "cell_type": "code",
   "execution_count": 34,
   "metadata": {},
   "outputs": [
    {
     "data": {
      "text/plain": [
       "56 à 65       201\n",
       "36 à 45       200\n",
       "66 et plus    185\n",
       "26 à 35       180\n",
       "46 à 55       141\n",
       "18 à 25       120\n",
       "Name: age_recod1, dtype: int64"
      ]
     },
     "execution_count": 34,
     "metadata": {},
     "output_type": "execute_result"
    }
   ],
   "source": [
    "df[\"age_recod1\"].value_counts()"
   ]
  },
  {
   "cell_type": "markdown",
   "metadata": {},
   "source": [
    "## Documentation pd.cut : \n",
    "pd.cut(\n",
    "    x,\n",
    "    bins,\n",
    "    right: bool = True,\n",
    "    labels=None,\n",
    "    retbins: bool = False,\n",
    "    precision: int = 3,\n",
    "    include_lowest: bool = False,\n",
    "    duplicates: str = 'raise',\n",
    "    ordered: bool = True,\n",
    ")\n",
    "\n",
    "Docstring:\n",
    "Bin values into discrete intervals.\n",
    "\n",
    "Use `cut` when you need to segment and sort data values into bins. This\n",
    "function is also useful for going from a continuous variable to a\n",
    "categorical variable. For example, `cut` could convert ages to groups of\n",
    "age ranges. Supports binning into an equal number of bins, or a\n",
    "pre-specified array of bins.\n"
   ]
  },
  {
   "cell_type": "code",
   "execution_count": 35,
   "metadata": {},
   "outputs": [
    {
     "data": {
      "text/plain": [
       "(55, 65]    201\n",
       "(35, 45]    200\n",
       "(65, 99]    185\n",
       "(25, 35]    180\n",
       "(45, 55]    141\n",
       "(18, 25]    113\n",
       "Name: age_recod2, dtype: int64"
      ]
     },
     "execution_count": 35,
     "metadata": {},
     "output_type": "execute_result"
    }
   ],
   "source": [
    "# Pour la dernière catégorie : pensez à vérifier l'age max avant de fixer vos bornes\n",
    "df[\"age_recod2\"] = pd.cut(x=df[\"age\"], bins=[18, 25, 35, 45, 55, 65, 99])\n",
    "df[\"age_recod2\"].value_counts()"
   ]
  },
  {
   "cell_type": "code",
   "execution_count": 36,
   "metadata": {},
   "outputs": [],
   "source": [
    "# ici petit souci : nos 18 ans ne sont pas pris en compte.\n",
    "# je peux feinter en prenant une première borne à 17 ans.\n",
    "# ou alors en précisant le comportement souhaité dans les paramètres de pd.cut\n",
    "# de base : right=True / include_lowest=False"
   ]
  },
  {
   "cell_type": "code",
   "execution_count": 37,
   "metadata": {},
   "outputs": [
    {
     "data": {
      "text/plain": [
       "55 à 65       201\n",
       "35 à 45       200\n",
       "65 et plus    185\n",
       "25 à 35       180\n",
       "45 à 55       141\n",
       "18 à 25       120\n",
       "Name: age_recod2, dtype: int64"
      ]
     },
     "execution_count": 37,
     "metadata": {},
     "output_type": "execute_result"
    }
   ],
   "source": [
    "# si je veux ajouter des labels :\n",
    "df[\"age_recod2\"] = pd.cut(x=df[\"age\"],\n",
    "                          bins=[17, 25, 35, 45, 55, 65, 99],\n",
    "                          labels=[\"18 à 25\", \"25 à 35\", \"35 à 45\", \"45 à 55\", \"55 à 65\", \"65 et plus\"])\n",
    "# faire une sortie pour comparer\n",
    "df[\"age_recod2\"].value_counts()"
   ]
  },
  {
   "cell_type": "markdown",
   "metadata": {},
   "source": [
    "### Exemples de comportement avec right et include_lowest"
   ]
  },
  {
   "cell_type": "code",
   "execution_count": 38,
   "metadata": {},
   "outputs": [
    {
     "data": {
      "text/plain": [
       "(55, 65]    201\n",
       "(35, 45]    200\n",
       "(65, 99]    185\n",
       "(25, 35]    180\n",
       "(45, 55]    141\n",
       "(18, 25]    113\n",
       "Name: age_recod3, dtype: int64"
      ]
     },
     "execution_count": 38,
     "metadata": {},
     "output_type": "execute_result"
    }
   ],
   "source": [
    "# Exemple :\n",
    "# comportement de base mais en faisant appraitre right et include_lowest pour l'explication\n",
    "# j'enlève les labels pour voir les catégories créées\n",
    "\n",
    "df[\"age_recod3\"] = pd.cut(x=df[\"age\"],\n",
    "                          bins=[18, 25, 35, 45, 55, 65, 99],\n",
    "                          right=True,\n",
    "                          include_lowest=False)\n",
    "\n",
    "df[\"age_recod3\"].value_counts()\n",
    "# ici : (18, 25]    113"
   ]
  },
  {
   "cell_type": "code",
   "execution_count": 39,
   "metadata": {},
   "outputs": [
    {
     "data": {
      "text/plain": [
       "(55.0, 65.0]      201\n",
       "(35.0, 45.0]      200\n",
       "(65.0, 99.0]      185\n",
       "(25.0, 35.0]      180\n",
       "(45.0, 55.0]      141\n",
       "(17.999, 25.0]    120\n",
       "Name: age_recod4, dtype: int64"
      ]
     },
     "execution_count": 39,
     "metadata": {},
     "output_type": "execute_result"
    }
   ],
   "source": [
    "# exemple : include_lowest=True\n",
    "df[\"age_recod4\"] = pd.cut(x=df[\"age\"],\n",
    "                          bins=[18, 25, 35, 45, 55, 65, 99],\n",
    "                          right=True,\n",
    "                          include_lowest=True)\n",
    "\n",
    "df[\"age_recod4\"].value_counts()\n",
    "# ici (17.999, 25.0]    120"
   ]
  },
  {
   "cell_type": "code",
   "execution_count": 40,
   "metadata": {},
   "outputs": [
    {
     "data": {
      "text/plain": [
       "[65, 99)    206\n",
       "[55, 65)    196\n",
       "[35, 45)    194\n",
       "[25, 35)    185\n",
       "[45, 55)    144\n",
       "[18, 25)    102\n",
       "Name: age_recod5, dtype: int64"
      ]
     },
     "execution_count": 40,
     "metadata": {},
     "output_type": "execute_result"
    }
   ],
   "source": [
    "# exemple : right=false (dans ce cas la valeur de include_lowest n'influence pas)\n",
    "df[\"age_recod5\"] = pd.cut(x=df[\"age\"],\n",
    "                          bins=[18, 25, 35, 45, 55, 65, 99],\n",
    "                          right=False,\n",
    "                          include_lowest=False)\n",
    "\n",
    "df[\"age_recod5\"].value_counts()"
   ]
  },
  {
   "cell_type": "markdown",
   "metadata": {},
   "source": [
    "### différence entre les recodages"
   ]
  },
  {
   "cell_type": "code",
   "execution_count": 41,
   "metadata": {
    "scrolled": true
   },
   "outputs": [
    {
     "data": {
      "text/html": [
       "<div>\n",
       "<style scoped>\n",
       "    .dataframe tbody tr th:only-of-type {\n",
       "        vertical-align: middle;\n",
       "    }\n",
       "\n",
       "    .dataframe tbody tr th {\n",
       "        vertical-align: top;\n",
       "    }\n",
       "\n",
       "    .dataframe thead th {\n",
       "        text-align: right;\n",
       "    }\n",
       "</style>\n",
       "<table border=\"1\" class=\"dataframe\">\n",
       "  <thead>\n",
       "    <tr style=\"text-align: right;\">\n",
       "      <th>age_recod4</th>\n",
       "      <th>(17.999, 25.0]</th>\n",
       "      <th>(25.0, 35.0]</th>\n",
       "      <th>(35.0, 45.0]</th>\n",
       "      <th>(45.0, 55.0]</th>\n",
       "      <th>(55.0, 65.0]</th>\n",
       "      <th>(65.0, 99.0]</th>\n",
       "      <th>All</th>\n",
       "    </tr>\n",
       "    <tr>\n",
       "      <th>age_recod1</th>\n",
       "      <th></th>\n",
       "      <th></th>\n",
       "      <th></th>\n",
       "      <th></th>\n",
       "      <th></th>\n",
       "      <th></th>\n",
       "      <th></th>\n",
       "    </tr>\n",
       "  </thead>\n",
       "  <tbody>\n",
       "    <tr>\n",
       "      <th>18 à 25</th>\n",
       "      <td>120 (100.0%)</td>\n",
       "      <td>0 (0.0%)</td>\n",
       "      <td>0 (0.0%)</td>\n",
       "      <td>0 (0.0%)</td>\n",
       "      <td>0 (0.0%)</td>\n",
       "      <td>0 (0.0%)</td>\n",
       "      <td>120 (100%)</td>\n",
       "    </tr>\n",
       "    <tr>\n",
       "      <th>26 à 35</th>\n",
       "      <td>0 (0.0%)</td>\n",
       "      <td>180 (100.0%)</td>\n",
       "      <td>0 (0.0%)</td>\n",
       "      <td>0 (0.0%)</td>\n",
       "      <td>0 (0.0%)</td>\n",
       "      <td>0 (0.0%)</td>\n",
       "      <td>180 (100%)</td>\n",
       "    </tr>\n",
       "    <tr>\n",
       "      <th>36 à 45</th>\n",
       "      <td>0 (0.0%)</td>\n",
       "      <td>0 (0.0%)</td>\n",
       "      <td>200 (100.0%)</td>\n",
       "      <td>0 (0.0%)</td>\n",
       "      <td>0 (0.0%)</td>\n",
       "      <td>0 (0.0%)</td>\n",
       "      <td>200 (100%)</td>\n",
       "    </tr>\n",
       "    <tr>\n",
       "      <th>46 à 55</th>\n",
       "      <td>0 (0.0%)</td>\n",
       "      <td>0 (0.0%)</td>\n",
       "      <td>0 (0.0%)</td>\n",
       "      <td>141 (100.0%)</td>\n",
       "      <td>0 (0.0%)</td>\n",
       "      <td>0 (0.0%)</td>\n",
       "      <td>141 (100%)</td>\n",
       "    </tr>\n",
       "    <tr>\n",
       "      <th>56 à 65</th>\n",
       "      <td>0 (0.0%)</td>\n",
       "      <td>0 (0.0%)</td>\n",
       "      <td>0 (0.0%)</td>\n",
       "      <td>0 (0.0%)</td>\n",
       "      <td>201 (100.0%)</td>\n",
       "      <td>0 (0.0%)</td>\n",
       "      <td>201 (100%)</td>\n",
       "    </tr>\n",
       "    <tr>\n",
       "      <th>66 et plus</th>\n",
       "      <td>0 (0.0%)</td>\n",
       "      <td>0 (0.0%)</td>\n",
       "      <td>0 (0.0%)</td>\n",
       "      <td>0 (0.0%)</td>\n",
       "      <td>0 (0.0%)</td>\n",
       "      <td>185 (100.0%)</td>\n",
       "      <td>185 (100%)</td>\n",
       "    </tr>\n",
       "    <tr>\n",
       "      <th>All</th>\n",
       "      <td>120 (11.7%)</td>\n",
       "      <td>180 (17.5%)</td>\n",
       "      <td>200 (19.5%)</td>\n",
       "      <td>141 (13.7%)</td>\n",
       "      <td>201 (19.6%)</td>\n",
       "      <td>185 (18.0%)</td>\n",
       "      <td>1027 (100%)</td>\n",
       "    </tr>\n",
       "  </tbody>\n",
       "</table>\n",
       "</div>"
      ],
      "text/plain": [
       "age_recod4 (17.999, 25.0]  (25.0, 35.0]  (35.0, 45.0]  (45.0, 55.0]  \\\n",
       "age_recod1                                                            \n",
       "18 à 25      120 (100.0%)      0 (0.0%)      0 (0.0%)      0 (0.0%)   \n",
       "26 à 35          0 (0.0%)  180 (100.0%)      0 (0.0%)      0 (0.0%)   \n",
       "36 à 45          0 (0.0%)      0 (0.0%)  200 (100.0%)      0 (0.0%)   \n",
       "46 à 55          0 (0.0%)      0 (0.0%)      0 (0.0%)  141 (100.0%)   \n",
       "56 à 65          0 (0.0%)      0 (0.0%)      0 (0.0%)      0 (0.0%)   \n",
       "66 et plus       0 (0.0%)      0 (0.0%)      0 (0.0%)      0 (0.0%)   \n",
       "All           120 (11.7%)   180 (17.5%)   200 (19.5%)   141 (13.7%)   \n",
       "\n",
       "age_recod4  (55.0, 65.0]  (65.0, 99.0]          All  \n",
       "age_recod1                                           \n",
       "18 à 25         0 (0.0%)      0 (0.0%)   120 (100%)  \n",
       "26 à 35         0 (0.0%)      0 (0.0%)   180 (100%)  \n",
       "36 à 45         0 (0.0%)      0 (0.0%)   200 (100%)  \n",
       "46 à 55         0 (0.0%)      0 (0.0%)   141 (100%)  \n",
       "56 à 65     201 (100.0%)      0 (0.0%)   201 (100%)  \n",
       "66 et plus      0 (0.0%)  185 (100.0%)   185 (100%)  \n",
       "All          201 (19.6%)   185 (18.0%)  1027 (100%)  "
      ]
     },
     "execution_count": 41,
     "metadata": {},
     "output_type": "execute_result"
    }
   ],
   "source": [
    "# Si l'on veut vérifier l'équivalence entre les recodages : age1 et 4\n",
    "pyshs.tableau_croise(df,\"age_recod1\",\"age_recod4\")"
   ]
  },
  {
   "cell_type": "code",
   "execution_count": 42,
   "metadata": {},
   "outputs": [
    {
     "data": {
      "text/html": [
       "<div>\n",
       "<style scoped>\n",
       "    .dataframe tbody tr th:only-of-type {\n",
       "        vertical-align: middle;\n",
       "    }\n",
       "\n",
       "    .dataframe tbody tr th {\n",
       "        vertical-align: top;\n",
       "    }\n",
       "\n",
       "    .dataframe thead th {\n",
       "        text-align: right;\n",
       "    }\n",
       "</style>\n",
       "<table border=\"1\" class=\"dataframe\">\n",
       "  <thead>\n",
       "    <tr style=\"text-align: right;\">\n",
       "      <th>age_recod5</th>\n",
       "      <th>[18, 25)</th>\n",
       "      <th>[25, 35)</th>\n",
       "      <th>[35, 45)</th>\n",
       "      <th>[45, 55)</th>\n",
       "      <th>[55, 65)</th>\n",
       "      <th>[65, 99)</th>\n",
       "      <th>All</th>\n",
       "    </tr>\n",
       "    <tr>\n",
       "      <th>age_recod4</th>\n",
       "      <th></th>\n",
       "      <th></th>\n",
       "      <th></th>\n",
       "      <th></th>\n",
       "      <th></th>\n",
       "      <th></th>\n",
       "      <th></th>\n",
       "    </tr>\n",
       "  </thead>\n",
       "  <tbody>\n",
       "    <tr>\n",
       "      <th>(17.999, 25.0]</th>\n",
       "      <td>102 (85.0%)</td>\n",
       "      <td>18 (15.0%)</td>\n",
       "      <td>0 (0.0%)</td>\n",
       "      <td>0 (0.0%)</td>\n",
       "      <td>0 (0.0%)</td>\n",
       "      <td>0 (0.0%)</td>\n",
       "      <td>120 (100%)</td>\n",
       "    </tr>\n",
       "    <tr>\n",
       "      <th>(25.0, 35.0]</th>\n",
       "      <td>0 (0.0%)</td>\n",
       "      <td>167 (92.8%)</td>\n",
       "      <td>13 (7.2%)</td>\n",
       "      <td>0 (0.0%)</td>\n",
       "      <td>0 (0.0%)</td>\n",
       "      <td>0 (0.0%)</td>\n",
       "      <td>180 (100%)</td>\n",
       "    </tr>\n",
       "    <tr>\n",
       "      <th>(35.0, 45.0]</th>\n",
       "      <td>0 (0.0%)</td>\n",
       "      <td>0 (0.0%)</td>\n",
       "      <td>181 (90.5%)</td>\n",
       "      <td>19 (9.5%)</td>\n",
       "      <td>0 (0.0%)</td>\n",
       "      <td>0 (0.0%)</td>\n",
       "      <td>200 (100%)</td>\n",
       "    </tr>\n",
       "    <tr>\n",
       "      <th>(45.0, 55.0]</th>\n",
       "      <td>0 (0.0%)</td>\n",
       "      <td>0 (0.0%)</td>\n",
       "      <td>0 (0.0%)</td>\n",
       "      <td>125 (88.7%)</td>\n",
       "      <td>16 (11.3%)</td>\n",
       "      <td>0 (0.0%)</td>\n",
       "      <td>141 (100%)</td>\n",
       "    </tr>\n",
       "    <tr>\n",
       "      <th>(55.0, 65.0]</th>\n",
       "      <td>0 (0.0%)</td>\n",
       "      <td>0 (0.0%)</td>\n",
       "      <td>0 (0.0%)</td>\n",
       "      <td>0 (0.0%)</td>\n",
       "      <td>180 (89.6%)</td>\n",
       "      <td>21 (10.4%)</td>\n",
       "      <td>201 (100%)</td>\n",
       "    </tr>\n",
       "    <tr>\n",
       "      <th>(65.0, 99.0]</th>\n",
       "      <td>0 (0.0%)</td>\n",
       "      <td>0 (0.0%)</td>\n",
       "      <td>0 (0.0%)</td>\n",
       "      <td>0 (0.0%)</td>\n",
       "      <td>0 (0.0%)</td>\n",
       "      <td>185 (100.0%)</td>\n",
       "      <td>185 (100%)</td>\n",
       "    </tr>\n",
       "    <tr>\n",
       "      <th>All</th>\n",
       "      <td>102 (9.9%)</td>\n",
       "      <td>185 (18.0%)</td>\n",
       "      <td>194 (18.9%)</td>\n",
       "      <td>144 (14.0%)</td>\n",
       "      <td>196 (19.1%)</td>\n",
       "      <td>206 (20.1%)</td>\n",
       "      <td>1027 (100%)</td>\n",
       "    </tr>\n",
       "  </tbody>\n",
       "</table>\n",
       "</div>"
      ],
      "text/plain": [
       "age_recod5         [18, 25)     [25, 35)     [35, 45)     [45, 55)  \\\n",
       "age_recod4                                                           \n",
       "(17.999, 25.0]  102 (85.0%)   18 (15.0%)     0 (0.0%)     0 (0.0%)   \n",
       "(25.0, 35.0]       0 (0.0%)  167 (92.8%)    13 (7.2%)     0 (0.0%)   \n",
       "(35.0, 45.0]       0 (0.0%)     0 (0.0%)  181 (90.5%)    19 (9.5%)   \n",
       "(45.0, 55.0]       0 (0.0%)     0 (0.0%)     0 (0.0%)  125 (88.7%)   \n",
       "(55.0, 65.0]       0 (0.0%)     0 (0.0%)     0 (0.0%)     0 (0.0%)   \n",
       "(65.0, 99.0]       0 (0.0%)     0 (0.0%)     0 (0.0%)     0 (0.0%)   \n",
       "All              102 (9.9%)  185 (18.0%)  194 (18.9%)  144 (14.0%)   \n",
       "\n",
       "age_recod5         [55, 65)      [65, 99)          All  \n",
       "age_recod4                                              \n",
       "(17.999, 25.0]     0 (0.0%)      0 (0.0%)   120 (100%)  \n",
       "(25.0, 35.0]       0 (0.0%)      0 (0.0%)   180 (100%)  \n",
       "(35.0, 45.0]       0 (0.0%)      0 (0.0%)   200 (100%)  \n",
       "(45.0, 55.0]     16 (11.3%)      0 (0.0%)   141 (100%)  \n",
       "(55.0, 65.0]    180 (89.6%)    21 (10.4%)   201 (100%)  \n",
       "(65.0, 99.0]       0 (0.0%)  185 (100.0%)   185 (100%)  \n",
       "All             196 (19.1%)   206 (20.1%)  1027 (100%)  "
      ]
     },
     "execution_count": 42,
     "metadata": {},
     "output_type": "execute_result"
    }
   ],
   "source": [
    "# suite Si l'on veut vérifier l'équivalence entre les recodages : diff entre age 4 et 5\n",
    "pyshs.tableau_croise(df,\"age_recod4\",\"age_recod5\")"
   ]
  }
 ],
 "metadata": {
  "kernelspec": {
   "display_name": "Python 3",
   "language": "python",
   "name": "python3"
  },
  "language_info": {
   "codemirror_mode": {
    "name": "ipython",
    "version": 3
   },
   "file_extension": ".py",
   "mimetype": "text/x-python",
   "name": "python",
   "nbconvert_exporter": "python",
   "pygments_lexer": "ipython3",
   "version": "3.7.11"
  }
 },
 "nbformat": 4,
 "nbformat_minor": 4
}
