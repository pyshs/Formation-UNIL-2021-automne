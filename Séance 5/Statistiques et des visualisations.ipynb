{
 "cells": [
  {
   "cell_type": "markdown",
   "metadata": {},
   "source": [
    "# Statistiques et visualisations"
   ]
  },
  {
   "cell_type": "markdown",
   "metadata": {},
   "source": [
    "## Statistiques"
   ]
  },
  {
   "cell_type": "code",
   "execution_count": 1,
   "metadata": {},
   "outputs": [],
   "source": [
    "import pandas as pd\n"
   ]
  },
  {
   "cell_type": "code",
   "execution_count": 3,
   "metadata": {},
   "outputs": [],
   "source": [
    "corpus = pd.read_excel(\"./image_science_france_2011_simplifie.xls\")"
   ]
  },
  {
   "cell_type": "code",
   "execution_count": 4,
   "metadata": {},
   "outputs": [
    {
     "data": {
      "text/plain": [
       "Index(['Unnamed: 0', 'sexe', 'age', 'pcs', 'diplome', 'politique', 'revenus',\n",
       "       'confiance_ind', 'interetpolitique', 'interetscience', 'apportscience',\n",
       "       'connaissance_sci'],\n",
       "      dtype='object')"
      ]
     },
     "execution_count": 4,
     "metadata": {},
     "output_type": "execute_result"
    }
   ],
   "source": [
    "corpus.columns"
   ]
  },
  {
   "cell_type": "code",
   "execution_count": 5,
   "metadata": {},
   "outputs": [
    {
     "data": {
      "text/plain": [
       "(1027, 12)"
      ]
     },
     "execution_count": 5,
     "metadata": {},
     "output_type": "execute_result"
    }
   ],
   "source": [
    "corpus.shape"
   ]
  },
  {
   "cell_type": "markdown",
   "metadata": {},
   "source": [
    "### Première étape : distributions et tri à plat"
   ]
  },
  {
   "cell_type": "code",
   "execution_count": 10,
   "metadata": {},
   "outputs": [
    {
     "data": {
      "text/plain": [
       "Femme    534\n",
       "Homme    493\n",
       "Name: sexe, dtype: int64"
      ]
     },
     "execution_count": 10,
     "metadata": {},
     "output_type": "execute_result"
    }
   ],
   "source": [
    "corpus[\"sexe\"].value_counts()"
   ]
  },
  {
   "cell_type": "code",
   "execution_count": 11,
   "metadata": {},
   "outputs": [
    {
     "data": {
      "text/plain": [
       "Femme    0.519961\n",
       "Homme    0.480039\n",
       "Name: sexe, dtype: float64"
      ]
     },
     "execution_count": 11,
     "metadata": {},
     "output_type": "execute_result"
    }
   ],
   "source": [
    "corpus[\"sexe\"].value_counts(normalize=True)"
   ]
  },
  {
   "cell_type": "code",
   "execution_count": 18,
   "metadata": {},
   "outputs": [],
   "source": [
    "tri_a_plat = corpus[\"apportscience\"].value_counts(normalize=True).apply(lambda x : 100*round(x,3))"
   ]
  },
  {
   "cell_type": "code",
   "execution_count": 19,
   "metadata": {},
   "outputs": [
    {
     "data": {
      "text/plain": [
       "A peu près autant de bien que de mal    52.9\n",
       "Plus de bien que de mal                 40.6\n",
       "Plus de mal que de bien                  6.5\n",
       "Name: apportscience, dtype: float64"
      ]
     },
     "execution_count": 19,
     "metadata": {},
     "output_type": "execute_result"
    }
   ],
   "source": [
    "tri_a_plat"
   ]
  },
  {
   "cell_type": "markdown",
   "metadata": {},
   "source": [
    "Sauvegarder"
   ]
  },
  {
   "cell_type": "code",
   "execution_count": 20,
   "metadata": {},
   "outputs": [],
   "source": [
    "tri_a_plat.to_excel(\"resultat.xls\")"
   ]
  },
  {
   "cell_type": "markdown",
   "metadata": {},
   "source": [
    "Statistiques descriptives sur des variables quantitatives"
   ]
  },
  {
   "cell_type": "code",
   "execution_count": 22,
   "metadata": {},
   "outputs": [
    {
     "data": {
      "text/plain": [
       "count    1027.000000\n",
       "mean       48.140214\n",
       "std        17.954073\n",
       "min        18.000000\n",
       "25%        33.000000\n",
       "50%        46.000000\n",
       "75%        62.000000\n",
       "max        88.000000\n",
       "Name: age, dtype: float64"
      ]
     },
     "execution_count": 22,
     "metadata": {},
     "output_type": "execute_result"
    }
   ],
   "source": [
    "corpus[\"age\"].describe()"
   ]
  },
  {
   "cell_type": "markdown",
   "metadata": {},
   "source": [
    "### On veut faire de l'analyse bivariée"
   ]
  },
  {
   "cell_type": "markdown",
   "metadata": {},
   "source": [
    "#### Un tableau croisé"
   ]
  },
  {
   "cell_type": "markdown",
   "metadata": {},
   "source": [
    "En valeurs absolues"
   ]
  },
  {
   "cell_type": "code",
   "execution_count": 23,
   "metadata": {},
   "outputs": [
    {
     "data": {
      "text/html": [
       "<div>\n",
       "<style scoped>\n",
       "    .dataframe tbody tr th:only-of-type {\n",
       "        vertical-align: middle;\n",
       "    }\n",
       "\n",
       "    .dataframe tbody tr th {\n",
       "        vertical-align: top;\n",
       "    }\n",
       "\n",
       "    .dataframe thead th {\n",
       "        text-align: right;\n",
       "    }\n",
       "</style>\n",
       "<table border=\"1\" class=\"dataframe\">\n",
       "  <thead>\n",
       "    <tr style=\"text-align: right;\">\n",
       "      <th>apportscience</th>\n",
       "      <th>A peu près autant de bien que de mal</th>\n",
       "      <th>Plus de bien que de mal</th>\n",
       "      <th>Plus de mal que de bien</th>\n",
       "    </tr>\n",
       "    <tr>\n",
       "      <th>sexe</th>\n",
       "      <th></th>\n",
       "      <th></th>\n",
       "      <th></th>\n",
       "    </tr>\n",
       "  </thead>\n",
       "  <tbody>\n",
       "    <tr>\n",
       "      <th>Femme</th>\n",
       "      <td>299</td>\n",
       "      <td>190</td>\n",
       "      <td>35</td>\n",
       "    </tr>\n",
       "    <tr>\n",
       "      <th>Homme</th>\n",
       "      <td>237</td>\n",
       "      <td>221</td>\n",
       "      <td>31</td>\n",
       "    </tr>\n",
       "  </tbody>\n",
       "</table>\n",
       "</div>"
      ],
      "text/plain": [
       "apportscience  A peu près autant de bien que de mal  Plus de bien que de mal  \\\n",
       "sexe                                                                           \n",
       "Femme                                           299                      190   \n",
       "Homme                                           237                      221   \n",
       "\n",
       "apportscience  Plus de mal que de bien  \n",
       "sexe                                    \n",
       "Femme                               35  \n",
       "Homme                               31  "
      ]
     },
     "execution_count": 23,
     "metadata": {},
     "output_type": "execute_result"
    }
   ],
   "source": [
    "pd.crosstab(corpus[\"sexe\"],corpus[\"apportscience\"])"
   ]
  },
  {
   "cell_type": "markdown",
   "metadata": {},
   "source": [
    "Par pourcentage par ligne"
   ]
  },
  {
   "cell_type": "code",
   "execution_count": 25,
   "metadata": {},
   "outputs": [
    {
     "data": {
      "text/html": [
       "<div>\n",
       "<style scoped>\n",
       "    .dataframe tbody tr th:only-of-type {\n",
       "        vertical-align: middle;\n",
       "    }\n",
       "\n",
       "    .dataframe tbody tr th {\n",
       "        vertical-align: top;\n",
       "    }\n",
       "\n",
       "    .dataframe thead th {\n",
       "        text-align: right;\n",
       "    }\n",
       "</style>\n",
       "<table border=\"1\" class=\"dataframe\">\n",
       "  <thead>\n",
       "    <tr style=\"text-align: right;\">\n",
       "      <th>apportscience</th>\n",
       "      <th>A peu près autant de bien que de mal</th>\n",
       "      <th>Plus de bien que de mal</th>\n",
       "      <th>Plus de mal que de bien</th>\n",
       "    </tr>\n",
       "    <tr>\n",
       "      <th>sexe</th>\n",
       "      <th></th>\n",
       "      <th></th>\n",
       "      <th></th>\n",
       "    </tr>\n",
       "  </thead>\n",
       "  <tbody>\n",
       "    <tr>\n",
       "      <th>Femme</th>\n",
       "      <td>0.570611</td>\n",
       "      <td>0.362595</td>\n",
       "      <td>0.066794</td>\n",
       "    </tr>\n",
       "    <tr>\n",
       "      <th>Homme</th>\n",
       "      <td>0.484663</td>\n",
       "      <td>0.451943</td>\n",
       "      <td>0.063395</td>\n",
       "    </tr>\n",
       "    <tr>\n",
       "      <th>All</th>\n",
       "      <td>0.529121</td>\n",
       "      <td>0.405726</td>\n",
       "      <td>0.065153</td>\n",
       "    </tr>\n",
       "  </tbody>\n",
       "</table>\n",
       "</div>"
      ],
      "text/plain": [
       "apportscience  A peu près autant de bien que de mal  Plus de bien que de mal  \\\n",
       "sexe                                                                           \n",
       "Femme                                      0.570611                 0.362595   \n",
       "Homme                                      0.484663                 0.451943   \n",
       "All                                        0.529121                 0.405726   \n",
       "\n",
       "apportscience  Plus de mal que de bien  \n",
       "sexe                                    \n",
       "Femme                         0.066794  \n",
       "Homme                         0.063395  \n",
       "All                           0.065153  "
      ]
     },
     "execution_count": 25,
     "metadata": {},
     "output_type": "execute_result"
    }
   ],
   "source": [
    "pd.crosstab(corpus[\"sexe\"],corpus[\"apportscience\"],normalize=\"index\",margins=True)"
   ]
  },
  {
   "cell_type": "markdown",
   "metadata": {},
   "source": [
    "Si on a une variable qualitative et une variable quantitative"
   ]
  },
  {
   "cell_type": "code",
   "execution_count": 26,
   "metadata": {},
   "outputs": [
    {
     "data": {
      "text/plain": [
       "sexe\n",
       "Femme    0.547753\n",
       "Homme    0.549493\n",
       "Name: confiance_ind, dtype: float64"
      ]
     },
     "execution_count": 26,
     "metadata": {},
     "output_type": "execute_result"
    }
   ],
   "source": [
    "corpus.groupby(\"sexe\")[\"confiance_ind\"].mean()"
   ]
  },
  {
   "cell_type": "markdown",
   "metadata": {},
   "source": [
    "Avantage de Pandas : manipulation de tableau"
   ]
  },
  {
   "cell_type": "code",
   "execution_count": 27,
   "metadata": {},
   "outputs": [],
   "source": [
    "t1 = pd.crosstab(corpus[\"sexe\"],corpus[\"apportscience\"],normalize=\"index\",margins=True)"
   ]
  },
  {
   "cell_type": "code",
   "execution_count": 32,
   "metadata": {},
   "outputs": [
    {
     "data": {
      "text/html": [
       "<div>\n",
       "<style scoped>\n",
       "    .dataframe tbody tr th:only-of-type {\n",
       "        vertical-align: middle;\n",
       "    }\n",
       "\n",
       "    .dataframe tbody tr th {\n",
       "        vertical-align: top;\n",
       "    }\n",
       "\n",
       "    .dataframe thead th {\n",
       "        text-align: right;\n",
       "    }\n",
       "</style>\n",
       "<table border=\"1\" class=\"dataframe\">\n",
       "  <thead>\n",
       "    <tr style=\"text-align: right;\">\n",
       "      <th>apportscience</th>\n",
       "      <th>A peu près autant de bien que de mal</th>\n",
       "      <th>Plus de bien que de mal</th>\n",
       "      <th>Plus de mal que de bien</th>\n",
       "    </tr>\n",
       "    <tr>\n",
       "      <th>sexe</th>\n",
       "      <th></th>\n",
       "      <th></th>\n",
       "      <th></th>\n",
       "    </tr>\n",
       "  </thead>\n",
       "  <tbody>\n",
       "    <tr>\n",
       "      <th>Femme</th>\n",
       "      <td>0.570611</td>\n",
       "      <td>0.362595</td>\n",
       "      <td>0.066794</td>\n",
       "    </tr>\n",
       "    <tr>\n",
       "      <th>Homme</th>\n",
       "      <td>0.484663</td>\n",
       "      <td>0.451943</td>\n",
       "      <td>0.063395</td>\n",
       "    </tr>\n",
       "    <tr>\n",
       "      <th>All</th>\n",
       "      <td>0.529121</td>\n",
       "      <td>0.405726</td>\n",
       "      <td>0.065153</td>\n",
       "    </tr>\n",
       "  </tbody>\n",
       "</table>\n",
       "</div>"
      ],
      "text/plain": [
       "apportscience  A peu près autant de bien que de mal  Plus de bien que de mal  \\\n",
       "sexe                                                                           \n",
       "Femme                                      0.570611                 0.362595   \n",
       "Homme                                      0.484663                 0.451943   \n",
       "All                                        0.529121                 0.405726   \n",
       "\n",
       "apportscience  Plus de mal que de bien  \n",
       "sexe                                    \n",
       "Femme                         0.066794  \n",
       "Homme                         0.063395  \n",
       "All                           0.065153  "
      ]
     },
     "execution_count": 32,
     "metadata": {},
     "output_type": "execute_result"
    }
   ],
   "source": [
    "t1"
   ]
  },
  {
   "cell_type": "code",
   "execution_count": 30,
   "metadata": {},
   "outputs": [],
   "source": [
    "t2 = pd.crosstab(corpus[\"diplome\"],corpus[\"apportscience\"],normalize=\"index\",margins=True)"
   ]
  },
  {
   "cell_type": "code",
   "execution_count": 31,
   "metadata": {},
   "outputs": [
    {
     "data": {
      "text/html": [
       "<div>\n",
       "<style scoped>\n",
       "    .dataframe tbody tr th:only-of-type {\n",
       "        vertical-align: middle;\n",
       "    }\n",
       "\n",
       "    .dataframe tbody tr th {\n",
       "        vertical-align: top;\n",
       "    }\n",
       "\n",
       "    .dataframe thead th {\n",
       "        text-align: right;\n",
       "    }\n",
       "</style>\n",
       "<table border=\"1\" class=\"dataframe\">\n",
       "  <thead>\n",
       "    <tr style=\"text-align: right;\">\n",
       "      <th>apportscience</th>\n",
       "      <th>A peu près autant de bien que de mal</th>\n",
       "      <th>Plus de bien que de mal</th>\n",
       "      <th>Plus de mal que de bien</th>\n",
       "    </tr>\n",
       "    <tr>\n",
       "      <th>diplome</th>\n",
       "      <th></th>\n",
       "      <th></th>\n",
       "      <th></th>\n",
       "    </tr>\n",
       "  </thead>\n",
       "  <tbody>\n",
       "    <tr>\n",
       "      <th>Intermédiaire</th>\n",
       "      <td>0.605882</td>\n",
       "      <td>0.302941</td>\n",
       "      <td>0.091176</td>\n",
       "    </tr>\n",
       "    <tr>\n",
       "      <th>Primaire</th>\n",
       "      <td>0.617647</td>\n",
       "      <td>0.323529</td>\n",
       "      <td>0.058824</td>\n",
       "    </tr>\n",
       "    <tr>\n",
       "      <th>Secondaire</th>\n",
       "      <td>0.527473</td>\n",
       "      <td>0.417582</td>\n",
       "      <td>0.054945</td>\n",
       "    </tr>\n",
       "    <tr>\n",
       "      <th>Supérieur</th>\n",
       "      <td>0.423469</td>\n",
       "      <td>0.525510</td>\n",
       "      <td>0.051020</td>\n",
       "    </tr>\n",
       "    <tr>\n",
       "      <th>Supérieur médical</th>\n",
       "      <td>0.500000</td>\n",
       "      <td>0.458333</td>\n",
       "      <td>0.041667</td>\n",
       "    </tr>\n",
       "    <tr>\n",
       "      <th>Supérieur scientifique</th>\n",
       "      <td>0.329897</td>\n",
       "      <td>0.628866</td>\n",
       "      <td>0.041237</td>\n",
       "    </tr>\n",
       "    <tr>\n",
       "      <th>All</th>\n",
       "      <td>0.529237</td>\n",
       "      <td>0.405352</td>\n",
       "      <td>0.065411</td>\n",
       "    </tr>\n",
       "  </tbody>\n",
       "</table>\n",
       "</div>"
      ],
      "text/plain": [
       "apportscience           A peu près autant de bien que de mal  \\\n",
       "diplome                                                        \n",
       "Intermédiaire                                       0.605882   \n",
       "Primaire                                            0.617647   \n",
       "Secondaire                                          0.527473   \n",
       "Supérieur                                           0.423469   \n",
       "Supérieur médical                                   0.500000   \n",
       "Supérieur scientifique                              0.329897   \n",
       "All                                                 0.529237   \n",
       "\n",
       "apportscience           Plus de bien que de mal  Plus de mal que de bien  \n",
       "diplome                                                                   \n",
       "Intermédiaire                          0.302941                 0.091176  \n",
       "Primaire                               0.323529                 0.058824  \n",
       "Secondaire                             0.417582                 0.054945  \n",
       "Supérieur                              0.525510                 0.051020  \n",
       "Supérieur médical                      0.458333                 0.041667  \n",
       "Supérieur scientifique                 0.628866                 0.041237  \n",
       "All                                    0.405352                 0.065411  "
      ]
     },
     "execution_count": 31,
     "metadata": {},
     "output_type": "execute_result"
    }
   ],
   "source": [
    "t2"
   ]
  },
  {
   "cell_type": "code",
   "execution_count": 38,
   "metadata": {},
   "outputs": [
    {
     "data": {
      "text/html": [
       "<div>\n",
       "<style scoped>\n",
       "    .dataframe tbody tr th:only-of-type {\n",
       "        vertical-align: middle;\n",
       "    }\n",
       "\n",
       "    .dataframe tbody tr th {\n",
       "        vertical-align: top;\n",
       "    }\n",
       "\n",
       "    .dataframe thead th {\n",
       "        text-align: right;\n",
       "    }\n",
       "</style>\n",
       "<table border=\"1\" class=\"dataframe\">\n",
       "  <thead>\n",
       "    <tr style=\"text-align: right;\">\n",
       "      <th></th>\n",
       "      <th>apportscience</th>\n",
       "      <th>A peu près autant de bien que de mal</th>\n",
       "      <th>Plus de bien que de mal</th>\n",
       "      <th>Plus de mal que de bien</th>\n",
       "    </tr>\n",
       "  </thead>\n",
       "  <tbody>\n",
       "    <tr>\n",
       "      <th rowspan=\"3\" valign=\"top\">Genre</th>\n",
       "      <th>Femme</th>\n",
       "      <td>0.570611</td>\n",
       "      <td>0.362595</td>\n",
       "      <td>0.066794</td>\n",
       "    </tr>\n",
       "    <tr>\n",
       "      <th>Homme</th>\n",
       "      <td>0.484663</td>\n",
       "      <td>0.451943</td>\n",
       "      <td>0.063395</td>\n",
       "    </tr>\n",
       "    <tr>\n",
       "      <th>All</th>\n",
       "      <td>0.529121</td>\n",
       "      <td>0.405726</td>\n",
       "      <td>0.065153</td>\n",
       "    </tr>\n",
       "    <tr>\n",
       "      <th rowspan=\"7\" valign=\"top\">Diplome</th>\n",
       "      <th>Intermédiaire</th>\n",
       "      <td>0.605882</td>\n",
       "      <td>0.302941</td>\n",
       "      <td>0.091176</td>\n",
       "    </tr>\n",
       "    <tr>\n",
       "      <th>Primaire</th>\n",
       "      <td>0.617647</td>\n",
       "      <td>0.323529</td>\n",
       "      <td>0.058824</td>\n",
       "    </tr>\n",
       "    <tr>\n",
       "      <th>Secondaire</th>\n",
       "      <td>0.527473</td>\n",
       "      <td>0.417582</td>\n",
       "      <td>0.054945</td>\n",
       "    </tr>\n",
       "    <tr>\n",
       "      <th>Supérieur</th>\n",
       "      <td>0.423469</td>\n",
       "      <td>0.525510</td>\n",
       "      <td>0.051020</td>\n",
       "    </tr>\n",
       "    <tr>\n",
       "      <th>Supérieur médical</th>\n",
       "      <td>0.500000</td>\n",
       "      <td>0.458333</td>\n",
       "      <td>0.041667</td>\n",
       "    </tr>\n",
       "    <tr>\n",
       "      <th>Supérieur scientifique</th>\n",
       "      <td>0.329897</td>\n",
       "      <td>0.628866</td>\n",
       "      <td>0.041237</td>\n",
       "    </tr>\n",
       "    <tr>\n",
       "      <th>All</th>\n",
       "      <td>0.529237</td>\n",
       "      <td>0.405352</td>\n",
       "      <td>0.065411</td>\n",
       "    </tr>\n",
       "  </tbody>\n",
       "</table>\n",
       "</div>"
      ],
      "text/plain": [
       "apportscience                   A peu près autant de bien que de mal  \\\n",
       "Genre   Femme                                               0.570611   \n",
       "        Homme                                               0.484663   \n",
       "        All                                                 0.529121   \n",
       "Diplome Intermédiaire                                       0.605882   \n",
       "        Primaire                                            0.617647   \n",
       "        Secondaire                                          0.527473   \n",
       "        Supérieur                                           0.423469   \n",
       "        Supérieur médical                                   0.500000   \n",
       "        Supérieur scientifique                              0.329897   \n",
       "        All                                                 0.529237   \n",
       "\n",
       "apportscience                   Plus de bien que de mal  \\\n",
       "Genre   Femme                                  0.362595   \n",
       "        Homme                                  0.451943   \n",
       "        All                                    0.405726   \n",
       "Diplome Intermédiaire                          0.302941   \n",
       "        Primaire                               0.323529   \n",
       "        Secondaire                             0.417582   \n",
       "        Supérieur                              0.525510   \n",
       "        Supérieur médical                      0.458333   \n",
       "        Supérieur scientifique                 0.628866   \n",
       "        All                                    0.405352   \n",
       "\n",
       "apportscience                   Plus de mal que de bien  \n",
       "Genre   Femme                                  0.066794  \n",
       "        Homme                                  0.063395  \n",
       "        All                                    0.065153  \n",
       "Diplome Intermédiaire                          0.091176  \n",
       "        Primaire                               0.058824  \n",
       "        Secondaire                             0.054945  \n",
       "        Supérieur                              0.051020  \n",
       "        Supérieur médical                      0.041667  \n",
       "        Supérieur scientifique                 0.041237  \n",
       "        All                                    0.065411  "
      ]
     },
     "execution_count": 38,
     "metadata": {},
     "output_type": "execute_result"
    }
   ],
   "source": [
    "# Créer des tableaux\n",
    "t1 = pd.crosstab(corpus[\"sexe\"],corpus[\"apportscience\"],normalize=\"index\",margins=True)\n",
    "t2 = pd.crosstab(corpus[\"diplome\"],corpus[\"apportscience\"],normalize=\"index\",margins=True)\n",
    "# Les concaténer\n",
    "tab_complet = pd.concat({\"Genre\":t1,\"Diplome\":t2})\n",
    "# Ecrire dans un fichier\n",
    "tab_complet.to_excel(\"tableau.xls\")\n",
    "\n",
    "tab_complet"
   ]
  },
  {
   "cell_type": "markdown",
   "metadata": {},
   "source": [
    "### On peut visualiser avec Pandas"
   ]
  },
  {
   "cell_type": "markdown",
   "metadata": {},
   "source": [
    "Visualisation avec Pandas :\n",
    "1. Mettre en forme le tableau\n",
    "2. Utiliser la fonction plot"
   ]
  },
  {
   "cell_type": "code",
   "execution_count": 42,
   "metadata": {},
   "outputs": [],
   "source": [
    "tab = corpus[\"sexe\"].value_counts()\n",
    "tab.plot(kind=\"bar\")"
   ]
  },
  {
   "cell_type": "code",
   "execution_count": 49,
   "metadata": {},
   "outputs": [
    {
     "data": {
      "text/plain": [
       "<AxesSubplot:title={'center':'Genre des répondants'}>"
      ]
     },
     "execution_count": 49,
     "metadata": {},
     "output_type": "execute_result"
    },
    {
     "data": {
      "image/png": "[encoded data removed]",
      "text/plain": [
       "<Figure size 216x144 with 1 Axes>"
      ]
     },
     "metadata": {
      "needs_background": "light"
     },
     "output_type": "display_data"
    }
   ],
   "source": [
    "corpus[\"sexe\"].value_counts().plot(kind=\"barh\",figsize=(3,2),\n",
    "                                   color=\"orange\",alpha=0.5,title=\"Genre des répondants\")"
   ]
  },
  {
   "cell_type": "code",
   "execution_count": 50,
   "metadata": {},
   "outputs": [
    {
     "data": {
      "text/plain": [
       "<AxesSubplot:title={'center':'Genre des répondants'}, ylabel='sexe'>"
      ]
     },
     "execution_count": 50,
     "metadata": {},
     "output_type": "execute_result"
    },
    {
     "data": {
      "image/png": "[encoded data removed]",
      "text/plain": [
       "<Figure size 216x144 with 1 Axes>"
      ]
     },
     "metadata": {},
     "output_type": "display_data"
    }
   ],
   "source": [
    "corpus[\"sexe\"].value_counts().plot(kind=\"pie\",figsize=(3,2),\n",
    "                                   title=\"Genre des répondants\")"
   ]
  },
  {
   "cell_type": "code",
   "execution_count": 53,
   "metadata": {},
   "outputs": [
    {
     "data": {
      "text/plain": [
       "<AxesSubplot:ylabel='Frequency'>"
      ]
     },
     "execution_count": 53,
     "metadata": {},
     "output_type": "execute_result"
    },
    {
     "data": {
      "image/png": "[encoded data removed]",
      "text/plain": [
       "<Figure size 432x288 with 1 Axes>"
      ]
     },
     "metadata": {
      "needs_background": "light"
     },
     "output_type": "display_data"
    }
   ],
   "source": [
    "corpus[\"age\"].plot(kind=\"hist\",bins=30)"
   ]
  },
  {
   "cell_type": "code",
   "execution_count": 55,
   "metadata": {},
   "outputs": [
    {
     "data": {
      "text/plain": [
       "<AxesSubplot:xlabel='age', ylabel='confiance_ind'>"
      ]
     },
     "execution_count": 55,
     "metadata": {},
     "output_type": "execute_result"
    },
    {
     "data": {
      "image/png": "[encoded data removed]",
      "text/plain": [
       "<Figure size 432x288 with 1 Axes>"
      ]
     },
     "metadata": {
      "needs_background": "light"
     },
     "output_type": "display_data"
    }
   ],
   "source": [
    "corpus.plot(kind=\"scatter\",x=\"age\",y=\"confiance_ind\",alpha=0.3)"
   ]
  },
  {
   "cell_type": "markdown",
   "metadata": {},
   "source": [
    "## Il existe beaucoup de bibliothèques de statistiques\n",
    "\n",
    "Par exemple une bibliothèque maison"
   ]
  },
  {
   "cell_type": "code",
   "execution_count": 56,
   "metadata": {},
   "outputs": [
    {
     "name": "stdout",
     "output_type": "stream",
     "text": [
      "Requirement already satisfied: pyshs in /Users/emilien/anaconda3/envs/p37/lib/python3.7/site-packages (0.1.15)\n",
      "Note: you may need to restart the kernel to use updated packages.\n"
     ]
    }
   ],
   "source": [
    "pip install pyshs"
   ]
  },
  {
   "cell_type": "code",
   "execution_count": 57,
   "metadata": {},
   "outputs": [],
   "source": [
    "import pyshs"
   ]
  },
  {
   "cell_type": "code",
   "execution_count": 58,
   "metadata": {},
   "outputs": [
    {
     "data": {
      "text/html": [
       "<div>\n",
       "<style scoped>\n",
       "    .dataframe tbody tr th:only-of-type {\n",
       "        vertical-align: middle;\n",
       "    }\n",
       "\n",
       "    .dataframe tbody tr th {\n",
       "        vertical-align: top;\n",
       "    }\n",
       "\n",
       "    .dataframe thead th {\n",
       "        text-align: right;\n",
       "    }\n",
       "</style>\n",
       "<table border=\"1\" class=\"dataframe\">\n",
       "  <thead>\n",
       "    <tr style=\"text-align: right;\">\n",
       "      <th></th>\n",
       "      <th>Effectif</th>\n",
       "      <th>Pourcentage (%)</th>\n",
       "    </tr>\n",
       "  </thead>\n",
       "  <tbody>\n",
       "    <tr>\n",
       "      <th>Intermédiaire</th>\n",
       "      <td>347.0</td>\n",
       "      <td>33.9</td>\n",
       "    </tr>\n",
       "    <tr>\n",
       "      <th>Primaire</th>\n",
       "      <td>172.0</td>\n",
       "      <td>16.8</td>\n",
       "    </tr>\n",
       "    <tr>\n",
       "      <th>Secondaire</th>\n",
       "      <td>184.0</td>\n",
       "      <td>18.0</td>\n",
       "    </tr>\n",
       "    <tr>\n",
       "      <th>Supérieur</th>\n",
       "      <td>198.0</td>\n",
       "      <td>19.4</td>\n",
       "    </tr>\n",
       "    <tr>\n",
       "      <th>Supérieur médical</th>\n",
       "      <td>25.0</td>\n",
       "      <td>2.4</td>\n",
       "    </tr>\n",
       "    <tr>\n",
       "      <th>Supérieur scientifique</th>\n",
       "      <td>97.0</td>\n",
       "      <td>9.5</td>\n",
       "    </tr>\n",
       "    <tr>\n",
       "      <th>Total</th>\n",
       "      <td>1023.0</td>\n",
       "      <td>100.0</td>\n",
       "    </tr>\n",
       "  </tbody>\n",
       "</table>\n",
       "</div>"
      ],
      "text/plain": [
       "                        Effectif  Pourcentage (%)\n",
       "Intermédiaire              347.0             33.9\n",
       "Primaire                   172.0             16.8\n",
       "Secondaire                 184.0             18.0\n",
       "Supérieur                  198.0             19.4\n",
       "Supérieur médical           25.0              2.4\n",
       "Supérieur scientifique      97.0              9.5\n",
       "Total                     1023.0            100.0"
      ]
     },
     "execution_count": 58,
     "metadata": {},
     "output_type": "execute_result"
    }
   ],
   "source": [
    "pyshs.tri_a_plat(corpus,\"diplome\")"
   ]
  },
  {
   "cell_type": "code",
   "execution_count": 59,
   "metadata": {},
   "outputs": [
    {
     "data": {
      "text/html": [
       "<div>\n",
       "<style scoped>\n",
       "    .dataframe tbody tr th:only-of-type {\n",
       "        vertical-align: middle;\n",
       "    }\n",
       "\n",
       "    .dataframe tbody tr th {\n",
       "        vertical-align: top;\n",
       "    }\n",
       "\n",
       "    .dataframe thead th {\n",
       "        text-align: right;\n",
       "    }\n",
       "</style>\n",
       "<table border=\"1\" class=\"dataframe\">\n",
       "  <thead>\n",
       "    <tr style=\"text-align: right;\">\n",
       "      <th></th>\n",
       "      <th>A peu près autant de bien que de mal</th>\n",
       "      <th>Plus de bien que de mal</th>\n",
       "      <th>Plus de mal que de bien</th>\n",
       "      <th>Total</th>\n",
       "    </tr>\n",
       "  </thead>\n",
       "  <tbody>\n",
       "    <tr>\n",
       "      <th>Femme</th>\n",
       "      <td>299 (57.1%)</td>\n",
       "      <td>190 (36.3%)</td>\n",
       "      <td>35 (6.7%)</td>\n",
       "      <td>524 (100%)</td>\n",
       "    </tr>\n",
       "    <tr>\n",
       "      <th>Homme</th>\n",
       "      <td>237 (48.5%)</td>\n",
       "      <td>221 (45.2%)</td>\n",
       "      <td>31 (6.3%)</td>\n",
       "      <td>489 (100%)</td>\n",
       "    </tr>\n",
       "    <tr>\n",
       "      <th>Total</th>\n",
       "      <td>536 (52.9%)</td>\n",
       "      <td>411 (40.6%)</td>\n",
       "      <td>66 (6.5%)</td>\n",
       "      <td>1013 (100%)</td>\n",
       "    </tr>\n",
       "  </tbody>\n",
       "</table>\n",
       "</div>"
      ],
      "text/plain": [
       "      A peu près autant de bien que de mal Plus de bien que de mal  \\\n",
       "Femme                          299 (57.1%)             190 (36.3%)   \n",
       "Homme                          237 (48.5%)             221 (45.2%)   \n",
       "Total                          536 (52.9%)             411 (40.6%)   \n",
       "\n",
       "      Plus de mal que de bien        Total  \n",
       "Femme               35 (6.7%)   524 (100%)  \n",
       "Homme               31 (6.3%)   489 (100%)  \n",
       "Total               66 (6.5%)  1013 (100%)  "
      ]
     },
     "execution_count": 59,
     "metadata": {},
     "output_type": "execute_result"
    }
   ],
   "source": [
    "pyshs.tableau_croise(corpus,\"sexe\",\"apportscience\")"
   ]
  },
  {
   "cell_type": "markdown",
   "metadata": {},
   "source": [
    "Est-ce que le genre joue sur l'attitude positive à la science quand on contrôle par le niveau de diplome : Régression logistique"
   ]
  },
  {
   "cell_type": "code",
   "execution_count": 65,
   "metadata": {},
   "outputs": [
    {
     "data": {
      "text/html": [
       "<div>\n",
       "<style scoped>\n",
       "    .dataframe tbody tr th:only-of-type {\n",
       "        vertical-align: middle;\n",
       "    }\n",
       "\n",
       "    .dataframe tbody tr th {\n",
       "        vertical-align: top;\n",
       "    }\n",
       "\n",
       "    .dataframe thead th {\n",
       "        text-align: right;\n",
       "    }\n",
       "</style>\n",
       "<table border=\"1\" class=\"dataframe\">\n",
       "  <thead>\n",
       "    <tr style=\"text-align: right;\">\n",
       "      <th></th>\n",
       "      <th></th>\n",
       "      <th>Odds Ratio</th>\n",
       "      <th>p</th>\n",
       "      <th>IC 95%</th>\n",
       "    </tr>\n",
       "    <tr>\n",
       "      <th>Variable</th>\n",
       "      <th>Modalité</th>\n",
       "      <th></th>\n",
       "      <th></th>\n",
       "      <th></th>\n",
       "    </tr>\n",
       "  </thead>\n",
       "  <tbody>\n",
       "    <tr>\n",
       "      <th>.Intercept</th>\n",
       "      <th></th>\n",
       "      <td>0.14</td>\n",
       "      <td>0.0***</td>\n",
       "      <td>0.14 [0.09-0.23]</td>\n",
       "    </tr>\n",
       "    <tr>\n",
       "      <th>age</th>\n",
       "      <th>numérique</th>\n",
       "      <td>1.02</td>\n",
       "      <td>0.0***</td>\n",
       "      <td>1.02 [1.01-1.03]</td>\n",
       "    </tr>\n",
       "    <tr>\n",
       "      <th rowspan=\"6\" valign=\"top\">diplome</th>\n",
       "      <th>Intermédiaire</th>\n",
       "      <td>ref</td>\n",
       "      <td></td>\n",
       "      <td></td>\n",
       "    </tr>\n",
       "    <tr>\n",
       "      <th>Primaire</th>\n",
       "      <td>0.87</td>\n",
       "      <td>0.526</td>\n",
       "      <td>0.87 [0.57-1.33]</td>\n",
       "    </tr>\n",
       "    <tr>\n",
       "      <th>Secondaire</th>\n",
       "      <td>1.98</td>\n",
       "      <td>0.0***</td>\n",
       "      <td>1.98 [1.35-2.91]</td>\n",
       "    </tr>\n",
       "    <tr>\n",
       "      <th>Supérieur</th>\n",
       "      <td>2.94</td>\n",
       "      <td>0.0***</td>\n",
       "      <td>2.94 [2.03-4.27]</td>\n",
       "    </tr>\n",
       "    <tr>\n",
       "      <th>Supérieur médical</th>\n",
       "      <td>2.32</td>\n",
       "      <td>0.051</td>\n",
       "      <td>2.32 [1.00-5.39]</td>\n",
       "    </tr>\n",
       "    <tr>\n",
       "      <th>Supérieur scientifique</th>\n",
       "      <td>3.99</td>\n",
       "      <td>0.0***</td>\n",
       "      <td>3.99 [2.47-6.46]</td>\n",
       "    </tr>\n",
       "    <tr>\n",
       "      <th rowspan=\"2\" valign=\"top\">sexe</th>\n",
       "      <th>Femme</th>\n",
       "      <td>ref</td>\n",
       "      <td></td>\n",
       "      <td></td>\n",
       "    </tr>\n",
       "    <tr>\n",
       "      <th>Homme</th>\n",
       "      <td>1.41</td>\n",
       "      <td>0.011*</td>\n",
       "      <td>1.41 [1.08-1.85]</td>\n",
       "    </tr>\n",
       "  </tbody>\n",
       "</table>\n",
       "</div>"
      ],
      "text/plain": [
       "                                  Odds Ratio       p            IC 95%\n",
       "Variable   Modalité                                                   \n",
       ".Intercept                              0.14  0.0***  0.14 [0.09-0.23]\n",
       "age        numérique                    1.02  0.0***  1.02 [1.01-1.03]\n",
       "diplome    Intermédiaire                 ref                          \n",
       "           Primaire                     0.87   0.526  0.87 [0.57-1.33]\n",
       "           Secondaire                   1.98  0.0***  1.98 [1.35-2.91]\n",
       "           Supérieur                    2.94  0.0***  2.94 [2.03-4.27]\n",
       "           Supérieur médical            2.32   0.051  2.32 [1.00-5.39]\n",
       "           Supérieur scientifique       3.99  0.0***  3.99 [2.47-6.46]\n",
       "sexe       Femme                         ref                          \n",
       "           Homme                        1.41  0.011*  1.41 [1.08-1.85]"
      ]
     },
     "execution_count": 65,
     "metadata": {},
     "output_type": "execute_result"
    }
   ],
   "source": [
    "# Créer une variable dépendante valant 1 sur la modalité d'intérêt et 0 sinon\n",
    "corpus[\"apport_positif\"] = corpus[\"apportscience\"].apply(lambda x : 1 if x == \"Plus de bien que de mal\" else 0)\n",
    "\n",
    "# Création d'un modèle\n",
    "pyshs.regression_logistique(corpus,\"apport_positif\",[\"sexe\",\"diplome\",\"age\"])"
   ]
  }
 ],
 "metadata": {
  "kernelspec": {
   "display_name": "Python 3",
   "language": "python",
   "name": "python3"
  },
  "language_info": {
   "codemirror_mode": {
    "name": "ipython",
    "version": 3
   },
   "file_extension": ".py",
   "mimetype": "text/x-python",
   "name": "python",
   "nbconvert_exporter": "python",
   "pygments_lexer": "ipython3",
   "version": "3.7.7"
  }
 },
 "nbformat": 4,
 "nbformat_minor": 4
}
