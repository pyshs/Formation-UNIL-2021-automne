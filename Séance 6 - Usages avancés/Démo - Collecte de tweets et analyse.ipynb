{
 "cells": [
  {
   "cell_type": "markdown",
   "metadata": {},
   "source": [
    "# Collecte et analyse de tweets\n",
    "\n",
    "Twitter met à disposition une API pour interagir avec son service. Cette API nécessite des codes d'accès développeurs, accordés par Twitter. Suivant cet accès, les limites sont plus ou moins importantes. Plus d'information sur les conditions ici : https://developer.twitter.com/en\n",
    "\n",
    "Dans le cas de ce notebook, l'accès académique est utilisé permettant de requêter les archives de Twitter depuis sa création.\n",
    "\n",
    "Le cas traité ici est assez classique : l'objectif est de suivre sur plusieurs années les échanges autour d'un événement particulier, une campagne de prévention des cancers du sein. Les acteurs publics organisent une campagne autour du thème \"Octobre Rose\". Une partie de cette campagne a lieu sur les réseaux sociaux. Qui sont les acteurs qui diffusent cette campagne, quelle est la part des relais des utilisateurs, etc.\n",
    "\n",
    "Le processus de traitement va mettre en lien plusieurs briques différentes :\n",
    "\n",
    "1. La collecte des données à partir de l'API Twitter\n",
    "2. Le nettoyage d'un corpus de taille potentiellement conséquente\n",
    "3. L'analyse exploratoire\n",
    "4. Le traitement des données textuelles\n",
    "5. Le traitement des données relationnelles"
   ]
  },
  {
   "cell_type": "markdown",
   "metadata": {},
   "source": [
    "## Etape 1. Collecte des données\n",
    "\n",
    "Pour la collecte des données, il existe plusieurs bibliothèques. Dans le cas ici, nous utiliserons searchtweets (dont l'utilisation peut être un peu cryptique, j'ai passé un peu de temps avant de comprendre 1/ la logique de l'API Twitter 2/ comment utiliser la bibliothèque.\n",
    "\n",
    "Par exemple : https://twittercommunity.com/t/searchtweetsv2-incorrect-endpoints/157359/3\n"
   ]
  },
  {
   "cell_type": "markdown",
   "metadata": {},
   "source": [
    "Première étape, charger les bibliothèques"
   ]
  },
  {
   "cell_type": "code",
   "execution_count": 2,
   "metadata": {},
   "outputs": [],
   "source": [
    "import pandas as pd # pour les tableaux\n",
    "import matplotlib.pyplot as plt # pour les visualisations\n",
    "import json # pour gérer le format d'échange des données de twitter\n",
    "\n",
    "#!pip install searchtweets-v2\n",
    "from searchtweets import ResultStream, gen_request_parameters, load_credentials\n",
    "from searchtweets import collect_results"
   ]
  },
  {
   "cell_type": "markdown",
   "metadata": {},
   "source": [
    "Récupération des tweets dans les archives avec un accès académique avec la bibliothèque searchtweets et l'API V2"
   ]
  },
  {
   "cell_type": "markdown",
   "metadata": {},
   "source": [
    "Configuration du point d'accès (cf https://developer.twitter.com/en/portal/dashboard avec compte académique)"
   ]
  },
  {
   "cell_type": "code",
   "execution_count": 4,
   "metadata": {},
   "outputs": [],
   "source": [
    "# utilisation de l'API v2 (configurer le fichier yaml)\n",
    "search_args = load_credentials(\"../../Notebooks complets/.twitter_keys.yaml\",\n",
    "                                yaml_key=\"search_tweets_v2\",\n",
    "                                env_overwrite=False)"
   ]
  },
  {
   "cell_type": "markdown",
   "metadata": {},
   "source": [
    "Le fichier .yaml définit le token d'accès (spécifique à mon compte) et le point d'entrée des requêtes\n",
    "\n",
    "````\n",
    "search_tweets_v2:\n",
    "  endpoint: https://api.twitter.com/2/tweets/search/all\n",
    "  bearer_token: [A RENSEIGNER ICI]\n",
    "````"
   ]
  },
  {
   "cell_type": "markdown",
   "metadata": {},
   "source": [
    "Construction d'une requête de test : en effet, la première étape est d'être sur que tout fonctionne bien, et ne pas commencer à collecter toutes les données."
   ]
  },
  {
   "cell_type": "code",
   "execution_count": 5,
   "metadata": {},
   "outputs": [
    {
     "name": "stdout",
     "output_type": "stream",
     "text": [
      "{\"query\": \"octobrerose -is:retweet\", \"start_time\": \"2021-01-01T00:00:00Z\", \"end_time\": \"2021-01-31T00:00:00Z\", \"max_results\": 100, \"tweet.fields\": \"attachments,author_id,context_annotations,conversation_id,created_at,entities,geo,id,in_reply_to_user_id,lang,public_metrics,text,possibly_sensitive,referenced_tweets,reply_settings,source,withheld\", \"user.fields\": \"created_at,description,entities,id,location,name,pinned_tweet_id,profile_image_url,protected,public_metrics,url,username,verified,withheld\", \"media.fields\": \"duration_ms,height,media_key,preview_image_url,type,url,width,public_metrics\", \"place.fields\": \"contained_within,country,country_code,full_name,geo,id,name,place_type\", \"poll.fields\": \"duration_minutes,end_datetime,id,options,voting_status\", \"expansions\": \"author_id,in_reply_to_user_id,referenced_tweets.id,referenced_tweets.id.author_id,entities.mentions.username,attachments.poll_ids,attachments.media_keys,geo.place_id\"}\n"
     ]
    }
   ],
   "source": [
    "query = gen_request_parameters(\"octobrerose -is:retweet\", \n",
    "    granularity=False, \n",
    "    results_per_call=100,\n",
    "    start_time=\"2021-01-01\",\n",
    "    end_time=\"2021-01-31\",\n",
    "    expansions=\"author_id,in_reply_to_user_id,referenced_tweets.id,referenced_tweets.id.author_id,entities.mentions.username,attachments.poll_ids,attachments.media_keys,geo.place_id\",\n",
    "    tweet_fields=\"attachments,author_id,context_annotations,conversation_id,created_at,entities,geo,id,in_reply_to_user_id,lang,public_metrics,text,possibly_sensitive,referenced_tweets,reply_settings,source,withheld\",\n",
    "    user_fields=\"created_at,description,entities,id,location,name,pinned_tweet_id,profile_image_url,protected,public_metrics,url,username,verified,withheld\",\n",
    "    media_fields=\"duration_ms,height,media_key,preview_image_url,type,url,width,public_metrics\",\n",
    "    poll_fields=\"duration_minutes,end_datetime,id,options,voting_status\",\n",
    "    place_fields=\"contained_within,country,country_code,full_name,geo,id,name,place_type\"                        \n",
    "                              )\n",
    "print(query)"
   ]
  },
  {
   "cell_type": "markdown",
   "metadata": {},
   "source": [
    "Exécution de la requête de test"
   ]
  },
  {
   "cell_type": "code",
   "execution_count": 6,
   "metadata": {},
   "outputs": [],
   "source": [
    "tweets = collect_results(query,\n",
    "                         max_tweets=1000,\n",
    "                         result_stream_args=search_args)"
   ]
  },
  {
   "cell_type": "markdown",
   "metadata": {},
   "source": [
    "Vérification de ce qui est retourné - il faut comprendre la structure des données en regardant ce qui est dedans"
   ]
  },
  {
   "cell_type": "code",
   "execution_count": 7,
   "metadata": {},
   "outputs": [
    {
     "data": {
      "text/plain": [
       "1"
      ]
     },
     "execution_count": 7,
     "metadata": {},
     "output_type": "execute_result"
    }
   ],
   "source": [
    "len(tweets)"
   ]
  },
  {
   "cell_type": "code",
   "execution_count": 15,
   "metadata": {},
   "outputs": [
    {
     "data": {
      "text/plain": [
       "dict_keys(['data', 'includes', 'meta'])"
      ]
     },
     "execution_count": 15,
     "metadata": {},
     "output_type": "execute_result"
    }
   ],
   "source": [
    "tweets[0].keys()"
   ]
  },
  {
   "cell_type": "code",
   "execution_count": 17,
   "metadata": {},
   "outputs": [
    {
     "data": {
      "text/plain": [
       "{'source': 'Twitter for Android',\n",
       " 'id': '1355460529100361729',\n",
       " 'created_at': '2021-01-30T10:19:08.000Z',\n",
       " 'lang': 'fr',\n",
       " 'text': '❤️😢❤️😢❤️😢❤️😢❤️😢\\nClairement \\nPendant que....\\nIl y a tellement plus important dans la vie \\nLa vie est courte \\nPensée à mon amie 😢 tu me manques trop 😔\\n#FoutuCancer\\n#OctobreRose\\n#Oser https://t.co/DA7sexJwYc',\n",
       " 'possibly_sensitive': False,\n",
       " 'entities': {'urls': [{'start': 181,\n",
       "    'end': 204,\n",
       "    'url': 'https://t.co/DA7sexJwYc',\n",
       "    'expanded_url': 'https://twitter.com/DANIEL_072021/status/1355446417813336065',\n",
       "    'display_url': 'twitter.com/DANIEL_072021/…'}],\n",
       "  'hashtags': [{'start': 149, 'end': 161, 'tag': 'FoutuCancer'},\n",
       "   {'start': 162, 'end': 174, 'tag': 'OctobreRose'},\n",
       "   {'start': 175, 'end': 180, 'tag': 'Oser'}]},\n",
       " 'author_id': '1185648828516569088',\n",
       " 'conversation_id': '1355460529100361729',\n",
       " 'public_metrics': {'retweet_count': 0,\n",
       "  'reply_count': 0,\n",
       "  'like_count': 0,\n",
       "  'quote_count': 0},\n",
       " 'reply_settings': 'everyone'}"
      ]
     },
     "execution_count": 17,
     "metadata": {},
     "output_type": "execute_result"
    }
   ],
   "source": [
    "tweets[0][\"data\"][0]"
   ]
  },
  {
   "cell_type": "markdown",
   "metadata": {},
   "source": [
    "En regardant en détail, on se rend compte que les données des tweets sont dans data, et que les informations sur les utilisateurs sont dans includes, avec le numéro d'user comme lien entre les deux"
   ]
  },
  {
   "cell_type": "markdown",
   "metadata": {},
   "source": [
    "### Passer à la collecte \"industrielle\""
   ]
  },
  {
   "cell_type": "markdown",
   "metadata": {},
   "source": [
    "Script pour la collecte année par année depuis 2011 jusqu'à 2020 des tweets mentionnant octobrerose (indépendamment des majuscules), en ne collectant pas les retweets, puis sauvegarde dans un fichier json par année. Le choix est fait de découper par années pour pouvoir ensuite plus facilement manipuler les données"
   ]
  },
  {
   "cell_type": "code",
   "execution_count": null,
   "metadata": {},
   "outputs": [],
   "source": [
    "table_tweets = []\n",
    "table_users = []\n",
    "\n",
    "for i in range(2011,2021):\n",
    "    print(i)\n",
    "    \n",
    "    # Construction de la requête sur une année\n",
    "    query = gen_request_parameters(\"octobrerose -is:retweet\", \n",
    "        granularity=False, \n",
    "        results_per_call=100,\n",
    "        start_time=\"%d-01-01\"%i,\n",
    "        end_time=\"%d-12-31\"%i,\n",
    "        expansions=\"author_id,in_reply_to_user_id,referenced_tweets.id,referenced_tweets.id.author_id,entities.mentions.username,attachments.poll_ids,attachments.media_keys,geo.place_id\",\n",
    "        tweet_fields=\"attachments,author_id,context_annotations,conversation_id,created_at,entities,geo,id,in_reply_to_user_id,lang,public_metrics,text,possibly_sensitive,referenced_tweets,reply_settings,source,withheld\",\n",
    "        user_fields=\"created_at,description,entities,id,location,name,pinned_tweet_id,profile_image_url,protected,public_metrics,url,username,verified,withheld\",\n",
    "        media_fields=\"duration_ms,height,media_key,preview_image_url,type,url,width,public_metrics\",\n",
    "        poll_fields=\"duration_minutes,end_datetime,id,options,voting_status\",\n",
    "        place_fields=\"contained_within,country,country_code,full_name,geo,id,name,place_type\"  )      \n",
    "    \n",
    "    # Collecte\n",
    "    tweets = collect_results(query,\n",
    "                         max_tweets=100000,\n",
    "                         result_stream_args=search_args)\n",
    "    print(\"Nombre \",len(tweets)*100)\n",
    "    \n",
    "    # Sauvegarde dans un fichier\n",
    "    json.dump(tweets,open(\"tweets-OR/%d.json\"%i,\"w\"))\n",
    "    \n"
   ]
  },
  {
   "cell_type": "markdown",
   "metadata": {},
   "source": [
    "## Etape 2. Chargement des données et exploration"
   ]
  },
  {
   "cell_type": "markdown",
   "metadata": {},
   "source": [
    "La phase de collecte est achevée. Les données sont stockées. Il est maintenant possible de les analyser. Pour cela, on va faire une lecture des fichiers sauvegardées et construction d'un tableau Pandas.\n",
    "\n",
    "Pour cela, il faut se plonger dans la structure des données. **Attention**, il y a surement plus esthétique que ce qui est fait ici ;)\n",
    "\n",
    "L'objectif final est de produire un tableau qui permette l'analyse des données.\n",
    "\n",
    "Ce script vise à reprendre les fichiers stockés sur le disque dur et à les mettre dans un tableau"
   ]
  },
  {
   "cell_type": "code",
   "execution_count": 3,
   "metadata": {},
   "outputs": [],
   "source": [
    "table_tweets = []\n",
    "table_users = []\n",
    "table_total = []\n",
    "\n",
    "for i in range(2011,2022):\n",
    "    \n",
    "    #ouverture du fichier\n",
    "    tweets = json.load(open(\"tweets-OR/%d.json\"%i,\"r\"))\n",
    "    table_tweets_annee = []\n",
    "    table_users_annee = []\n",
    "    \n",
    "    #parcours des éléments\n",
    "    for p in tweets:\n",
    "        for t in p[\"data\"]:\n",
    "            table_tweets_annee.append([t[\"id\"], t['created_at'], t[\"author_id\"],t[\"text\"],t['public_metrics']['retweet_count'],t['public_metrics']['like_count']])\n",
    "        for u in p[\"includes\"][\"users\"]:\n",
    "            table_users_annee.append([u[\"id\"],u[\"name\"],u[\"username\"],u['created_at'],u[\"description\"],u['public_metrics'],i])\n",
    "    table_tweets += table_tweets_annee \n",
    "    table_users += table_users\n",
    "    \n",
    "    table_tweets_annee = pd.DataFrame(table_tweets_annee,columns=[\"id\",\"date\",\"auteur\",\"texte\",\"nb_retweets\",\"nb_likes\"])\n",
    "    table_users_annee = pd.DataFrame(table_users_annee,columns = [\"id\",\"name\",\"username\",\"date\",\"description\",\"metrics\",\"annee\"])\n",
    "    \n",
    "    # rajouter les informations sur les utilisateurs\n",
    "    def reco(x):\n",
    "        try:\n",
    "            return dict(table_users_annee.loc[x].iloc[0])\n",
    "        except:\n",
    "            return dict(table_users_annee.loc[x])\n",
    "    table_users_annee = table_users_annee.set_index(\"id\")\n",
    "    table_tweets_annee[\"info_user\"] = table_tweets_annee[\"auteur\"].apply(reco)\n",
    "    table_total.append(table_tweets_annee)\n",
    "    \n",
    "# Création tableaux dataframes des tweets d'un côté, et des utilisateurs de l'autre\n",
    "table_tweets = pd.DataFrame(table_tweets,columns=[\"id\",\"date\",\"auteur\",\"texte\",\"nb_retweets\",\"nb_likes\"])\n",
    "table_users = pd.DataFrame(table_users,columns = [\"id\",\"name\",\"username\",\"date\",\"description\",\"metrics\",\"annee\"])\n",
    "table_total = pd.concat(table_total)\n",
    "\n",
    "\n",
    "\n",
    "# Ajouts d'éléments au tableau\n",
    "def get_info(x,y,z=False):\n",
    "    try:\n",
    "        if not z:\n",
    "            return x[y]\n",
    "        else:\n",
    "            return x[y][z]\n",
    "    except:\n",
    "        return None\n",
    "table_total[\"name_user\"] = table_total[\"info_user\"].apply(lambda x : get_info(x,\"name\"))\n",
    "table_total[\"name_description\"] = table_total[\"info_user\"].apply(lambda x : get_info(x,\"description\"))\n",
    "table_total[\"following_user\"] = table_total[\"info_user\"].apply(lambda x : get_info(x,\"metrics\",\"following_count\"))\n",
    "table_total[\"followers_user\"] = table_total[\"info_user\"].apply(lambda x : get_info(x,\"metrics\",\"followers_count\"))\n",
    "table_total[\"username\"] = table_total[\"info_user\"].apply(lambda x : get_info(x,\"username\"))\n",
    "\n",
    "# Mise en forme\n",
    "table_tweets[\"date\"] = pd.to_datetime(table_tweets[\"date\"])\n",
    "table_total[\"date\"] = pd.to_datetime(table_total[\"date\"])\n",
    "table_tweets = table_tweets.set_index(\"date\")\n",
    "table_total = table_total.set_index(\"date\")\n",
    "table_users = table_users.set_index(\"id\")"
   ]
  },
  {
   "cell_type": "markdown",
   "metadata": {},
   "source": [
    "#### A améliorer : lien entre les tweets et les comptes\n",
    "\n",
    "la table des utilisateurs comprend toutes les variations des comptes utilisateurs, qui peut donc apparaitre plusieurs fois. Pour pouvoir ajouer les informations sur le tableau des tweets, il faut donc choisir un seul élément. Par ailleurs comme on est sur un temps long, cela peut varier, il faut veiller à prendre un élément de l'année"
   ]
  },
  {
   "cell_type": "markdown",
   "metadata": {},
   "source": [
    "## Analyse"
   ]
  },
  {
   "cell_type": "markdown",
   "metadata": {},
   "source": [
    "### Quelques statistiques descriptives"
   ]
  },
  {
   "cell_type": "markdown",
   "metadata": {},
   "source": [
    "Les 10 tweets les plus retweetés"
   ]
  },
  {
   "cell_type": "code",
   "execution_count": 4,
   "metadata": {},
   "outputs": [
    {
     "data": {
      "text/html": [
       "<div>\n",
       "<style scoped>\n",
       "    .dataframe tbody tr th:only-of-type {\n",
       "        vertical-align: middle;\n",
       "    }\n",
       "\n",
       "    .dataframe tbody tr th {\n",
       "        vertical-align: top;\n",
       "    }\n",
       "\n",
       "    .dataframe thead th {\n",
       "        text-align: right;\n",
       "    }\n",
       "</style>\n",
       "<table border=\"1\" class=\"dataframe\">\n",
       "  <thead>\n",
       "    <tr style=\"text-align: right;\">\n",
       "      <th></th>\n",
       "      <th>id</th>\n",
       "      <th>auteur</th>\n",
       "      <th>texte</th>\n",
       "      <th>nb_retweets</th>\n",
       "      <th>nb_likes</th>\n",
       "      <th>info_user</th>\n",
       "      <th>name_user</th>\n",
       "      <th>name_description</th>\n",
       "      <th>following_user</th>\n",
       "      <th>followers_user</th>\n",
       "      <th>username</th>\n",
       "    </tr>\n",
       "    <tr>\n",
       "      <th>date</th>\n",
       "      <th></th>\n",
       "      <th></th>\n",
       "      <th></th>\n",
       "      <th></th>\n",
       "      <th></th>\n",
       "      <th></th>\n",
       "      <th></th>\n",
       "      <th></th>\n",
       "      <th></th>\n",
       "      <th></th>\n",
       "      <th></th>\n",
       "    </tr>\n",
       "  </thead>\n",
       "  <tbody>\n",
       "    <tr>\n",
       "      <th>2020-10-01 09:17:40+00:00</th>\n",
       "      <td>1311596130816462848</td>\n",
       "      <td>1155461718274957312</td>\n",
       "      <td>Mon plus grand soutient à toutes ces Femmes qu...</td>\n",
       "      <td>21462</td>\n",
       "      <td>17358</td>\n",
       "      <td>{'name': 'A nurse 💉', 'username': 'silya_liya'...</td>\n",
       "      <td>A nurse 💉</td>\n",
       "      <td></td>\n",
       "      <td>286.0</td>\n",
       "      <td>3752.0</td>\n",
       "      <td>silya_liya</td>\n",
       "    </tr>\n",
       "    <tr>\n",
       "      <th>2020-10-04 11:31:57+00:00</th>\n",
       "      <td>1312717089283674112</td>\n",
       "      <td>2361533452</td>\n",
       "      <td>Je trouve qu’on parle pas assez d’#OctobreRose...</td>\n",
       "      <td>19065</td>\n",
       "      <td>14975</td>\n",
       "      <td>{'name': 'maty 👻', 'username': 'irwinnielourso...</td>\n",
       "      <td>maty 👻</td>\n",
       "      <td>a.r | lily&amp;laura | alexie ♡ | d•b•m | she/her ...</td>\n",
       "      <td>872.0</td>\n",
       "      <td>1692.0</td>\n",
       "      <td>irwinnielourson</td>\n",
       "    </tr>\n",
       "    <tr>\n",
       "      <th>2020-10-01 07:46:58+00:00</th>\n",
       "      <td>1311573304482893825</td>\n",
       "      <td>1248627626098348033</td>\n",
       "      <td>Nous sommes le 1er octobre. Un mois de sensibi...</td>\n",
       "      <td>5144</td>\n",
       "      <td>4803</td>\n",
       "      <td>{'name': 'S', 'username': 'sirinexium_', 'date...</td>\n",
       "      <td>S</td>\n",
       "      <td>25 ans - Infirmière intérimaire et féministe. ...</td>\n",
       "      <td>396.0</td>\n",
       "      <td>3832.0</td>\n",
       "      <td>sirinexium_</td>\n",
       "    </tr>\n",
       "    <tr>\n",
       "      <th>2020-10-06 22:22:38+00:00</th>\n",
       "      <td>1313605612593442822</td>\n",
       "      <td>335134859</td>\n",
       "      <td>Ce tweet est très important. Les femmes noires...</td>\n",
       "      <td>4633</td>\n",
       "      <td>1915</td>\n",
       "      <td>{'name': 'Live Love Laugh 🧡🇸🇳', 'username': 'A...</td>\n",
       "      <td>Live Love Laugh 🧡🇸🇳</td>\n",
       "      <td>Docteur en médecine. Pediatric resident 🥼\\n#Af...</td>\n",
       "      <td>1811.0</td>\n",
       "      <td>4563.0</td>\n",
       "      <td>Atschou</td>\n",
       "    </tr>\n",
       "    <tr>\n",
       "      <th>2020-10-13 17:38:25+00:00</th>\n",
       "      <td>1316070804443082753</td>\n",
       "      <td>1214315619031478272</td>\n",
       "      <td>🏊 Quel beau geste ! Il s'appelle Christophe Ma...</td>\n",
       "      <td>3383</td>\n",
       "      <td>11465</td>\n",
       "      <td>{'name': 'Mediavenir', 'username': 'Mediavenir...</td>\n",
       "      <td>Mediavenir</td>\n",
       "      <td>🌐 L’actualité en temps réel | 🗞 Sources sur @M...</td>\n",
       "      <td>4.0</td>\n",
       "      <td>1441087.0</td>\n",
       "      <td>Mediavenir</td>\n",
       "    </tr>\n",
       "    <tr>\n",
       "      <th>2015-10-01 09:51:52+00:00</th>\n",
       "      <td>649522105231540224</td>\n",
       "      <td>16924183</td>\n",
       "      <td>1 RT = 1 Rose envoyée dans un centre d'accueil...</td>\n",
       "      <td>3270</td>\n",
       "      <td>276</td>\n",
       "      <td>{'name': 'Interflora ❤️', 'username': 'Interfl...</td>\n",
       "      <td>Interflora ❤️</td>\n",
       "      <td>Coucou, moi c'est Flora, je suis une fleur, je...</td>\n",
       "      <td>6317.0</td>\n",
       "      <td>73933.0</td>\n",
       "      <td>Interflora</td>\n",
       "    </tr>\n",
       "    <tr>\n",
       "      <th>2021-10-01 17:14:19+00:00</th>\n",
       "      <td>1443987653985243138</td>\n",
       "      <td>3049390761</td>\n",
       "      <td>Je fais également tourner ! 1er octobre rappel...</td>\n",
       "      <td>2989</td>\n",
       "      <td>2063</td>\n",
       "      <td>{'name': 'le garcon au bob', 'username': 'bebe...</td>\n",
       "      <td>le garcon au bob</td>\n",
       "      <td>rien à dire</td>\n",
       "      <td>5094.0</td>\n",
       "      <td>6584.0</td>\n",
       "      <td>bebeportugais</td>\n",
       "    </tr>\n",
       "    <tr>\n",
       "      <th>2018-10-19 15:06:29+00:00</th>\n",
       "      <td>1053301366297411584</td>\n",
       "      <td>950341134</td>\n",
       "      <td>À toutes celles qui se battent contre le cance...</td>\n",
       "      <td>2773</td>\n",
       "      <td>21356</td>\n",
       "      <td>{'name': 'Antoine Griezmann', 'username': 'Ant...</td>\n",
       "      <td>Antoine Griezmann</td>\n",
       "      <td>Champion du monde ⭐️⭐️ et parrain de l’associa...</td>\n",
       "      <td>49.0</td>\n",
       "      <td>8273673.0</td>\n",
       "      <td>AntoGriezmann</td>\n",
       "    </tr>\n",
       "    <tr>\n",
       "      <th>2016-10-14 12:09:55+00:00</th>\n",
       "      <td>786901850733838337</td>\n",
       "      <td>16924183</td>\n",
       "      <td>20 RT = 1 Bouquet envoyé dans un centre d'accu...</td>\n",
       "      <td>2698</td>\n",
       "      <td>474</td>\n",
       "      <td>{'name': 'Interflora ❤️', 'username': 'Interfl...</td>\n",
       "      <td>Interflora ❤️</td>\n",
       "      <td>Coucou, moi c'est Flora, je suis une fleur, je...</td>\n",
       "      <td>6317.0</td>\n",
       "      <td>73933.0</td>\n",
       "      <td>Interflora</td>\n",
       "    </tr>\n",
       "    <tr>\n",
       "      <th>2014-10-02 17:32:35+00:00</th>\n",
       "      <td>517728869034782720</td>\n",
       "      <td>64730279</td>\n",
       "      <td>#OctobreRose #Mercileshommes - Après le Stade ...</td>\n",
       "      <td>2261</td>\n",
       "      <td>4</td>\n",
       "      <td>{'name': 'Ruban Rose', 'username': 'RubanRose'...</td>\n",
       "      <td>Ruban Rose</td>\n",
       "      <td>Ruban Rose, 1ère association de lutte contre l...</td>\n",
       "      <td>1019.0</td>\n",
       "      <td>7140.0</td>\n",
       "      <td>RubanRose</td>\n",
       "    </tr>\n",
       "  </tbody>\n",
       "</table>\n",
       "</div>"
      ],
      "text/plain": [
       "                                            id               auteur  \\\n",
       "date                                                                  \n",
       "2020-10-01 09:17:40+00:00  1311596130816462848  1155461718274957312   \n",
       "2020-10-04 11:31:57+00:00  1312717089283674112           2361533452   \n",
       "2020-10-01 07:46:58+00:00  1311573304482893825  1248627626098348033   \n",
       "2020-10-06 22:22:38+00:00  1313605612593442822            335134859   \n",
       "2020-10-13 17:38:25+00:00  1316070804443082753  1214315619031478272   \n",
       "2015-10-01 09:51:52+00:00   649522105231540224             16924183   \n",
       "2021-10-01 17:14:19+00:00  1443987653985243138           3049390761   \n",
       "2018-10-19 15:06:29+00:00  1053301366297411584            950341134   \n",
       "2016-10-14 12:09:55+00:00   786901850733838337             16924183   \n",
       "2014-10-02 17:32:35+00:00   517728869034782720             64730279   \n",
       "\n",
       "                                                                       texte  \\\n",
       "date                                                                           \n",
       "2020-10-01 09:17:40+00:00  Mon plus grand soutient à toutes ces Femmes qu...   \n",
       "2020-10-04 11:31:57+00:00  Je trouve qu’on parle pas assez d’#OctobreRose...   \n",
       "2020-10-01 07:46:58+00:00  Nous sommes le 1er octobre. Un mois de sensibi...   \n",
       "2020-10-06 22:22:38+00:00  Ce tweet est très important. Les femmes noires...   \n",
       "2020-10-13 17:38:25+00:00  🏊 Quel beau geste ! Il s'appelle Christophe Ma...   \n",
       "2015-10-01 09:51:52+00:00  1 RT = 1 Rose envoyée dans un centre d'accueil...   \n",
       "2021-10-01 17:14:19+00:00  Je fais également tourner ! 1er octobre rappel...   \n",
       "2018-10-19 15:06:29+00:00  À toutes celles qui se battent contre le cance...   \n",
       "2016-10-14 12:09:55+00:00  20 RT = 1 Bouquet envoyé dans un centre d'accu...   \n",
       "2014-10-02 17:32:35+00:00  #OctobreRose #Mercileshommes - Après le Stade ...   \n",
       "\n",
       "                           nb_retweets  nb_likes  \\\n",
       "date                                               \n",
       "2020-10-01 09:17:40+00:00        21462     17358   \n",
       "2020-10-04 11:31:57+00:00        19065     14975   \n",
       "2020-10-01 07:46:58+00:00         5144      4803   \n",
       "2020-10-06 22:22:38+00:00         4633      1915   \n",
       "2020-10-13 17:38:25+00:00         3383     11465   \n",
       "2015-10-01 09:51:52+00:00         3270       276   \n",
       "2021-10-01 17:14:19+00:00         2989      2063   \n",
       "2018-10-19 15:06:29+00:00         2773     21356   \n",
       "2016-10-14 12:09:55+00:00         2698       474   \n",
       "2014-10-02 17:32:35+00:00         2261         4   \n",
       "\n",
       "                                                                   info_user  \\\n",
       "date                                                                           \n",
       "2020-10-01 09:17:40+00:00  {'name': 'A nurse 💉', 'username': 'silya_liya'...   \n",
       "2020-10-04 11:31:57+00:00  {'name': 'maty 👻', 'username': 'irwinnielourso...   \n",
       "2020-10-01 07:46:58+00:00  {'name': 'S', 'username': 'sirinexium_', 'date...   \n",
       "2020-10-06 22:22:38+00:00  {'name': 'Live Love Laugh 🧡🇸🇳', 'username': 'A...   \n",
       "2020-10-13 17:38:25+00:00  {'name': 'Mediavenir', 'username': 'Mediavenir...   \n",
       "2015-10-01 09:51:52+00:00  {'name': 'Interflora ❤️', 'username': 'Interfl...   \n",
       "2021-10-01 17:14:19+00:00  {'name': 'le garcon au bob', 'username': 'bebe...   \n",
       "2018-10-19 15:06:29+00:00  {'name': 'Antoine Griezmann', 'username': 'Ant...   \n",
       "2016-10-14 12:09:55+00:00  {'name': 'Interflora ❤️', 'username': 'Interfl...   \n",
       "2014-10-02 17:32:35+00:00  {'name': 'Ruban Rose', 'username': 'RubanRose'...   \n",
       "\n",
       "                                     name_user  \\\n",
       "date                                             \n",
       "2020-10-01 09:17:40+00:00            A nurse 💉   \n",
       "2020-10-04 11:31:57+00:00               maty 👻   \n",
       "2020-10-01 07:46:58+00:00                    S   \n",
       "2020-10-06 22:22:38+00:00  Live Love Laugh 🧡🇸🇳   \n",
       "2020-10-13 17:38:25+00:00           Mediavenir   \n",
       "2015-10-01 09:51:52+00:00        Interflora ❤️   \n",
       "2021-10-01 17:14:19+00:00     le garcon au bob   \n",
       "2018-10-19 15:06:29+00:00    Antoine Griezmann   \n",
       "2016-10-14 12:09:55+00:00        Interflora ❤️   \n",
       "2014-10-02 17:32:35+00:00           Ruban Rose   \n",
       "\n",
       "                                                            name_description  \\\n",
       "date                                                                           \n",
       "2020-10-01 09:17:40+00:00                                                      \n",
       "2020-10-04 11:31:57+00:00  a.r | lily&laura | alexie ♡ | d•b•m | she/her ...   \n",
       "2020-10-01 07:46:58+00:00  25 ans - Infirmière intérimaire et féministe. ...   \n",
       "2020-10-06 22:22:38+00:00  Docteur en médecine. Pediatric resident 🥼\\n#Af...   \n",
       "2020-10-13 17:38:25+00:00  🌐 L’actualité en temps réel | 🗞 Sources sur @M...   \n",
       "2015-10-01 09:51:52+00:00  Coucou, moi c'est Flora, je suis une fleur, je...   \n",
       "2021-10-01 17:14:19+00:00                                        rien à dire   \n",
       "2018-10-19 15:06:29+00:00  Champion du monde ⭐️⭐️ et parrain de l’associa...   \n",
       "2016-10-14 12:09:55+00:00  Coucou, moi c'est Flora, je suis une fleur, je...   \n",
       "2014-10-02 17:32:35+00:00  Ruban Rose, 1ère association de lutte contre l...   \n",
       "\n",
       "                           following_user  followers_user         username  \n",
       "date                                                                        \n",
       "2020-10-01 09:17:40+00:00           286.0          3752.0       silya_liya  \n",
       "2020-10-04 11:31:57+00:00           872.0          1692.0  irwinnielourson  \n",
       "2020-10-01 07:46:58+00:00           396.0          3832.0      sirinexium_  \n",
       "2020-10-06 22:22:38+00:00          1811.0          4563.0          Atschou  \n",
       "2020-10-13 17:38:25+00:00             4.0       1441087.0       Mediavenir  \n",
       "2015-10-01 09:51:52+00:00          6317.0         73933.0       Interflora  \n",
       "2021-10-01 17:14:19+00:00          5094.0          6584.0    bebeportugais  \n",
       "2018-10-19 15:06:29+00:00            49.0       8273673.0    AntoGriezmann  \n",
       "2016-10-14 12:09:55+00:00          6317.0         73933.0       Interflora  \n",
       "2014-10-02 17:32:35+00:00          1019.0          7140.0        RubanRose  "
      ]
     },
     "execution_count": 4,
     "metadata": {},
     "output_type": "execute_result"
    }
   ],
   "source": [
    "table_total.sort_values(\"nb_retweets\",ascending=False)[0:10]"
   ]
  },
  {
   "cell_type": "markdown",
   "metadata": {},
   "source": [
    "Nombre total de retweets"
   ]
  },
  {
   "cell_type": "code",
   "execution_count": 6,
   "metadata": {},
   "outputs": [
    {
     "data": {
      "text/plain": [
       "272063"
      ]
     },
     "execution_count": 6,
     "metadata": {},
     "output_type": "execute_result"
    }
   ],
   "source": [
    "table_total[\"nb_retweets\"].sum()"
   ]
  },
  {
   "cell_type": "markdown",
   "metadata": {},
   "source": [
    "Nombre total de comptes engagés"
   ]
  },
  {
   "cell_type": "code",
   "execution_count": 193,
   "metadata": {},
   "outputs": [
    {
     "data": {
      "text/plain": [
       "Institut Curie            618\n",
       "Ruban Rose                502\n",
       "Le Blog de Gaston ⭐⭐      319\n",
       "Accuray France            297\n",
       "RadiotherapieFr           290\n",
       "                         ... \n",
       "/\\rrak¡ss 🇫🇷                1\n",
       "Primesautier                1\n",
       "Media Conseil Presse        1\n",
       "Stéphanie Bazylak           1\n",
       "DC Préparation Mentale      1\n",
       "Name: name_user, Length: 29110, dtype: int64"
      ]
     },
     "execution_count": 193,
     "metadata": {},
     "output_type": "execute_result"
    }
   ],
   "source": [
    "table_total[\"name_user\"].value_counts()"
   ]
  },
  {
   "cell_type": "markdown",
   "metadata": {},
   "source": [
    "Environ 30000 comptes différents... avec en tête l'institut Curie, avec 618 tweets"
   ]
  },
  {
   "cell_type": "markdown",
   "metadata": {},
   "source": [
    "### Graphique d'évolution"
   ]
  },
  {
   "cell_type": "code",
   "execution_count": 174,
   "metadata": {},
   "outputs": [
    {
     "data": {
      "image/png": "[encoded data removed]",
      "text/plain": [
       "<Figure size 720x360 with 1 Axes>"
      ]
     },
     "metadata": {
      "needs_background": "light"
     },
     "output_type": "display_data"
    }
   ],
   "source": [
    "ax = table_total[\"nb_retweets\"].resample(\"m\").count().plot(figsize=(10,5))\n",
    "ax = table_total[\"nb_retweets\"].resample(\"m\").sum().plot(ax=ax)\n",
    "ax = table_total[\"nb_likes\"].resample(\"m\").sum().plot(ax=ax)\n",
    "\n",
    "\n",
    "plt.xlim(\"2012-01-01\",\"2022-01-01\")\n",
    "plt.legend([\"Tweets originaux\",\"Retweets cumulés\",\"Likes cumulés\"])\n",
    "plt.xlabel(\"Date\")\n",
    "plt.ylabel(\"Nombre cumulé par mois\")\n",
    "plt.title(\"Tweets mentionnant le hashtag #octobrerose (archives totales)\")\n",
    "plt.tight_layout()\n",
    "plt.savefig(\"evolutionOR.png\")"
   ]
  },
  {
   "cell_type": "markdown",
   "metadata": {},
   "source": [
    "## Traitement sur les hashtags"
   ]
  },
  {
   "cell_type": "code",
   "execution_count": 4,
   "metadata": {},
   "outputs": [],
   "source": [
    "# Récupérer les hashtags d'une chaîne de caractères\n",
    "def get_hash(x):\n",
    "    if pd.isnull(x):\n",
    "        return None\n",
    "    t = x.replace(\".\",\" \").replace(\",\",\" \").replace(\"#\",\" #\").split()\n",
    "    return [i for i in t if i[0]==\"#\"]"
   ]
  },
  {
   "cell_type": "code",
   "execution_count": 5,
   "metadata": {},
   "outputs": [],
   "source": [
    "table_total[\"hashtags\"] = table_total[\"texte\"].str.lower().apply(get_hash)"
   ]
  },
  {
   "cell_type": "code",
   "execution_count": 6,
   "metadata": {},
   "outputs": [
    {
     "data": {
      "text/plain": [
       "#octobrerose                   72902\n",
       "#cancerdusein                  13061\n",
       "#cancer                         6645\n",
       "#dépistage                      1663\n",
       "#sein                           1492\n",
       "#rubanrose                      1458\n",
       "#pinkoctober                    1444\n",
       "#depistage                      1255\n",
       "#santé                          1166\n",
       "#octobrerose2021                 960\n",
       "#breastcancer                    858\n",
       "#octobrerose2020                 855\n",
       "#prévention                      802\n",
       "#prevention                      794\n",
       "#octobrerose]                    785\n",
       "#solidarité                      731\n",
       "#hcsmeufr                        704\n",
       "#generose                        690\n",
       "#rose                            682\n",
       "#femmes                          674\n",
       "#sante                           606\n",
       "#axaatoutcoeur                   602\n",
       "#octobrerose🎀                    594\n",
       "#octobrerose2019                 561\n",
       "#tousconcernés                   547\n",
       "#angers                          545\n",
       "#paris                           545\n",
       "#luttecontrelecancer             504\n",
       "#gabon                           497\n",
       "#breastcancerawarenessmonth      478\n",
       "dtype: int64"
      ]
     },
     "execution_count": 6,
     "metadata": {},
     "output_type": "execute_result"
    }
   ],
   "source": [
    "hashtags = pd.Series([j for i in list(table_total[\"hashtags\"]) for j in i]).value_counts()\n",
    "hashtags[0:30]"
   ]
  },
  {
   "cell_type": "markdown",
   "metadata": {},
   "source": [
    "Il faudrait éventuellement faire un recodage..."
   ]
  },
  {
   "cell_type": "markdown",
   "metadata": {},
   "source": [
    "Nombre de hashtags par tweet"
   ]
  },
  {
   "cell_type": "code",
   "execution_count": 199,
   "metadata": {},
   "outputs": [
    {
     "data": {
      "text/plain": [
       "<AxesSubplot:>"
      ]
     },
     "execution_count": 199,
     "metadata": {},
     "output_type": "execute_result"
    },
    {
     "data": {
      "image/png": "[encoded data removed]",
      "text/plain": [
       "<Figure size 432x288 with 1 Axes>"
      ]
     },
     "metadata": {
      "needs_background": "light"
     },
     "output_type": "display_data"
    }
   ],
   "source": [
    "table_total[\"hashtags\"].apply(len).hist(bins=40)"
   ]
  },
  {
   "cell_type": "markdown",
   "metadata": {},
   "source": [
    "Si on veut faire un petit réseau à visualiser sous Gephi ?\n",
    "\n",
    "On utilise la bibliothèque networkx, et itertools pour les combinaisons"
   ]
  },
  {
   "cell_type": "code",
   "execution_count": 209,
   "metadata": {},
   "outputs": [],
   "source": [
    "import networkx as nx\n",
    "import itertools\n",
    "\n",
    "G = nx.Graph()\n",
    "for k,l in table_total.iterrows():\n",
    "    for h in l[\"hashtags\"]:\n",
    "        if h in G.nodes:\n",
    "            G.nodes[h][\"weight\"]+=1\n",
    "        else:\n",
    "            G.add_node(h,weight=1)\n",
    "        \n",
    "    for i,j in itertools.combinations(l[\"hashtags\"], 2):\n",
    "        if G.has_edge(i,j):\n",
    "            G[i][j][\"weight\"]+=1\n",
    "        else:\n",
    "            G.add_edge(i,j,weight=1)"
   ]
  },
  {
   "cell_type": "code",
   "execution_count": 213,
   "metadata": {},
   "outputs": [
    {
     "data": {
      "text/plain": [
       "170579"
      ]
     },
     "execution_count": 213,
     "metadata": {},
     "output_type": "execute_result"
    }
   ],
   "source": [
    "#G.nodes(data=True)\n",
    "len(G.edges)"
   ]
  },
  {
   "cell_type": "markdown",
   "metadata": {},
   "source": [
    "Exporter en format lisible par Gephi"
   ]
  },
  {
   "cell_type": "code",
   "execution_count": 214,
   "metadata": {},
   "outputs": [],
   "source": [
    "nx.write_graphml(G,\"reseau.graphml\")"
   ]
  },
  {
   "cell_type": "markdown",
   "metadata": {},
   "source": [
    "## Récupérer les liens des tweets"
   ]
  },
  {
   "cell_type": "markdown",
   "metadata": {},
   "source": [
    "à faire ..."
   ]
  },
  {
   "cell_type": "markdown",
   "metadata": {},
   "source": [
    "## Analyse du contenu textuel"
   ]
  },
  {
   "cell_type": "markdown",
   "metadata": {},
   "source": [
    "Il existe beaucoup de bibliothèques, comme Nltk, Gensim ou SpaCy. Plusieurs manières de pratique..."
   ]
  },
  {
   "cell_type": "code",
   "execution_count": 5,
   "metadata": {},
   "outputs": [],
   "source": [
    "import nltk\n",
    "from nltk.corpus import stopwords\n",
    "import re\n",
    "\n",
    "#from nltk.tokenize import word_tokenize\n",
    "#nltk.download('punkt')\n",
    "#print(word_tokenize(\"Ceci est un.\",language=\"french\"))\n",
    "\n",
    "stop_words = stopwords.words('french')\n",
    "stop_words += [\"octobrerose\",\"https\",\"http\",\"co\"]"
   ]
  },
  {
   "cell_type": "markdown",
   "metadata": {},
   "source": [
    "### Tout l'enjeu est de nettoyer ...\n",
    "\n",
    "Et il y a de nombreuses stratégies.\n",
    "\n",
    "Au moins trois bibliothèques :\n",
    "\n",
    "- NLTK : bas niveau, travail sur le contenu\n",
    "- Gensim : des modèles\n",
    "- Spacy : ML\n",
    "\n",
    "https://www.kaggle.com/faressayah/nlp-with-spacy-nltk-gensim"
   ]
  },
  {
   "cell_type": "markdown",
   "metadata": {},
   "source": [
    "#### Utilisation de spacy\n",
    "\n",
    "Il y a des bibliothèques basée sur des modèles pré-entrainés puissants... mais la question est toujours si ils donnent des résultats pertinets pour vous\n",
    "\n",
    "https://spacy.io/usage/spacy-101"
   ]
  },
  {
   "cell_type": "markdown",
   "metadata": {},
   "source": [
    "On va travailler sur un échantillon pour ne pas prendre trop de temps"
   ]
  },
  {
   "cell_type": "code",
   "execution_count": 7,
   "metadata": {},
   "outputs": [],
   "source": [
    "table_sample = table_total.sample(1000)"
   ]
  },
  {
   "cell_type": "markdown",
   "metadata": {},
   "source": [
    "Chaque texte est passé dans "
   ]
  },
  {
   "cell_type": "code",
   "execution_count": 26,
   "metadata": {},
   "outputs": [],
   "source": [
    "import spacy\n",
    "# https://spacy.io/models/fr -> installer le modèle\n",
    "# !python -m spacy download fr_core_news_md\n",
    "\n",
    "nlp = spacy.load(\"fr_core_news_sm\")\n",
    "\n",
    "table_sample[\"texte-spacy\"] = table_sample[\"texte\"].apply(nlp)"
   ]
  },
  {
   "cell_type": "code",
   "execution_count": 9,
   "metadata": {},
   "outputs": [
    {
     "data": {
      "text/plain": [
       "[('tagger', <spacy.pipeline.pipes.Tagger at 0x14420ae90>),\n",
       " ('parser', <spacy.pipeline.pipes.DependencyParser at 0x1442578a0>),\n",
       " ('ner', <spacy.pipeline.pipes.EntityRecognizer at 0x1442577c0>)]"
      ]
     },
     "execution_count": 9,
     "metadata": {},
     "output_type": "execute_result"
    }
   ],
   "source": [
    "nlp.pipeline"
   ]
  },
  {
   "cell_type": "markdown",
   "metadata": {},
   "source": [
    "Un élément"
   ]
  },
  {
   "cell_type": "code",
   "execution_count": 36,
   "metadata": {},
   "outputs": [
    {
     "name": "stdout",
     "output_type": "stream",
     "text": [
      "L'activité sportive diminue le taux de rechute de 50 % et permet de mieux vivre la maladie #cancerdusein #octobrerose http://t.co/MOmkdPM2\n",
      "🎀 PROPN ROOT 🎀 PROPN___\n",
      "Début PROPN dep Début PROPN___\n",
      "de ADP case de ADP___\n",
      "la DET det le DET__Definite=Def|Gender=Fem|Number=Sing|PronType=Art\n",
      "27e ADJ amod 27 ADJ__NumType=Ord\n",
      "édition NOUN nmod édition NOUN__Gender=Fem|Number=Sing\n",
      "du DET det de DET__Gender=Masc|Number=Sing\n",
      "mois NOUN nmod mois NOUN__Gender=Masc|Number=Sing\n",
      "d'#OctobreRose ADP amod d'#octobrerose ADP___\n",
      ", PUNCT punct , PUNCT___\n",
      "l' DET det le DET__Definite=Def|Number=Sing|PronType=Art\n",
      "heure NOUN nsubj heure NOUN__Gender=Fem|Number=Sing\n",
      "de ADP mark de ADP___\n",
      "vous PRON iobj vous PRON__Number=Plur|Person=2\n",
      "rappeler VERB ROOT rappeler VERB__VerbForm=Inf\n",
      "à ADP case à ADP___\n",
      "toutes ADJ obl tout ADJ__Gender=Fem|Number=Plur\n",
      "( PUNCT punct ( PUNCT___\n",
      "et CCONJ cc et CCONJ___\n",
      "à ADP case à ADP___\n",
      "tous PRON conj tout PRON__Gender=Masc|Number=Plur|PronType=Rel\n",
      ") PUNCT punct ) PUNCT___\n",
      "qu' PRON mark qu' PRON__PronType=Rel\n",
      "il PRON nsubj il PRON__Gender=Masc|Number=Sing|Person=3\n",
      "est AUX cop être AUX__Mood=Ind|Number=Sing|Person=3|Tense=Pres|VerbForm=Fin\n",
      "important ADJ ccomp important ADJ__Gender=Masc|Number=Sing\n",
      "de ADP mark de ADP___\n",
      "vous PRON iobj vous PRON__Number=Plur|Person=2\n",
      "faire VERB xcomp faire VERB__VerbForm=Inf\n",
      "régulièrement ADV advmod régulièrement ADV___\n",
      "dépister VERB xcomp dépister VERB__VerbForm=Inf\n",
      "de ADP case de ADP___\n",
      "manière NOUN obl manière NOUN__Gender=Fem|Number=Sing\n",
      "préventive ADJ amod préventif ADJ__Gender=Fem|Number=Sing\n",
      "car CCONJ cc car CCONJ___\n",
      "nous PRON nsubj nous PRON__Number=Plur|Person=1\n",
      "pouvons AUX aux pouvoir AUX__Mood=Ind|Number=Plur|Person=1|Tense=Pres|VerbForm=Fin\n",
      "tous ADJ advmod tout ADJ__Gender=Masc|Number=Plur\n",
      "être AUX cop être AUX__VerbForm=Inf\n",
      "touché VERB conj toucher VERB__Gender=Masc|Number=Sing|Tense=Past|VerbForm=Part|Voice=Pass\n",
      "! PUNCT punct ! PUNCT___\n",
      "https://t.co/cNl7NYRWE7 ADJ ROOT https://t.co/cnl7nyrwe7 ADJ__Gender=Masc|Number=Sing|NumType=Ord\n"
     ]
    }
   ],
   "source": [
    "### doc = nlp(table_total[\"texte\"].iloc[0])\n",
    "print(doc)\n",
    "for token in table_sample[\"texte-spacy\"].iloc[1]:\n",
    "    print(token.text, token.pos_, token.dep_, token.lemma_, token.tag_)"
   ]
  },
  {
   "cell_type": "code",
   "execution_count": 38,
   "metadata": {},
   "outputs": [
    {
     "data": {
      "text/plain": [
       "'adjective'"
      ]
     },
     "execution_count": 38,
     "metadata": {},
     "output_type": "execute_result"
    }
   ],
   "source": [
    "spacy.explain(\"ADJ\")"
   ]
  },
  {
   "cell_type": "markdown",
   "metadata": {},
   "source": [
    "Ne garder que les noms"
   ]
  },
  {
   "cell_type": "code",
   "execution_count": 42,
   "metadata": {},
   "outputs": [],
   "source": [
    "def filter_words(x):\n",
    "    r = []\n",
    "    for token in x:\n",
    "        if token.pos_ == \"NOUN\":\n",
    "            r.append(token.lemma_)\n",
    "    return r"
   ]
  },
  {
   "cell_type": "code",
   "execution_count": 43,
   "metadata": {},
   "outputs": [
    {
     "data": {
      "text/plain": [
       "date\n",
       "2017-09-20 10:06:36+00:00      [octobrerose, 01/10/17, équipe, cause, ♀, ♀, ▶]\n",
       "2020-10-01 17:53:20+00:00                      [édition, mois, heure, manière]\n",
       "2017-10-03 16:03:21+00:00                                    [initiative, vik]\n",
       "2011-10-05 07:29:19+00:00    [hrc, #, octobrerose, pinktober, against, canc...\n",
       "2021-09-17 11:58:19+00:00    [octobre, cancer, sein, faite, comité, seine, ...\n",
       "                                                   ...                        \n",
       "2021-10-09 15:25:31+00:00    [jardin, 🇩, couleur, octobre, 🍁, 💜, 📷, perso, ...\n",
       "2013-11-01 04:12:34+00:00                                                   []\n",
       "2014-10-02 12:28:39+00:00             [#, octobrerose, http://t.co/dbjti8jzca]\n",
       "2020-10-01 07:39:46+00:00    [jour, octobre, participon, sensibilisation, c...\n",
       "2016-10-09 10:26:32+00:00                             [foulée, ✔, octobrerose]\n",
       "Name: texte-spacy, Length: 1000, dtype: object"
      ]
     },
     "execution_count": 43,
     "metadata": {},
     "output_type": "execute_result"
    }
   ],
   "source": [
    "table_sample[\"texte-spacy\"].apply(filter_words)"
   ]
  },
  {
   "cell_type": "markdown",
   "metadata": {},
   "source": [
    "### Contrôler le nettoyage"
   ]
  },
  {
   "cell_type": "code",
   "execution_count": 44,
   "metadata": {},
   "outputs": [],
   "source": [
    "from gensim.parsing.preprocessing import strip_punctuation\n",
    "from gensim.utils import simple_preprocess, lemmatize\n",
    "\n",
    "table_total[\"texte_token\"] = table_total[\"texte\"].apply(strip_punctuation).apply(simple_preprocess)\n",
    "table_total[\"texte_token_filtre\"] = table_total[\"texte_token\"].apply(lambda x : [i for i in x if not i in stop_words])"
   ]
  },
  {
   "cell_type": "markdown",
   "metadata": {},
   "source": [
    "Tokenisation sur l'ensemble des données et création d'un dictionnaire"
   ]
  },
  {
   "cell_type": "code",
   "execution_count": 45,
   "metadata": {},
   "outputs": [
    {
     "data": {
      "text/html": [
       "<div>\n",
       "<style scoped>\n",
       "    .dataframe tbody tr th:only-of-type {\n",
       "        vertical-align: middle;\n",
       "    }\n",
       "\n",
       "    .dataframe tbody tr th {\n",
       "        vertical-align: top;\n",
       "    }\n",
       "\n",
       "    .dataframe thead th {\n",
       "        text-align: right;\n",
       "    }\n",
       "</style>\n",
       "<table border=\"1\" class=\"dataframe\">\n",
       "  <thead>\n",
       "    <tr style=\"text-align: right;\">\n",
       "      <th></th>\n",
       "      <th>0</th>\n",
       "      <th>1</th>\n",
       "    </tr>\n",
       "  </thead>\n",
       "  <tbody>\n",
       "    <tr>\n",
       "      <th>75561</th>\n",
       "      <td>covoiturauvergn</td>\n",
       "      <td>1</td>\n",
       "    </tr>\n",
       "    <tr>\n",
       "      <th>98674</th>\n",
       "      <td>adivalor</td>\n",
       "      <td>1</td>\n",
       "    </tr>\n",
       "    <tr>\n",
       "      <th>98673</th>\n",
       "      <td>yyfqnawgtz</td>\n",
       "      <td>1</td>\n",
       "    </tr>\n",
       "    <tr>\n",
       "      <th>98672</th>\n",
       "      <td>wkqsm</td>\n",
       "      <td>1</td>\n",
       "    </tr>\n",
       "    <tr>\n",
       "      <th>98671</th>\n",
       "      <td>vkfsmn</td>\n",
       "      <td>1</td>\n",
       "    </tr>\n",
       "    <tr>\n",
       "      <th>...</th>\n",
       "      <td>...</td>\n",
       "      <td>...</td>\n",
       "    </tr>\n",
       "    <tr>\n",
       "      <th>15</th>\n",
       "      <td>contre</td>\n",
       "      <td>11876</td>\n",
       "    </tr>\n",
       "    <tr>\n",
       "      <th>42</th>\n",
       "      <td>rose</td>\n",
       "      <td>12440</td>\n",
       "    </tr>\n",
       "    <tr>\n",
       "      <th>1</th>\n",
       "      <td>cancerdusein</td>\n",
       "      <td>13435</td>\n",
       "    </tr>\n",
       "    <tr>\n",
       "      <th>21</th>\n",
       "      <td>sein</td>\n",
       "      <td>19120</td>\n",
       "    </tr>\n",
       "    <tr>\n",
       "      <th>14</th>\n",
       "      <td>cancer</td>\n",
       "      <td>26923</td>\n",
       "    </tr>\n",
       "  </tbody>\n",
       "</table>\n",
       "<p>151124 rows × 2 columns</p>\n",
       "</div>"
      ],
      "text/plain": [
       "                     0      1\n",
       "75561  covoiturauvergn      1\n",
       "98674         adivalor      1\n",
       "98673       yyfqnawgtz      1\n",
       "98672            wkqsm      1\n",
       "98671           vkfsmn      1\n",
       "...                ...    ...\n",
       "15              contre  11876\n",
       "42                rose  12440\n",
       "1         cancerdusein  13435\n",
       "21                sein  19120\n",
       "14              cancer  26923\n",
       "\n",
       "[151124 rows x 2 columns]"
      ]
     },
     "execution_count": 45,
     "metadata": {},
     "output_type": "execute_result"
    }
   ],
   "source": [
    "from gensim import corpora\n",
    "my_dictionary = corpora.Dictionary(table_total[\"texte_token_filtre\"])\n",
    "\n",
    "# sauvegarder le dictionnaire\n",
    "# my_dictionary.save('my_dictionary.dict')\n",
    "# my_dictionary.save_as_text(\"test.txt\")\n",
    "\n",
    "# charger le dictionnaire\n",
    "# load_dict = corpora.Dictionary.load(my_dictionary.dict')b\n",
    "\n",
    "dic = pd.DataFrame([[my_dictionary[i],my_dictionary.cfs[i]] for i in my_dictionary])\n",
    "dic.sort_values(1)"
   ]
  },
  {
   "cell_type": "markdown",
   "metadata": {},
   "source": [
    "Compresser avec un codage ..."
   ]
  },
  {
   "cell_type": "code",
   "execution_count": 49,
   "metadata": {},
   "outputs": [
    {
     "data": {
      "text/plain": [
       "date\n",
       "2011-11-25 09:15:18+00:00    [(0, 1), (1, 1), (2, 1), (3, 1), (4, 1), (5, 1...\n",
       "2011-11-23 09:53:02+00:00    [(11, 1), (12, 1), (13, 1), (14, 1), (15, 1), ...\n",
       "2011-11-21 19:13:29+00:00    [(22, 1), (23, 1), (24, 1), (25, 1), (26, 1), ...\n",
       "2011-11-21 19:12:13+00:00    [(22, 1), (23, 1), (24, 1), (26, 1), (27, 1), ...\n",
       "2011-11-09 20:53:20+00:00    [(22, 1), (36, 1), (37, 1), (38, 1), (39, 1), ...\n",
       "                                                   ...                        \n",
       "2021-01-05 15:29:22+00:00    [(55, 1), (253, 1), (1196, 1), (1450, 1), (170...\n",
       "2021-01-04 18:30:11+00:00    [(3131, 1), (3929, 1), (7345, 1), (15679, 1), ...\n",
       "2021-01-03 15:42:38+00:00    [(14, 1), (21, 1), (28, 1), (29, 1), (42, 1), ...\n",
       "2021-01-03 09:56:25+00:00    [(275, 1), (1802, 1), (151118, 1), (151119, 1)...\n",
       "2021-01-01 10:40:31+00:00    [(1, 1), (24, 1), (51, 1), (71, 1), (81, 1), (...\n",
       "Name: texte-bow, Length: 75687, dtype: object"
      ]
     },
     "execution_count": 49,
     "metadata": {},
     "output_type": "execute_result"
    }
   ],
   "source": [
    "table_total[\"texte-bow\"] = table_total[\"texte_token_filtre\"].apply(lambda x: my_dictionary.doc2bow(x, allow_update = True))\n",
    "table_total[\"texte-bow\"]"
   ]
  },
  {
   "cell_type": "markdown",
   "metadata": {},
   "source": [
    "Un exemple de traitement TF - IDF"
   ]
  },
  {
   "cell_type": "code",
   "execution_count": 50,
   "metadata": {},
   "outputs": [],
   "source": [
    "from gensim import models\n",
    "import numpy as np\n",
    "BoW_corpus = list(table_total[\"texte-bow\"])\n",
    "tfIdf = models.TfidfModel(BoW_corpus, smartirs ='ntc')\n",
    "\n",
    "weight_tfidf =[]\n",
    "for doc in tfIdf[BoW_corpus]:\n",
    "    for i, freq in doc:\n",
    "        weight_tfidf.append([my_dictionary[i], np.around(freq, decimals = 3)])\n",
    "#print(weight_tfidf) "
   ]
  },
  {
   "cell_type": "code",
   "execution_count": 54,
   "metadata": {},
   "outputs": [
    {
     "data": {
      "text/plain": [
       "[['activité', 0.261],\n",
       " ['cancerdusein', 0.079],\n",
       " ['diminue', 0.353],\n",
       " ['maladie', 0.179],\n",
       " ['mieux', 0.223],\n",
       " ['momkdpm', 0.511],\n",
       " ['permet', 0.226],\n",
       " ['rechute', 0.406],\n",
       " ['sportive', 0.295],\n",
       " ['taux', 0.297],\n",
       " ['vivre', 0.259],\n",
       " ['afterwork', 0.327],\n",
       " ['bilan', 0.289],\n",
       " ['cafe', 0.342],\n",
       " ['cancer', 0.046],\n",
       " ['contre', 0.076],\n",
       " ['hard', 0.357],\n",
       " ['hoeyeko', 0.454],\n",
       " ['marquante', 0.426],\n",
       " ['paris', 0.16]]"
      ]
     },
     "execution_count": 54,
     "metadata": {},
     "output_type": "execute_result"
    }
   ],
   "source": [
    "weight_tfidf[0:20]"
   ]
  },
  {
   "cell_type": "markdown",
   "metadata": {},
   "source": [
    "Bigrammes"
   ]
  },
  {
   "cell_type": "code",
   "execution_count": 56,
   "metadata": {},
   "outputs": [],
   "source": [
    "from gensim.models.phrases import Phrases\n",
    "bigram_model = Phrases(table_total[\"texte_token_filtre\"], min_count = 2, threshold = 10)\n",
    "\n",
    "trigram_model = Phrases(bigram_model[table_total[\"texte_token_filtre\"]], threshold = 10)"
   ]
  },
  {
   "cell_type": "code",
   "execution_count": 58,
   "metadata": {},
   "outputs": [
    {
     "data": {
      "text/plain": [
       "['catirosi',\n",
       " 'femmes_font',\n",
       " 'différence',\n",
       " 'quotidien',\n",
       " 'cancersein',\n",
       " 'souti',\n",
       " 'asymetriques']"
      ]
     },
     "execution_count": 58,
     "metadata": {},
     "output_type": "execute_result"
    }
   ],
   "source": [
    "bigram_model[table_total[\"texte_token_filtre\"].iloc[300]]"
   ]
  },
  {
   "cell_type": "code",
   "execution_count": 59,
   "metadata": {},
   "outputs": [
    {
     "data": {
      "text/plain": [
       "['catirosi',\n",
       " 'femmes_font',\n",
       " 'différence',\n",
       " 'quotidien',\n",
       " 'cancersein',\n",
       " 'souti',\n",
       " 'asymetriques']"
      ]
     },
     "execution_count": 59,
     "metadata": {},
     "output_type": "execute_result"
    }
   ],
   "source": [
    "trigram_model[bigram_model[table_total[\"texte_token_filtre\"].iloc[300]]]"
   ]
  },
  {
   "cell_type": "markdown",
   "metadata": {},
   "source": [
    "Récupérer tous les trigrammes produits ..."
   ]
  },
  {
   "cell_type": "code",
   "execution_count": 68,
   "metadata": {},
   "outputs": [],
   "source": [
    "def tri(x):\n",
    "    t = trigram_model[bigram_model[x]]\n",
    "    return [i for i in t if i.count(\"_\")==2]\n",
    "\n",
    "t = table_total[\"texte_token_filtre\"].apply(tri)"
   ]
  },
  {
   "cell_type": "code",
   "execution_count": 74,
   "metadata": {},
   "outputs": [
    {
     "data": {
      "text/plain": [
       "contre_cancer_sein                1627\n",
       "dépistage_cancer_sein             1456\n",
       "lutte_contre_cancer                454\n",
       "ligue_contre_cancer                383\n",
       "cancer_sein_parlons                305\n",
       "comme_chaque_année                 209\n",
       "mois_octobre_rose                  161\n",
       "mois_sensibilisation_dépistage     161\n",
       "cadre_octobre_rose                 152\n",
       "cette_année_encore                 150\n",
       "occasion_octobre_rose              145\n",
       "rubanrose_ans_comme                133\n",
       "lutter_contre_cancer               130\n",
       "tout_mois_octobre                  129\n",
       "soutien_lutte_contre               117\n",
       "mois_lutte_contre                  110\n",
       "campagne_octobre_rose              102\n",
       "cancer_plus_fréquent                99\n",
       "cet_après_midi                      93\n",
       "dépistage_sauve_vies                91\n",
       "dtype: int64"
      ]
     },
     "execution_count": 74,
     "metadata": {},
     "output_type": "execute_result"
    }
   ],
   "source": [
    "pd.Series([j for i in list(t) for j in i]).value_counts()[0:20]"
   ]
  },
  {
   "cell_type": "markdown",
   "metadata": {},
   "source": [
    "### Aller vers un LDA\n",
    "\n",
    "Beaucoup de choses jouent dans la modélisation\n",
    "\n",
    "- qualité du traitement\n",
    "- identification du nombre de topic\n",
    "- paramètres de l'algo"
   ]
  },
  {
   "cell_type": "code",
   "execution_count": 79,
   "metadata": {},
   "outputs": [],
   "source": [
    "from gensim.corpora import Dictionary\n",
    "from gensim.models.ldamodel import LdaModel\n",
    "\n",
    "dictionnaire = Dictionary(table_total[\"texte_token_filtre\"])\n",
    "corpus_conv = table_total[\"texte_token_filtre\"].apply(dictionnaire.doc2bow)\n",
    "\n",
    "lda = LdaModel(corpus=list(corpus_conv),id2word=dictionnaire,num_topics=5)\n"
   ]
  },
  {
   "cell_type": "code",
   "execution_count": 80,
   "metadata": {},
   "outputs": [
    {
     "data": {
      "text/plain": [
       "[(0,\n",
       "  '0.018*\"plus\" + 0.017*\"femmes\" + 0.013*\"ans\" + 0.013*\"dépister\" + 0.013*\"cancer\" + 0.013*\"faire\" + 0.010*\"dépistage\" + 0.010*\"faites\" + 0.010*\"cancerdusein\" + 0.009*\"sein\"'),\n",
       " (1,\n",
       "  '0.013*\"cause\" + 0.009*\"pinkoctober\" + 0.008*\"bonne\" + 0.008*\"vie\" + 0.007*\"sauver\" + 0.007*\"cancerdusein\" + 0.007*\"soin\" + 0.007*\"cette\" + 0.006*\"temps\" + 0.006*\"october\"'),\n",
       " (2,\n",
       "  '0.043*\"octobre\" + 0.036*\"rose\" + 0.023*\"contre\" + 0.023*\"cancer\" + 0.015*\"sein\" + 0.015*\"mois\" + 0.013*\"tous\" + 0.012*\"cancerdusein\" + 0.011*\"lutte\" + 0.009*\"cette\"'),\n",
       " (3,\n",
       "  '0.011*\"don\" + 0.009*\"mobilisés\" + 0.006*\"équipes\" + 0.006*\"hôpital\" + 0.005*\"sous\" + 0.005*\"palpation\" + 0.005*\"propose\" + 0.004*\"and\" + 0.004*\"for\" + 0.004*\"après\"'),\n",
       " (4,\n",
       "  '0.080*\"cancer\" + 0.064*\"sein\" + 0.034*\"dépistage\" + 0.025*\"cancerdusein\" + 0.022*\"contre\" + 0.012*\"sensibilisation\" + 0.011*\"mois\" + 0.011*\"prévention\" + 0.010*\"lutte\" + 0.010*\"sensibiliser\"')]"
      ]
     },
     "execution_count": 80,
     "metadata": {},
     "output_type": "execute_result"
    }
   ],
   "source": [
    "lda.print_topics()"
   ]
  },
  {
   "cell_type": "code",
   "execution_count": 84,
   "metadata": {},
   "outputs": [
    {
     "data": {
      "text/plain": [
       "'Comme un bijou dans un écrin de lumière rose/Photo du #RubanRose réalisé ENSEMBLE le 29 oct @LeGrandPalais #octobrerose http://t.co/XLnuuJkp'"
      ]
     },
     "execution_count": 84,
     "metadata": {},
     "output_type": "execute_result"
    }
   ],
   "source": [
    "table_total.iloc[10][\"texte\"]"
   ]
  },
  {
   "cell_type": "code",
   "execution_count": 81,
   "metadata": {},
   "outputs": [
    {
     "data": {
      "text/plain": [
       "[(0, 0.019590257),\n",
       " (1, 0.019621829),\n",
       " (2, 0.9215849),\n",
       " (3, 0.019587409),\n",
       " (4, 0.019615626)]"
      ]
     },
     "execution_count": 81,
     "metadata": {},
     "output_type": "execute_result"
    }
   ],
   "source": [
    "lda[corpus_conv.iloc[10]]"
   ]
  },
  {
   "cell_type": "markdown",
   "metadata": {},
   "source": [
    "https://www.geeksforgeeks.org/nlp-gensim-tutorial-complete-guide-for-beginners/"
   ]
  }
 ],
 "metadata": {
  "kernelspec": {
   "display_name": "Python 3",
   "language": "python",
   "name": "python3"
  },
  "language_info": {
   "codemirror_mode": {
    "name": "ipython",
    "version": 3
   },
   "file_extension": ".py",
   "mimetype": "text/x-python",
   "name": "python",
   "nbconvert_exporter": "python",
   "pygments_lexer": "ipython3",
   "version": "3.7.7"
  }
 },
 "nbformat": 4,
 "nbformat_minor": 4
}
