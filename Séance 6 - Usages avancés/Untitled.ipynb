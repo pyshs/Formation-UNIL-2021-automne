{
 "cells": [
  {
   "cell_type": "code",
   "execution_count": 4,
   "metadata": {},
   "outputs": [
    {
     "ename": "TypeError",
     "evalue": "unsupported operand type(s) for +=: 'NoneType' and 'str'",
     "output_type": "error",
     "traceback": [
      "\u001b[0;31m---------------------------------------------------------------------------\u001b[0m",
      "\u001b[0;31mTypeError\u001b[0m                                 Traceback (most recent call last)",
      "\u001b[0;32m<ipython-input-4-83371aa383e8>\u001b[0m in \u001b[0;36m<module>\u001b[0;34m\u001b[0m\n\u001b[1;32m     16\u001b[0m             \u001b[0mtext_temp\u001b[0m \u001b[0;34m=\u001b[0m \u001b[0mi\u001b[0m\u001b[0;34m.\u001b[0m\u001b[0mextract_text\u001b[0m\u001b[0;34m(\u001b[0m\u001b[0;34m)\u001b[0m \u001b[0;31m# on lit le contenu\u001b[0m\u001b[0;34m\u001b[0m\u001b[0;34m\u001b[0m\u001b[0m\n\u001b[1;32m     17\u001b[0m             \u001b[0;32mif\u001b[0m \u001b[0mpd\u001b[0m\u001b[0;34m.\u001b[0m\u001b[0mnotnull\u001b[0m\u001b[0;34m(\u001b[0m\u001b[0mtext_temp\u001b[0m\u001b[0;34m)\u001b[0m\u001b[0;34m:\u001b[0m \u001b[0;31m# si le contenu n'est pas nul\u001b[0m\u001b[0;34m\u001b[0m\u001b[0;34m\u001b[0m\u001b[0m\n\u001b[0;32m---> 18\u001b[0;31m                 \u001b[0mcontent\u001b[0m \u001b[0;34m+=\u001b[0m \u001b[0mtext_temp\u001b[0m \u001b[0;31m# on l'ajoute\u001b[0m\u001b[0;34m\u001b[0m\u001b[0;34m\u001b[0m\u001b[0m\n\u001b[0m\u001b[1;32m     19\u001b[0m         \u001b[0mcorpus\u001b[0m\u001b[0;34m[\u001b[0m\u001b[0mi\u001b[0m\u001b[0;34m]\u001b[0m \u001b[0;34m=\u001b[0m \u001b[0mcontent\u001b[0m\u001b[0;34m\u001b[0m\u001b[0;34m\u001b[0m\u001b[0m\n",
      "\u001b[0;31mTypeError\u001b[0m: unsupported operand type(s) for +=: 'NoneType' and 'str'"
     ]
    }
   ],
   "source": [
    "import pdfplumber\n",
    "import os\n",
    "import pandas as pd\n",
    "\n",
    "dossier = \"../../../../../Downloads/ABNAMROBank/\"\n",
    "files = [i for i in os.listdir(dossier) if \".pdf\" in i] # pas ici\n",
    "corpus = {}\n",
    "    \n",
    "for f in files:\n",
    "    f =  dossier + f   # ici\n",
    "    content = None\n",
    "        \n",
    "    with pdfplumber.open(f) as pdf:\n",
    "        pages = pdf.pages\n",
    "        for i in pages:\n",
    "            text_temp = i.extract_text() # on lit le contenu\n",
    "            try:\n",
    "                if pd.notnull(text_temp): # si le contenu n'est pas nul\n",
    "                    content += text_temp # on l'ajoute\n",
    "            except:\n",
    "                print()\n",
    "        corpus[i] = content"
   ]
  },
  {
   "cell_type": "code",
   "execution_count": 3,
   "metadata": {},
   "outputs": [
    {
     "data": {
      "text/plain": [
       "['abn-amro-bank_2010.pdf',\n",
       " 'abn-amro-bank_2011.pdf',\n",
       " 'abn-amro-bank_2012.pdf',\n",
       " 'abn-amro-bank_2013.pdf',\n",
       " 'abn-amro-bank_2014.pdf',\n",
       " 'abn-amro-bank_2015.pdf',\n",
       " 'abn-amro-bank_2016.pdf',\n",
       " 'abn-amro-bank_2017.pdf',\n",
       " 'abn-amro-bank_2018.pdf',\n",
       " 'abn-amro-bank_2019.pdf']"
      ]
     },
     "execution_count": 3,
     "metadata": {},
     "output_type": "execute_result"
    }
   ],
   "source": [
    "files"
   ]
  },
  {
   "cell_type": "code",
   "execution_count": 1,
   "metadata": {},
   "outputs": [
    {
     "name": "stdout",
     "output_type": "stream",
     "text": [
      "Requirement already satisfied: pdfplumber in /Users/emilien/anaconda3/envs/p37/lib/python3.7/site-packages (0.5.28)\n",
      "Requirement already satisfied: pdfminer.six==20200517 in /Users/emilien/anaconda3/envs/p37/lib/python3.7/site-packages (from pdfplumber) (20200517)\n",
      "Requirement already satisfied: Wand in /Users/emilien/anaconda3/envs/p37/lib/python3.7/site-packages (from pdfplumber) (0.6.7)\n",
      "Requirement already satisfied: Pillow>=7.0.0 in /Users/emilien/anaconda3/envs/p37/lib/python3.7/site-packages (from pdfplumber) (7.1.2)\n",
      "Requirement already satisfied: chardet; python_version > \"3.0\" in /Users/emilien/anaconda3/envs/p37/lib/python3.7/site-packages (from pdfminer.six==20200517->pdfplumber) (3.0.4)\n",
      "Requirement already satisfied: pycryptodome in /Users/emilien/anaconda3/envs/p37/lib/python3.7/site-packages (from pdfminer.six==20200517->pdfplumber) (3.11.0)\n",
      "Requirement already satisfied: sortedcontainers in /Users/emilien/anaconda3/envs/p37/lib/python3.7/site-packages (from pdfminer.six==20200517->pdfplumber) (2.4.0)\n",
      "Note: you may need to restart the kernel to use updated packages.\n"
     ]
    }
   ],
   "source": [
    "pip install pdfplumber"
   ]
  }
 ],
 "metadata": {
  "kernelspec": {
   "display_name": "Python 3",
   "language": "python",
   "name": "python3"
  },
  "language_info": {
   "codemirror_mode": {
    "name": "ipython",
    "version": 3
   },
   "file_extension": ".py",
   "mimetype": "text/x-python",
   "name": "python",
   "nbconvert_exporter": "python",
   "pygments_lexer": "ipython3",
   "version": "3.7.7"
  }
 },
 "nbformat": 4,
 "nbformat_minor": 4
}
