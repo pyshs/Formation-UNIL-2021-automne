{
 "cells": [
  {
   "cell_type": "markdown",
   "metadata": {},
   "source": [
    "# Introduction à Pandas"
   ]
  },
  {
   "cell_type": "markdown",
   "metadata": {},
   "source": [
    "## Installation et chargement"
   ]
  },
  {
   "cell_type": "code",
   "execution_count": 1,
   "metadata": {},
   "outputs": [
    {
     "name": "stdout",
     "output_type": "stream",
     "text": [
      "Requirement already satisfied: pandas in /Users/emilien/anaconda3/envs/p37/lib/python3.7/site-packages (1.0.3)\n",
      "Requirement already satisfied: numpy>=1.13.3 in /Users/emilien/anaconda3/envs/p37/lib/python3.7/site-packages (from pandas) (1.19.2)\n",
      "Requirement already satisfied: pytz>=2017.2 in /Users/emilien/anaconda3/envs/p37/lib/python3.7/site-packages (from pandas) (2019.3)\n",
      "Requirement already satisfied: python-dateutil>=2.6.1 in /Users/emilien/anaconda3/envs/p37/lib/python3.7/site-packages (from pandas) (2.8.1)\n",
      "Requirement already satisfied: six>=1.5 in /Users/emilien/anaconda3/envs/p37/lib/python3.7/site-packages (from python-dateutil>=2.6.1->pandas) (1.16.0)\n",
      "Note: you may need to restart the kernel to use updated packages.\n"
     ]
    }
   ],
   "source": [
    "pip install pandas"
   ]
  },
  {
   "cell_type": "code",
   "execution_count": 2,
   "metadata": {},
   "outputs": [],
   "source": [
    "import pandas as pd"
   ]
  },
  {
   "cell_type": "markdown",
   "metadata": {},
   "source": [
    "## Le format DataFrame"
   ]
  },
  {
   "cell_type": "code",
   "execution_count": 3,
   "metadata": {},
   "outputs": [],
   "source": [
    "liste = [1,2,3,4]"
   ]
  },
  {
   "cell_type": "code",
   "execution_count": 7,
   "metadata": {},
   "outputs": [
    {
     "data": {
      "text/plain": [
       "list"
      ]
     },
     "execution_count": 7,
     "metadata": {},
     "output_type": "execute_result"
    }
   ],
   "source": [
    "type(liste)"
   ]
  },
  {
   "cell_type": "code",
   "execution_count": 8,
   "metadata": {},
   "outputs": [
    {
     "data": {
      "text/html": [
       "<div>\n",
       "<style scoped>\n",
       "    .dataframe tbody tr th:only-of-type {\n",
       "        vertical-align: middle;\n",
       "    }\n",
       "\n",
       "    .dataframe tbody tr th {\n",
       "        vertical-align: top;\n",
       "    }\n",
       "\n",
       "    .dataframe thead th {\n",
       "        text-align: right;\n",
       "    }\n",
       "</style>\n",
       "<table border=\"1\" class=\"dataframe\">\n",
       "  <thead>\n",
       "    <tr style=\"text-align: right;\">\n",
       "      <th></th>\n",
       "      <th>Python</th>\n",
       "      <th>R</th>\n",
       "      <th>Java</th>\n",
       "    </tr>\n",
       "  </thead>\n",
       "  <tbody>\n",
       "    <tr>\n",
       "      <th>R1</th>\n",
       "      <td>10</td>\n",
       "      <td>1</td>\n",
       "      <td>1</td>\n",
       "    </tr>\n",
       "    <tr>\n",
       "      <th>R2</th>\n",
       "      <td>4</td>\n",
       "      <td>6</td>\n",
       "      <td>1</td>\n",
       "    </tr>\n",
       "    <tr>\n",
       "      <th>R3</th>\n",
       "      <td>3</td>\n",
       "      <td>9</td>\n",
       "      <td>1</td>\n",
       "    </tr>\n",
       "    <tr>\n",
       "      <th>R4</th>\n",
       "      <td>6</td>\n",
       "      <td>10</td>\n",
       "      <td>1</td>\n",
       "    </tr>\n",
       "  </tbody>\n",
       "</table>\n",
       "</div>"
      ],
      "text/plain": [
       "    Python   R  Java\n",
       "R1      10   1     1\n",
       "R2       4   6     1\n",
       "R3       3   9     1\n",
       "R4       6  10     1"
      ]
     },
     "execution_count": 8,
     "metadata": {},
     "output_type": "execute_result"
    }
   ],
   "source": [
    "tableau = pd.DataFrame({\n",
    "                         \"Python\":[10,4,3,6],\n",
    "                         \"R\":[1,6,9,10],\n",
    "                         \"Java\":[1,1,1,1]\n",
    "                       },\n",
    "                        index = [\"R1\",\"R2\",\"R3\",\"R4\"]\n",
    "                        )\n",
    "tableau"
   ]
  },
  {
   "cell_type": "code",
   "execution_count": 6,
   "metadata": {},
   "outputs": [
    {
     "data": {
      "text/plain": [
       "pandas.core.frame.DataFrame"
      ]
     },
     "execution_count": 6,
     "metadata": {},
     "output_type": "execute_result"
    }
   ],
   "source": [
    "type(tableau)"
   ]
  },
  {
   "cell_type": "code",
   "execution_count": 10,
   "metadata": {},
   "outputs": [
    {
     "data": {
      "text/plain": [
       "Index(['R1', 'R2', 'R3', 'R4'], dtype='object')"
      ]
     },
     "execution_count": 10,
     "metadata": {},
     "output_type": "execute_result"
    }
   ],
   "source": [
    "tableau.index"
   ]
  },
  {
   "cell_type": "code",
   "execution_count": 11,
   "metadata": {},
   "outputs": [
    {
     "data": {
      "text/plain": [
       "Index(['Python', 'R', 'Java'], dtype='object')"
      ]
     },
     "execution_count": 11,
     "metadata": {},
     "output_type": "execute_result"
    }
   ],
   "source": [
    "tableau.columns"
   ]
  },
  {
   "cell_type": "markdown",
   "metadata": {},
   "source": [
    "### Sélection d'une colonne"
   ]
  },
  {
   "cell_type": "code",
   "execution_count": 12,
   "metadata": {},
   "outputs": [
    {
     "data": {
      "text/plain": [
       "R1    10\n",
       "R2     4\n",
       "R3     3\n",
       "R4     6\n",
       "Name: Python, dtype: int64"
      ]
     },
     "execution_count": 12,
     "metadata": {},
     "output_type": "execute_result"
    }
   ],
   "source": [
    "tableau[\"Python\"]"
   ]
  },
  {
   "cell_type": "code",
   "execution_count": 13,
   "metadata": {},
   "outputs": [
    {
     "data": {
      "text/plain": [
       "dtype('int64')"
      ]
     },
     "execution_count": 13,
     "metadata": {},
     "output_type": "execute_result"
    }
   ],
   "source": [
    "tableau[\"Python\"].dtype"
   ]
  },
  {
   "cell_type": "markdown",
   "metadata": {},
   "source": [
    "### Sélection d'une ligne"
   ]
  },
  {
   "cell_type": "code",
   "execution_count": 14,
   "metadata": {},
   "outputs": [
    {
     "data": {
      "text/plain": [
       "Python    4\n",
       "R         6\n",
       "Java      1\n",
       "Name: R2, dtype: int64"
      ]
     },
     "execution_count": 14,
     "metadata": {},
     "output_type": "execute_result"
    }
   ],
   "source": [
    "tableau.loc[\"R2\"]"
   ]
  },
  {
   "cell_type": "markdown",
   "metadata": {},
   "source": [
    "### Sélection d'un élément"
   ]
  },
  {
   "cell_type": "code",
   "execution_count": 15,
   "metadata": {},
   "outputs": [
    {
     "data": {
      "text/plain": [
       "4"
      ]
     },
     "execution_count": 15,
     "metadata": {},
     "output_type": "execute_result"
    }
   ],
   "source": [
    "tableau.loc[\"R2\",\"Python\"]"
   ]
  },
  {
   "cell_type": "markdown",
   "metadata": {},
   "source": [
    "## On va charger des données tabulaires existantes"
   ]
  },
  {
   "cell_type": "markdown",
   "metadata": {},
   "source": [
    "Chemin d'accès à un fichier\n",
    "\n",
    ".\n",
    "./nomdudossier/\n",
    "../nomdudossier"
   ]
  },
  {
   "cell_type": "code",
   "execution_count": 16,
   "metadata": {},
   "outputs": [
    {
     "name": "stdout",
     "output_type": "stream",
     "text": [
      "/Users/emilien/Dropbox/Python pour les SHS/Formations/2021-11 UNIL/Séance 4 - Pandas\n"
     ]
    }
   ],
   "source": [
    "cd ."
   ]
  },
  {
   "cell_type": "code",
   "execution_count": 17,
   "metadata": {},
   "outputs": [
    {
     "name": "stdout",
     "output_type": "stream",
     "text": [
      "CS Pandas data wrangling.pdf\r\n",
      "CS Pandas.pdf\r\n",
      "Correction exo S3.ipynb\r\n",
      "Formattage de chaines de caractères.ipynb\r\n",
      "Introduction à Pandas.ipynb\r\n",
      "Préparation séance 4.doc\r\n",
      "\u001b[34mSlides\u001b[m\u001b[m/\r\n",
      "Temps 1 - Manipuler des données avec Pandas.ipynb\r\n",
      "data.csv\r\n",
      "data.xls\r\n",
      "snsf_openapc.csv\r\n",
      "snsf_openapc.csv.zip\r\n"
     ]
    }
   ],
   "source": [
    "ls"
   ]
  },
  {
   "cell_type": "code",
   "execution_count": 23,
   "metadata": {},
   "outputs": [],
   "source": [
    "df = pd.read_csv(\"./snsf_openapc.csv\")"
   ]
  },
  {
   "cell_type": "code",
   "execution_count": 24,
   "metadata": {},
   "outputs": [
    {
     "data": {
      "text/plain": [
       "pandas.core.frame.DataFrame"
      ]
     },
     "execution_count": 24,
     "metadata": {},
     "output_type": "execute_result"
    }
   ],
   "source": [
    "type(df)"
   ]
  },
  {
   "cell_type": "markdown",
   "metadata": {},
   "source": [
    "Charger avec l'url"
   ]
  },
  {
   "cell_type": "code",
   "execution_count": 25,
   "metadata": {},
   "outputs": [],
   "source": [
    "df = pd.read_csv(\"https://raw.githubusercontent.com/OpenAPC/openapc-de/master/data/snsf/snsf_openapc.csv\")"
   ]
  },
  {
   "cell_type": "code",
   "execution_count": 28,
   "metadata": {},
   "outputs": [
    {
     "data": {
      "text/plain": [
       "(718, 16)"
      ]
     },
     "execution_count": 28,
     "metadata": {},
     "output_type": "execute_result"
    }
   ],
   "source": [
    "df.shape"
   ]
  },
  {
   "cell_type": "markdown",
   "metadata": {},
   "source": [
    "    Ecrire sur l'ordinateur"
   ]
  },
  {
   "cell_type": "code",
   "execution_count": 30,
   "metadata": {},
   "outputs": [],
   "source": [
    "df = pd.read_csv(\"https://raw.githubusercontent.com/OpenAPC/openapc-de/master/data/snsf/snsf_openapc.csv\")\n",
    "\n",
    "df.to_excel(\"snsf_openapc23112021.xls\")"
   ]
  },
  {
   "cell_type": "markdown",
   "metadata": {},
   "source": [
    "````python\n",
    "\n",
    "def read_csv(nom_fichier):\n",
    "    with open(nom_fichier,\"rb\") as f:\n",
    "        data_brut = f.read()\n",
    "        mise_en_forme(data_brut)\n",
    "````"
   ]
  },
  {
   "cell_type": "code",
   "execution_count": 31,
   "metadata": {},
   "outputs": [
    {
     "name": "stdout",
     "output_type": "stream",
     "text": [
      "CS Pandas data wrangling.pdf\r\n",
      "CS Pandas.pdf\r\n",
      "Correction exo S3.ipynb\r\n",
      "Formattage de chaines de caractères.ipynb\r\n",
      "Introduction à Pandas.ipynb\r\n",
      "Préparation séance 4.doc\r\n",
      "\u001b[34mSlides\u001b[m\u001b[m/\r\n",
      "Temps 1 - Manipuler des données avec Pandas.ipynb\r\n",
      "data.csv\r\n",
      "data.xls\r\n",
      "snsf_openapc.csv\r\n",
      "snsf_openapc.csv.zip\r\n",
      "snsf_openapc.xls\r\n",
      "snsf_openapc23112021.xls\r\n"
     ]
    }
   ],
   "source": [
    "ls"
   ]
  },
  {
   "cell_type": "code",
   "execution_count": 33,
   "metadata": {},
   "outputs": [
    {
     "data": {
      "text/plain": [
       "0      2011\n",
       "1      2012\n",
       "2      2012\n",
       "3      2012\n",
       "4      2012\n",
       "       ... \n",
       "713    2019\n",
       "714    2019\n",
       "715    2019\n",
       "716    2019\n",
       "717    2019\n",
       "Name: period, Length: 718, dtype: int64"
      ]
     },
     "execution_count": 33,
     "metadata": {},
     "output_type": "execute_result"
    }
   ],
   "source": [
    "df[\"period\"]"
   ]
  },
  {
   "cell_type": "code",
   "execution_count": 36,
   "metadata": {},
   "outputs": [
    {
     "data": {
      "text/plain": [
       "10    2013\n",
       "11    2013\n",
       "12    2013\n",
       "13    2013\n",
       "14    2013\n",
       "15    2013\n",
       "16    2013\n",
       "17    2013\n",
       "18    2013\n",
       "19    2013\n",
       "20    2013\n",
       "21    2013\n",
       "22    2013\n",
       "23    2013\n",
       "24    2013\n",
       "25    2013\n",
       "26    2013\n",
       "27    2014\n",
       "28    2014\n",
       "29    2014\n",
       "30    2014\n",
       "Name: period, dtype: int64"
      ]
     },
     "execution_count": 36,
     "metadata": {},
     "output_type": "execute_result"
    }
   ],
   "source": [
    "df.loc[10:30,\"period\"]"
   ]
  },
  {
   "cell_type": "code",
   "execution_count": 37,
   "metadata": {},
   "outputs": [
    {
     "data": {
      "text/plain": [
       "Index(['institution', 'period', 'euro', 'doi', 'journal_full_title',\n",
       "       'publisher', 'is_hybrid', 'issn', 'url', 'chf', 'conversion_rate',\n",
       "       'invoice_original_amount', 'invoice_original_currency',\n",
       "       'snsf_voucher_number', 'grant_snsf', 'grant_snsf_related'],\n",
       "      dtype='object')"
      ]
     },
     "execution_count": 37,
     "metadata": {},
     "output_type": "execute_result"
    }
   ],
   "source": [
    "df.columns"
   ]
  },
  {
   "cell_type": "code",
   "execution_count": 38,
   "metadata": {},
   "outputs": [
    {
     "data": {
      "text/plain": [
       "RangeIndex(start=0, stop=718, step=1)"
      ]
     },
     "execution_count": 38,
     "metadata": {},
     "output_type": "execute_result"
    }
   ],
   "source": [
    "df.index"
   ]
  },
  {
   "cell_type": "markdown",
   "metadata": {},
   "source": [
    "### Modifier le tableau"
   ]
  },
  {
   "cell_type": "code",
   "execution_count": 41,
   "metadata": {},
   "outputs": [],
   "source": [
    "df.columns = ['institution', 'period', 'euro', 'doi', 'journal_title',\n",
    "       'publisher', 'is_hybrid', 'issn', 'url', 'chf', 'conversion_rate',\n",
    "       'invoice_original_amount', 'invoice_original_currency',\n",
    "       'snsf_voucher_number', 'grant_snsf', 'grant_snsf_related']"
   ]
  },
  {
   "cell_type": "code",
   "execution_count": 47,
   "metadata": {},
   "outputs": [],
   "source": [
    "df_clean = df.drop([\"issn\",\"url\"],axis=1)"
   ]
  },
  {
   "cell_type": "code",
   "execution_count": 53,
   "metadata": {},
   "outputs": [],
   "source": [
    "df_clean = df_clean.set_index(\"period\")"
   ]
  },
  {
   "cell_type": "markdown",
   "metadata": {},
   "source": [
    "### Les conditions booléennes"
   ]
  },
  {
   "cell_type": "code",
   "execution_count": 58,
   "metadata": {},
   "outputs": [],
   "source": [
    "variable1 = True\n",
    "variable2 = False\n",
    "variable3 = True\n",
    "variable4 = \"du texte\""
   ]
  },
  {
   "cell_type": "code",
   "execution_count": 59,
   "metadata": {},
   "outputs": [
    {
     "data": {
      "text/plain": [
       "False"
      ]
     },
     "execution_count": 59,
     "metadata": {},
     "output_type": "execute_result"
    }
   ],
   "source": [
    "variable1 and variable2"
   ]
  },
  {
   "cell_type": "code",
   "execution_count": 60,
   "metadata": {},
   "outputs": [
    {
     "data": {
      "text/plain": [
       "True"
      ]
     },
     "execution_count": 60,
     "metadata": {},
     "output_type": "execute_result"
    }
   ],
   "source": [
    "variable1 and variable3"
   ]
  },
  {
   "cell_type": "code",
   "execution_count": 61,
   "metadata": {},
   "outputs": [
    {
     "data": {
      "text/plain": [
       "True"
      ]
     },
     "execution_count": 61,
     "metadata": {},
     "output_type": "execute_result"
    }
   ],
   "source": [
    "type(variable4)==str"
   ]
  },
  {
   "cell_type": "code",
   "execution_count": 62,
   "metadata": {},
   "outputs": [
    {
     "data": {
      "text/plain": [
       "True"
      ]
     },
     "execution_count": 62,
     "metadata": {},
     "output_type": "execute_result"
    }
   ],
   "source": [
    "(type(variable4)==str) and variable1"
   ]
  },
  {
   "cell_type": "code",
   "execution_count": 63,
   "metadata": {},
   "outputs": [
    {
     "data": {
      "text/plain": [
       "True"
      ]
     },
     "execution_count": 63,
     "metadata": {},
     "output_type": "execute_result"
    }
   ],
   "source": [
    "variable1 or variable2"
   ]
  },
  {
   "cell_type": "markdown",
   "metadata": {},
   "source": [
    "Opérateurs logiques :\n",
    "\n",
    "- et : and / &\n",
    "- ou : or / |\n",
    "- égal : ==\n",
    "- dans : in\n",
    "- inverser : not"
   ]
  },
  {
   "cell_type": "markdown",
   "metadata": {},
   "source": [
    "### Les conditions sur une colonne de Pandas\n",
    "\n",
    "Etape 1 : définir un filtre qui renvoie une colonne de vrai/faux\n",
    "\n",
    "Etape 2 : sélectionner uniquement les lignes qui ont la valeur vraie"
   ]
  },
  {
   "cell_type": "code",
   "execution_count": 67,
   "metadata": {},
   "outputs": [],
   "source": [
    "condition = (df[\"period\"]==2015)"
   ]
  },
  {
   "cell_type": "markdown",
   "metadata": {},
   "source": [
    "Sélectionner les articles correspondant à 2015"
   ]
  },
  {
   "cell_type": "code",
   "execution_count": 73,
   "metadata": {},
   "outputs": [],
   "source": [
    "df_2015 = df[df[\"period\"]==2015]"
   ]
  },
  {
   "cell_type": "markdown",
   "metadata": {},
   "source": [
    "Sélectionner les articles ultérieurs à 2015 ou inférieurs à 2011"
   ]
  },
  {
   "cell_type": "code",
   "execution_count": 76,
   "metadata": {},
   "outputs": [
    {
     "data": {
      "text/html": [
       "<div>\n",
       "<style scoped>\n",
       "    .dataframe tbody tr th:only-of-type {\n",
       "        vertical-align: middle;\n",
       "    }\n",
       "\n",
       "    .dataframe tbody tr th {\n",
       "        vertical-align: top;\n",
       "    }\n",
       "\n",
       "    .dataframe thead th {\n",
       "        text-align: right;\n",
       "    }\n",
       "</style>\n",
       "<table border=\"1\" class=\"dataframe\">\n",
       "  <thead>\n",
       "    <tr style=\"text-align: right;\">\n",
       "      <th></th>\n",
       "      <th>institution</th>\n",
       "      <th>period</th>\n",
       "      <th>euro</th>\n",
       "      <th>doi</th>\n",
       "      <th>journal_title</th>\n",
       "      <th>publisher</th>\n",
       "      <th>is_hybrid</th>\n",
       "      <th>issn</th>\n",
       "      <th>url</th>\n",
       "      <th>chf</th>\n",
       "      <th>conversion_rate</th>\n",
       "      <th>invoice_original_amount</th>\n",
       "      <th>invoice_original_currency</th>\n",
       "      <th>snsf_voucher_number</th>\n",
       "      <th>grant_snsf</th>\n",
       "      <th>grant_snsf_related</th>\n",
       "    </tr>\n",
       "  </thead>\n",
       "  <tbody>\n",
       "    <tr>\n",
       "      <th>179</th>\n",
       "      <td>Swiss National Science Foundation (SNSF)</td>\n",
       "      <td>2016</td>\n",
       "      <td>2338.64</td>\n",
       "      <td>10.1002/2016GL071033</td>\n",
       "      <td>Geophysical Research Letters</td>\n",
       "      <td>Wiley-Blackwell</td>\n",
       "      <td>True</td>\n",
       "      <td>NaN</td>\n",
       "      <td>NaN</td>\n",
       "      <td>2549.33</td>\n",
       "      <td>1.09009</td>\n",
       "      <td>2500.00</td>\n",
       "      <td>USD</td>\n",
       "      <td>NaN</td>\n",
       "      <td>PP00P2_157627</td>\n",
       "      <td>157627</td>\n",
       "    </tr>\n",
       "    <tr>\n",
       "      <th>180</th>\n",
       "      <td>Swiss National Science Foundation (SNSF)</td>\n",
       "      <td>2016</td>\n",
       "      <td>1573.44</td>\n",
       "      <td>10.1002/ece3.2138</td>\n",
       "      <td>Ecology and Evolution</td>\n",
       "      <td>Wiley-Blackwell</td>\n",
       "      <td>False</td>\n",
       "      <td>NaN</td>\n",
       "      <td>NaN</td>\n",
       "      <td>1715.19</td>\n",
       "      <td>1.09009</td>\n",
       "      <td>1530.00</td>\n",
       "      <td>EUR</td>\n",
       "      <td>NaN</td>\n",
       "      <td>PP00P3_152929</td>\n",
       "      <td>152929</td>\n",
       "    </tr>\n",
       "    <tr>\n",
       "      <th>181</th>\n",
       "      <td>Swiss National Science Foundation (SNSF)</td>\n",
       "      <td>2016</td>\n",
       "      <td>2419.40</td>\n",
       "      <td>10.1007/s00010-015-0395-6</td>\n",
       "      <td>Aequationes mathematicae</td>\n",
       "      <td>Springer Nature</td>\n",
       "      <td>True</td>\n",
       "      <td>NaN</td>\n",
       "      <td>NaN</td>\n",
       "      <td>2637.36</td>\n",
       "      <td>1.09009</td>\n",
       "      <td>NaN</td>\n",
       "      <td>NaN</td>\n",
       "      <td>NaN</td>\n",
       "      <td>200020_146477</td>\n",
       "      <td>146477</td>\n",
       "    </tr>\n",
       "    <tr>\n",
       "      <th>182</th>\n",
       "      <td>Swiss National Science Foundation (SNSF)</td>\n",
       "      <td>2016</td>\n",
       "      <td>2218.79</td>\n",
       "      <td>10.1007/s00027-016-0465-4</td>\n",
       "      <td>Aquatic Sciences</td>\n",
       "      <td>Springer Nature</td>\n",
       "      <td>True</td>\n",
       "      <td>NaN</td>\n",
       "      <td>NaN</td>\n",
       "      <td>2418.68</td>\n",
       "      <td>1.09009</td>\n",
       "      <td>NaN</td>\n",
       "      <td>NaN</td>\n",
       "      <td>NaN</td>\n",
       "      <td>200020_153091</td>\n",
       "      <td>153091</td>\n",
       "    </tr>\n",
       "    <tr>\n",
       "      <th>183</th>\n",
       "      <td>Swiss National Science Foundation (SNSF)</td>\n",
       "      <td>2016</td>\n",
       "      <td>983.99</td>\n",
       "      <td>10.1016/j.atmosenv.2016.01.027</td>\n",
       "      <td>Atmospheric Environment</td>\n",
       "      <td>Elsevier BV</td>\n",
       "      <td>True</td>\n",
       "      <td>NaN</td>\n",
       "      <td>NaN</td>\n",
       "      <td>1072.64</td>\n",
       "      <td>1.09009</td>\n",
       "      <td>981.79</td>\n",
       "      <td>EUR</td>\n",
       "      <td>NaN</td>\n",
       "      <td>200020_159194</td>\n",
       "      <td>159194</td>\n",
       "    </tr>\n",
       "    <tr>\n",
       "      <th>...</th>\n",
       "      <td>...</td>\n",
       "      <td>...</td>\n",
       "      <td>...</td>\n",
       "      <td>...</td>\n",
       "      <td>...</td>\n",
       "      <td>...</td>\n",
       "      <td>...</td>\n",
       "      <td>...</td>\n",
       "      <td>...</td>\n",
       "      <td>...</td>\n",
       "      <td>...</td>\n",
       "      <td>...</td>\n",
       "      <td>...</td>\n",
       "      <td>...</td>\n",
       "      <td>...</td>\n",
       "      <td>...</td>\n",
       "    </tr>\n",
       "    <tr>\n",
       "      <th>713</th>\n",
       "      <td>Swiss National Science Foundation (SNSF)</td>\n",
       "      <td>2019</td>\n",
       "      <td>1498.00</td>\n",
       "      <td>10.5194/tc-13-397-2019</td>\n",
       "      <td>The Cryosphere</td>\n",
       "      <td>Copernicus GmbH</td>\n",
       "      <td>False</td>\n",
       "      <td>NaN</td>\n",
       "      <td>NaN</td>\n",
       "      <td>1691.86</td>\n",
       "      <td>1.12941</td>\n",
       "      <td>1466.08</td>\n",
       "      <td>EUR</td>\n",
       "      <td>9000343.0</td>\n",
       "      <td>P2AC-2_186606</td>\n",
       "      <td>174888</td>\n",
       "    </tr>\n",
       "    <tr>\n",
       "      <th>714</th>\n",
       "      <td>Swiss National Science Foundation (SNSF)</td>\n",
       "      <td>2019</td>\n",
       "      <td>369.55</td>\n",
       "      <td>10.5539/jel.v8n2p25</td>\n",
       "      <td>Journal of Education and Learning</td>\n",
       "      <td>Canadian Center of Science and Education</td>\n",
       "      <td>False</td>\n",
       "      <td>NaN</td>\n",
       "      <td>NaN</td>\n",
       "      <td>417.37</td>\n",
       "      <td>1.12941</td>\n",
       "      <td>400.00</td>\n",
       "      <td>USD</td>\n",
       "      <td>9000729.0</td>\n",
       "      <td>10AC-4_187579</td>\n",
       "      <td>150320</td>\n",
       "    </tr>\n",
       "    <tr>\n",
       "      <th>715</th>\n",
       "      <td>Swiss National Science Foundation (SNSF)</td>\n",
       "      <td>2019</td>\n",
       "      <td>1256.28</td>\n",
       "      <td>10.5751/es-10857-240220</td>\n",
       "      <td>Ecology and Society</td>\n",
       "      <td>Resilience Alliance, Inc.</td>\n",
       "      <td>False</td>\n",
       "      <td>NaN</td>\n",
       "      <td>NaN</td>\n",
       "      <td>1418.86</td>\n",
       "      <td>1.12941</td>\n",
       "      <td>1375.00</td>\n",
       "      <td>USD</td>\n",
       "      <td>9001352.0</td>\n",
       "      <td>P2AC-1_188508</td>\n",
       "      <td>174966</td>\n",
       "    </tr>\n",
       "    <tr>\n",
       "      <th>716</th>\n",
       "      <td>Swiss National Science Foundation (SNSF)</td>\n",
       "      <td>2019</td>\n",
       "      <td>2269.33</td>\n",
       "      <td>10.7554/eLife.43400</td>\n",
       "      <td>eLife</td>\n",
       "      <td>eLife Sciences Publications, Ltd</td>\n",
       "      <td>False</td>\n",
       "      <td>NaN</td>\n",
       "      <td>NaN</td>\n",
       "      <td>2563.00</td>\n",
       "      <td>1.12941</td>\n",
       "      <td>2500.00</td>\n",
       "      <td>USD</td>\n",
       "      <td>9000379.0</td>\n",
       "      <td>31AC-0_186801</td>\n",
       "      <td>146694</td>\n",
       "    </tr>\n",
       "    <tr>\n",
       "      <th>717</th>\n",
       "      <td>Swiss National Science Foundation (SNSF)</td>\n",
       "      <td>2019</td>\n",
       "      <td>984.33</td>\n",
       "      <td>10.7717/peerj.6280</td>\n",
       "      <td>PeerJ</td>\n",
       "      <td>PeerJ</td>\n",
       "      <td>False</td>\n",
       "      <td>NaN</td>\n",
       "      <td>NaN</td>\n",
       "      <td>1111.71</td>\n",
       "      <td>1.12941</td>\n",
       "      <td>1095.00</td>\n",
       "      <td>USD</td>\n",
       "      <td>9000123.0</td>\n",
       "      <td>20AC-1_186496</td>\n",
       "      <td>153502</td>\n",
       "    </tr>\n",
       "  </tbody>\n",
       "</table>\n",
       "<p>539 rows × 16 columns</p>\n",
       "</div>"
      ],
      "text/plain": [
       "                                  institution  period     euro  \\\n",
       "179  Swiss National Science Foundation (SNSF)    2016  2338.64   \n",
       "180  Swiss National Science Foundation (SNSF)    2016  1573.44   \n",
       "181  Swiss National Science Foundation (SNSF)    2016  2419.40   \n",
       "182  Swiss National Science Foundation (SNSF)    2016  2218.79   \n",
       "183  Swiss National Science Foundation (SNSF)    2016   983.99   \n",
       "..                                        ...     ...      ...   \n",
       "713  Swiss National Science Foundation (SNSF)    2019  1498.00   \n",
       "714  Swiss National Science Foundation (SNSF)    2019   369.55   \n",
       "715  Swiss National Science Foundation (SNSF)    2019  1256.28   \n",
       "716  Swiss National Science Foundation (SNSF)    2019  2269.33   \n",
       "717  Swiss National Science Foundation (SNSF)    2019   984.33   \n",
       "\n",
       "                                doi                      journal_title  \\\n",
       "179            10.1002/2016GL071033       Geophysical Research Letters   \n",
       "180               10.1002/ece3.2138              Ecology and Evolution   \n",
       "181       10.1007/s00010-015-0395-6           Aequationes mathematicae   \n",
       "182       10.1007/s00027-016-0465-4                   Aquatic Sciences   \n",
       "183  10.1016/j.atmosenv.2016.01.027            Atmospheric Environment   \n",
       "..                              ...                                ...   \n",
       "713          10.5194/tc-13-397-2019                     The Cryosphere   \n",
       "714             10.5539/jel.v8n2p25  Journal of Education and Learning   \n",
       "715         10.5751/es-10857-240220                Ecology and Society   \n",
       "716             10.7554/eLife.43400                              eLife   \n",
       "717              10.7717/peerj.6280                              PeerJ   \n",
       "\n",
       "                                    publisher  is_hybrid issn  url      chf  \\\n",
       "179                           Wiley-Blackwell       True  NaN  NaN  2549.33   \n",
       "180                           Wiley-Blackwell      False  NaN  NaN  1715.19   \n",
       "181                           Springer Nature       True  NaN  NaN  2637.36   \n",
       "182                           Springer Nature       True  NaN  NaN  2418.68   \n",
       "183                               Elsevier BV       True  NaN  NaN  1072.64   \n",
       "..                                        ...        ...  ...  ...      ...   \n",
       "713                           Copernicus GmbH      False  NaN  NaN  1691.86   \n",
       "714  Canadian Center of Science and Education      False  NaN  NaN   417.37   \n",
       "715                 Resilience Alliance, Inc.      False  NaN  NaN  1418.86   \n",
       "716          eLife Sciences Publications, Ltd      False  NaN  NaN  2563.00   \n",
       "717                                     PeerJ      False  NaN  NaN  1111.71   \n",
       "\n",
       "     conversion_rate  invoice_original_amount invoice_original_currency  \\\n",
       "179          1.09009                  2500.00                       USD   \n",
       "180          1.09009                  1530.00                       EUR   \n",
       "181          1.09009                      NaN                       NaN   \n",
       "182          1.09009                      NaN                       NaN   \n",
       "183          1.09009                   981.79                       EUR   \n",
       "..               ...                      ...                       ...   \n",
       "713          1.12941                  1466.08                       EUR   \n",
       "714          1.12941                   400.00                       USD   \n",
       "715          1.12941                  1375.00                       USD   \n",
       "716          1.12941                  2500.00                       USD   \n",
       "717          1.12941                  1095.00                       USD   \n",
       "\n",
       "     snsf_voucher_number     grant_snsf grant_snsf_related  \n",
       "179                  NaN  PP00P2_157627             157627  \n",
       "180                  NaN  PP00P3_152929             152929  \n",
       "181                  NaN  200020_146477             146477  \n",
       "182                  NaN  200020_153091             153091  \n",
       "183                  NaN  200020_159194             159194  \n",
       "..                   ...            ...                ...  \n",
       "713            9000343.0  P2AC-2_186606             174888  \n",
       "714            9000729.0  10AC-4_187579             150320  \n",
       "715            9001352.0  P2AC-1_188508             174966  \n",
       "716            9000379.0  31AC-0_186801             146694  \n",
       "717            9000123.0  20AC-1_186496             153502  \n",
       "\n",
       "[539 rows x 16 columns]"
      ]
     },
     "execution_count": 76,
     "metadata": {},
     "output_type": "execute_result"
    }
   ],
   "source": [
    "df[(df[\"period\"]>2015) | (df[\"period\"]<2011)]"
   ]
  },
  {
   "cell_type": "markdown",
   "metadata": {},
   "source": [
    "Exemple : je veux tous les articles ultérieurs à 2015 qui ont couté au FNS plus de 1000 euros"
   ]
  },
  {
   "cell_type": "code",
   "execution_count": 80,
   "metadata": {},
   "outputs": [],
   "source": [
    "condition = (df[\"period\"]>=2015) & (df[\"euro\"]>1000)\n",
    "df[condition]"
   ]
  },
  {
   "cell_type": "markdown",
   "metadata": {},
   "source": [
    "Exemple : je veux tous les articles qui ont le mot Physic dans le nom de la revue"
   ]
  },
  {
   "cell_type": "code",
   "execution_count": 85,
   "metadata": {},
   "outputs": [
    {
     "data": {
      "text/html": [
       "<div>\n",
       "<style scoped>\n",
       "    .dataframe tbody tr th:only-of-type {\n",
       "        vertical-align: middle;\n",
       "    }\n",
       "\n",
       "    .dataframe tbody tr th {\n",
       "        vertical-align: top;\n",
       "    }\n",
       "\n",
       "    .dataframe thead th {\n",
       "        text-align: right;\n",
       "    }\n",
       "</style>\n",
       "<table border=\"1\" class=\"dataframe\">\n",
       "  <thead>\n",
       "    <tr style=\"text-align: right;\">\n",
       "      <th></th>\n",
       "      <th>institution</th>\n",
       "      <th>period</th>\n",
       "      <th>euro</th>\n",
       "      <th>doi</th>\n",
       "      <th>journal_title</th>\n",
       "      <th>publisher</th>\n",
       "      <th>is_hybrid</th>\n",
       "      <th>issn</th>\n",
       "      <th>url</th>\n",
       "      <th>chf</th>\n",
       "      <th>conversion_rate</th>\n",
       "      <th>invoice_original_amount</th>\n",
       "      <th>invoice_original_currency</th>\n",
       "      <th>snsf_voucher_number</th>\n",
       "      <th>grant_snsf</th>\n",
       "      <th>grant_snsf_related</th>\n",
       "    </tr>\n",
       "  </thead>\n",
       "  <tbody>\n",
       "    <tr>\n",
       "      <th>23</th>\n",
       "      <td>Swiss National Science Foundation (SNSF)</td>\n",
       "      <td>2013</td>\n",
       "      <td>1160.38</td>\n",
       "      <td>10.5194/acpd-13-23325-2013</td>\n",
       "      <td>Atmospheric Chemistry and Physics Discussions</td>\n",
       "      <td>Copernicus GmbH</td>\n",
       "      <td>False</td>\n",
       "      <td>NaN</td>\n",
       "      <td>NaN</td>\n",
       "      <td>1428.20</td>\n",
       "      <td>1.23080</td>\n",
       "      <td>1363.00</td>\n",
       "      <td>EUR</td>\n",
       "      <td>NaN</td>\n",
       "      <td>PZ00P2_131673</td>\n",
       "      <td>131673</td>\n",
       "    </tr>\n",
       "    <tr>\n",
       "      <th>85</th>\n",
       "      <td>Swiss National Science Foundation (SNSF)</td>\n",
       "      <td>2015</td>\n",
       "      <td>2255.79</td>\n",
       "      <td>10.1016/j.sna.2015.06.014</td>\n",
       "      <td>Sensors and Actuators A: Physical</td>\n",
       "      <td>Elsevier BV</td>\n",
       "      <td>True</td>\n",
       "      <td>NaN</td>\n",
       "      <td>NaN</td>\n",
       "      <td>2409.43</td>\n",
       "      <td>1.06811</td>\n",
       "      <td>2303.34</td>\n",
       "      <td>EUR</td>\n",
       "      <td>NaN</td>\n",
       "      <td>200021_135496</td>\n",
       "      <td>135496</td>\n",
       "    </tr>\n",
       "    <tr>\n",
       "      <th>107</th>\n",
       "      <td>Swiss National Science Foundation (SNSF)</td>\n",
       "      <td>2015</td>\n",
       "      <td>1555.00</td>\n",
       "      <td>10.1088/1367-2630/16/12/123013</td>\n",
       "      <td>New Journal of Physics</td>\n",
       "      <td>IOP Publishing</td>\n",
       "      <td>False</td>\n",
       "      <td>NaN</td>\n",
       "      <td>NaN</td>\n",
       "      <td>1660.91</td>\n",
       "      <td>1.06811</td>\n",
       "      <td>1440.00</td>\n",
       "      <td>EUR</td>\n",
       "      <td>NaN</td>\n",
       "      <td>PP00P2_138960</td>\n",
       "      <td>138960</td>\n",
       "    </tr>\n",
       "    <tr>\n",
       "      <th>108</th>\n",
       "      <td>Swiss National Science Foundation (SNSF)</td>\n",
       "      <td>2015</td>\n",
       "      <td>1370.50</td>\n",
       "      <td>10.1088/1367-2630/16/12/123050</td>\n",
       "      <td>New Journal of Physics</td>\n",
       "      <td>IOP Publishing</td>\n",
       "      <td>False</td>\n",
       "      <td>NaN</td>\n",
       "      <td>NaN</td>\n",
       "      <td>1463.85</td>\n",
       "      <td>1.06811</td>\n",
       "      <td>1344.00</td>\n",
       "      <td>USD</td>\n",
       "      <td>NaN</td>\n",
       "      <td>PP00P2_138917</td>\n",
       "      <td>138917</td>\n",
       "    </tr>\n",
       "    <tr>\n",
       "      <th>109</th>\n",
       "      <td>Swiss National Science Foundation (SNSF)</td>\n",
       "      <td>2015</td>\n",
       "      <td>1194.68</td>\n",
       "      <td>10.1088/1367-2630/17/11/112002</td>\n",
       "      <td>New Journal of Physics</td>\n",
       "      <td>IOP Publishing</td>\n",
       "      <td>False</td>\n",
       "      <td>NaN</td>\n",
       "      <td>NaN</td>\n",
       "      <td>1276.05</td>\n",
       "      <td>1.06811</td>\n",
       "      <td>1170.00</td>\n",
       "      <td>EUR</td>\n",
       "      <td>NaN</td>\n",
       "      <td>200020_149901</td>\n",
       "      <td>149901</td>\n",
       "    </tr>\n",
       "    <tr>\n",
       "      <th>110</th>\n",
       "      <td>Swiss National Science Foundation (SNSF)</td>\n",
       "      <td>2015</td>\n",
       "      <td>1397.04</td>\n",
       "      <td>10.1088/1367-2630/17/11/113029</td>\n",
       "      <td>New Journal of Physics</td>\n",
       "      <td>IOP Publishing</td>\n",
       "      <td>False</td>\n",
       "      <td>NaN</td>\n",
       "      <td>NaN</td>\n",
       "      <td>1492.19</td>\n",
       "      <td>1.06811</td>\n",
       "      <td>NaN</td>\n",
       "      <td>NaN</td>\n",
       "      <td>NaN</td>\n",
       "      <td>BSSGI0_155818</td>\n",
       "      <td>155818</td>\n",
       "    </tr>\n",
       "    <tr>\n",
       "      <th>118</th>\n",
       "      <td>Swiss National Science Foundation (SNSF)</td>\n",
       "      <td>2015</td>\n",
       "      <td>1567.07</td>\n",
       "      <td>10.1103/PhysRevX.5.021009</td>\n",
       "      <td>Physical Review X</td>\n",
       "      <td>American Physical Society (APS)</td>\n",
       "      <td>False</td>\n",
       "      <td>NaN</td>\n",
       "      <td>NaN</td>\n",
       "      <td>1673.80</td>\n",
       "      <td>1.06811</td>\n",
       "      <td>1700.00</td>\n",
       "      <td>USD</td>\n",
       "      <td>NaN</td>\n",
       "      <td>200020_156100</td>\n",
       "      <td>156100</td>\n",
       "    </tr>\n",
       "    <tr>\n",
       "      <th>119</th>\n",
       "      <td>Swiss National Science Foundation (SNSF)</td>\n",
       "      <td>2015</td>\n",
       "      <td>539.35</td>\n",
       "      <td>10.1103/PhysRevX.5.031010</td>\n",
       "      <td>Physical Review X</td>\n",
       "      <td>American Physical Society (APS)</td>\n",
       "      <td>False</td>\n",
       "      <td>NaN</td>\n",
       "      <td>NaN</td>\n",
       "      <td>576.08</td>\n",
       "      <td>1.06811</td>\n",
       "      <td>504.21</td>\n",
       "      <td>EUR</td>\n",
       "      <td>NaN</td>\n",
       "      <td>PP00P2_138917</td>\n",
       "      <td>138917</td>\n",
       "    </tr>\n",
       "    <tr>\n",
       "      <th>171</th>\n",
       "      <td>Swiss National Science Foundation (SNSF)</td>\n",
       "      <td>2015</td>\n",
       "      <td>734.55</td>\n",
       "      <td>10.3402/tellusb.v67.25014</td>\n",
       "      <td>Tellus B: Chemical and Physical Meteorology</td>\n",
       "      <td>Informa UK Limited</td>\n",
       "      <td>False</td>\n",
       "      <td>NaN</td>\n",
       "      <td>NaN</td>\n",
       "      <td>784.58</td>\n",
       "      <td>1.06811</td>\n",
       "      <td>750.00</td>\n",
       "      <td>EUR</td>\n",
       "      <td>NaN</td>\n",
       "      <td>200021_140228</td>\n",
       "      <td>140228</td>\n",
       "    </tr>\n",
       "    <tr>\n",
       "      <th>175</th>\n",
       "      <td>Swiss National Science Foundation (SNSF)</td>\n",
       "      <td>2015</td>\n",
       "      <td>803.85</td>\n",
       "      <td>10.5194/acp-15-10999-2015</td>\n",
       "      <td>Atmospheric Chemistry and Physics</td>\n",
       "      <td>Copernicus GmbH</td>\n",
       "      <td>False</td>\n",
       "      <td>NaN</td>\n",
       "      <td>NaN</td>\n",
       "      <td>858.60</td>\n",
       "      <td>1.06811</td>\n",
       "      <td>NaN</td>\n",
       "      <td>NaN</td>\n",
       "      <td>NaN</td>\n",
       "      <td>200020_160048</td>\n",
       "      <td>160048</td>\n",
       "    </tr>\n",
       "    <tr>\n",
       "      <th>176</th>\n",
       "      <td>Swiss National Science Foundation (SNSF)</td>\n",
       "      <td>2015</td>\n",
       "      <td>1081.91</td>\n",
       "      <td>10.5194/acp-15-11461-2015</td>\n",
       "      <td>Atmospheric Chemistry and Physics</td>\n",
       "      <td>Copernicus GmbH</td>\n",
       "      <td>False</td>\n",
       "      <td>NaN</td>\n",
       "      <td>NaN</td>\n",
       "      <td>1155.60</td>\n",
       "      <td>1.06811</td>\n",
       "      <td>1000.00</td>\n",
       "      <td>EUR</td>\n",
       "      <td>NaN</td>\n",
       "      <td>CRSII2_147659</td>\n",
       "      <td>147659</td>\n",
       "    </tr>\n",
       "    <tr>\n",
       "      <th>177</th>\n",
       "      <td>Swiss National Science Foundation (SNSF)</td>\n",
       "      <td>2015</td>\n",
       "      <td>1225.98</td>\n",
       "      <td>10.5194/acpd-15-15469-2015</td>\n",
       "      <td>Atmospheric Chemistry and Physics Discussions</td>\n",
       "      <td>Copernicus GmbH</td>\n",
       "      <td>False</td>\n",
       "      <td>NaN</td>\n",
       "      <td>NaN</td>\n",
       "      <td>1309.48</td>\n",
       "      <td>1.06811</td>\n",
       "      <td>1249.50</td>\n",
       "      <td>EUR</td>\n",
       "      <td>NaN</td>\n",
       "      <td>200021_140663</td>\n",
       "      <td>140663</td>\n",
       "    </tr>\n",
       "    <tr>\n",
       "      <th>191</th>\n",
       "      <td>Swiss National Science Foundation (SNSF)</td>\n",
       "      <td>2016</td>\n",
       "      <td>1993.62</td>\n",
       "      <td>10.1016/j.nima.2016.01.018</td>\n",
       "      <td>Nuclear Instruments and Methods in Physics Res...</td>\n",
       "      <td>Elsevier BV</td>\n",
       "      <td>True</td>\n",
       "      <td>NaN</td>\n",
       "      <td>NaN</td>\n",
       "      <td>2173.22</td>\n",
       "      <td>1.09009</td>\n",
       "      <td>1963.59</td>\n",
       "      <td>EUR</td>\n",
       "      <td>NaN</td>\n",
       "      <td>200020_159754</td>\n",
       "      <td>159754</td>\n",
       "    </tr>\n",
       "    <tr>\n",
       "      <th>221</th>\n",
       "      <td>Swiss National Science Foundation (SNSF)</td>\n",
       "      <td>2016</td>\n",
       "      <td>1814.60</td>\n",
       "      <td>10.1088/1367-2630/18/1/013035</td>\n",
       "      <td>New Journal of Physics</td>\n",
       "      <td>IOP Publishing</td>\n",
       "      <td>False</td>\n",
       "      <td>NaN</td>\n",
       "      <td>NaN</td>\n",
       "      <td>1978.08</td>\n",
       "      <td>1.09009</td>\n",
       "      <td>NaN</td>\n",
       "      <td>NaN</td>\n",
       "      <td>NaN</td>\n",
       "      <td>200020_156062</td>\n",
       "      <td>156062</td>\n",
       "    </tr>\n",
       "    <tr>\n",
       "      <th>222</th>\n",
       "      <td>Swiss National Science Foundation (SNSF)</td>\n",
       "      <td>2016</td>\n",
       "      <td>1901.81</td>\n",
       "      <td>10.1088/1367-2630/18/1/013036</td>\n",
       "      <td>New Journal of Physics</td>\n",
       "      <td>IOP Publishing</td>\n",
       "      <td>False</td>\n",
       "      <td>NaN</td>\n",
       "      <td>NaN</td>\n",
       "      <td>2073.14</td>\n",
       "      <td>1.09009</td>\n",
       "      <td>NaN</td>\n",
       "      <td>NaN</td>\n",
       "      <td>NaN</td>\n",
       "      <td>200020_156062</td>\n",
       "      <td>156062</td>\n",
       "    </tr>\n",
       "    <tr>\n",
       "      <th>223</th>\n",
       "      <td>Swiss National Science Foundation (SNSF)</td>\n",
       "      <td>2016</td>\n",
       "      <td>1163.11</td>\n",
       "      <td>10.1088/1367-2630/18/10/103027</td>\n",
       "      <td>New Journal of Physics</td>\n",
       "      <td>IOP Publishing</td>\n",
       "      <td>False</td>\n",
       "      <td>NaN</td>\n",
       "      <td>NaN</td>\n",
       "      <td>1267.89</td>\n",
       "      <td>1.09009</td>\n",
       "      <td>975.00</td>\n",
       "      <td>GBP</td>\n",
       "      <td>NaN</td>\n",
       "      <td>200020_157081</td>\n",
       "      <td>157081</td>\n",
       "    </tr>\n",
       "    <tr>\n",
       "      <th>224</th>\n",
       "      <td>Swiss National Science Foundation (SNSF)</td>\n",
       "      <td>2016</td>\n",
       "      <td>1633.14</td>\n",
       "      <td>10.1088/1367-2630/18/3/035014</td>\n",
       "      <td>New Journal of Physics</td>\n",
       "      <td>IOP Publishing</td>\n",
       "      <td>False</td>\n",
       "      <td>NaN</td>\n",
       "      <td>NaN</td>\n",
       "      <td>1780.27</td>\n",
       "      <td>1.09009</td>\n",
       "      <td>NaN</td>\n",
       "      <td>NaN</td>\n",
       "      <td>NaN</td>\n",
       "      <td>200020_156062</td>\n",
       "      <td>156062</td>\n",
       "    </tr>\n",
       "    <tr>\n",
       "      <th>232</th>\n",
       "      <td>Swiss National Science Foundation (SNSF)</td>\n",
       "      <td>2016</td>\n",
       "      <td>1547.49</td>\n",
       "      <td>10.1103/PhysRevX.6.011007</td>\n",
       "      <td>Physical Review X</td>\n",
       "      <td>American Physical Society (APS)</td>\n",
       "      <td>False</td>\n",
       "      <td>NaN</td>\n",
       "      <td>NaN</td>\n",
       "      <td>1686.90</td>\n",
       "      <td>1.09009</td>\n",
       "      <td>NaN</td>\n",
       "      <td>NaN</td>\n",
       "      <td>NaN</td>\n",
       "      <td>200021_153578</td>\n",
       "      <td>153578</td>\n",
       "    </tr>\n",
       "    <tr>\n",
       "      <th>233</th>\n",
       "      <td>Swiss National Science Foundation (SNSF)</td>\n",
       "      <td>2016</td>\n",
       "      <td>2538.24</td>\n",
       "      <td>10.1103/PhysRevX.6.031021</td>\n",
       "      <td>Physical Review X</td>\n",
       "      <td>American Physical Society (APS)</td>\n",
       "      <td>False</td>\n",
       "      <td>NaN</td>\n",
       "      <td>NaN</td>\n",
       "      <td>2766.91</td>\n",
       "      <td>1.09009</td>\n",
       "      <td>2500.00</td>\n",
       "      <td>USD</td>\n",
       "      <td>NaN</td>\n",
       "      <td>200021_146995</td>\n",
       "      <td>146995</td>\n",
       "    </tr>\n",
       "    <tr>\n",
       "      <th>234</th>\n",
       "      <td>Swiss National Science Foundation (SNSF)</td>\n",
       "      <td>2016</td>\n",
       "      <td>1660.49</td>\n",
       "      <td>10.1103/PhysRevX.6.031027</td>\n",
       "      <td>Physical Review X</td>\n",
       "      <td>American Physical Society (APS)</td>\n",
       "      <td>False</td>\n",
       "      <td>NaN</td>\n",
       "      <td>NaN</td>\n",
       "      <td>1810.08</td>\n",
       "      <td>1.09009</td>\n",
       "      <td>NaN</td>\n",
       "      <td>NaN</td>\n",
       "      <td>NaN</td>\n",
       "      <td>200021_162628</td>\n",
       "      <td>162628</td>\n",
       "    </tr>\n",
       "    <tr>\n",
       "      <th>235</th>\n",
       "      <td>Swiss National Science Foundation (SNSF)</td>\n",
       "      <td>2016</td>\n",
       "      <td>2406.36</td>\n",
       "      <td>10.1103/PhysRevX.6.041020</td>\n",
       "      <td>Physical Review X</td>\n",
       "      <td>American Physical Society (APS)</td>\n",
       "      <td>False</td>\n",
       "      <td>NaN</td>\n",
       "      <td>NaN</td>\n",
       "      <td>2623.15</td>\n",
       "      <td>1.09009</td>\n",
       "      <td>NaN</td>\n",
       "      <td>NaN</td>\n",
       "      <td>NaN</td>\n",
       "      <td>200020_160084</td>\n",
       "      <td>160084</td>\n",
       "    </tr>\n",
       "    <tr>\n",
       "      <th>281</th>\n",
       "      <td>Swiss National Science Foundation (SNSF)</td>\n",
       "      <td>2016</td>\n",
       "      <td>1471.25</td>\n",
       "      <td>10.5194/acp-16-15529-2016</td>\n",
       "      <td>Atmospheric Chemistry and Physics</td>\n",
       "      <td>Copernicus GmbH</td>\n",
       "      <td>False</td>\n",
       "      <td>NaN</td>\n",
       "      <td>NaN</td>\n",
       "      <td>1603.80</td>\n",
       "      <td>1.09009</td>\n",
       "      <td>NaN</td>\n",
       "      <td>NaN</td>\n",
       "      <td>NaN</td>\n",
       "      <td>CRSII2_147659</td>\n",
       "      <td>147659</td>\n",
       "    </tr>\n",
       "    <tr>\n",
       "      <th>282</th>\n",
       "      <td>Swiss National Science Foundation (SNSF)</td>\n",
       "      <td>2016</td>\n",
       "      <td>986.92</td>\n",
       "      <td>10.5194/acp-16-8341-2016</td>\n",
       "      <td>Atmospheric Chemistry and Physics</td>\n",
       "      <td>Copernicus GmbH</td>\n",
       "      <td>False</td>\n",
       "      <td>NaN</td>\n",
       "      <td>NaN</td>\n",
       "      <td>1075.83</td>\n",
       "      <td>1.09009</td>\n",
       "      <td>990.00</td>\n",
       "      <td>EUR</td>\n",
       "      <td>NaN</td>\n",
       "      <td>200020_159194</td>\n",
       "      <td>159194</td>\n",
       "    </tr>\n",
       "    <tr>\n",
       "      <th>319</th>\n",
       "      <td>Swiss National Science Foundation (SNSF)</td>\n",
       "      <td>2017</td>\n",
       "      <td>1933.73</td>\n",
       "      <td>10.1088/1361-6463/aa5b11</td>\n",
       "      <td>Journal of Physics D: Applied Physics</td>\n",
       "      <td>IOP Publishing</td>\n",
       "      <td>True</td>\n",
       "      <td>NaN</td>\n",
       "      <td>NaN</td>\n",
       "      <td>2149.48</td>\n",
       "      <td>1.11157</td>\n",
       "      <td>1700.00</td>\n",
       "      <td>GBP</td>\n",
       "      <td>NaN</td>\n",
       "      <td>BSSGI0_155876</td>\n",
       "      <td>155876</td>\n",
       "    </tr>\n",
       "    <tr>\n",
       "      <th>320</th>\n",
       "      <td>Swiss National Science Foundation (SNSF)</td>\n",
       "      <td>2017</td>\n",
       "      <td>1482.19</td>\n",
       "      <td>10.1088/1367-2630/aa591c</td>\n",
       "      <td>New Journal of Physics</td>\n",
       "      <td>IOP Publishing</td>\n",
       "      <td>False</td>\n",
       "      <td>NaN</td>\n",
       "      <td>NaN</td>\n",
       "      <td>1647.56</td>\n",
       "      <td>1.11157</td>\n",
       "      <td>1300.00</td>\n",
       "      <td>GBP</td>\n",
       "      <td>NaN</td>\n",
       "      <td>PP00P2_166157</td>\n",
       "      <td>166157</td>\n",
       "    </tr>\n",
       "    <tr>\n",
       "      <th>325</th>\n",
       "      <td>Swiss National Science Foundation (SNSF)</td>\n",
       "      <td>2017</td>\n",
       "      <td>1647.31</td>\n",
       "      <td>10.1103/PhysRevApplied.7.044022</td>\n",
       "      <td>Physical Review Applied</td>\n",
       "      <td>American Physical Society (APS)</td>\n",
       "      <td>True</td>\n",
       "      <td>NaN</td>\n",
       "      <td>NaN</td>\n",
       "      <td>1831.10</td>\n",
       "      <td>1.11157</td>\n",
       "      <td>1800.00</td>\n",
       "      <td>USD</td>\n",
       "      <td>NaN</td>\n",
       "      <td>200021_165975</td>\n",
       "      <td>165975</td>\n",
       "    </tr>\n",
       "    <tr>\n",
       "      <th>328</th>\n",
       "      <td>Swiss National Science Foundation (SNSF)</td>\n",
       "      <td>2017</td>\n",
       "      <td>1068.76</td>\n",
       "      <td>10.1140/epjd/e2017-70774-9</td>\n",
       "      <td>The European Physical Journal D</td>\n",
       "      <td>Springer Nature</td>\n",
       "      <td>True</td>\n",
       "      <td>NaN</td>\n",
       "      <td>NaN</td>\n",
       "      <td>1188.00</td>\n",
       "      <td>1.11157</td>\n",
       "      <td>1080.00</td>\n",
       "      <td>EUR</td>\n",
       "      <td>NaN</td>\n",
       "      <td>200021_160128</td>\n",
       "      <td>160128</td>\n",
       "    </tr>\n",
       "    <tr>\n",
       "      <th>426</th>\n",
       "      <td>Swiss National Science Foundation (SNSF)</td>\n",
       "      <td>2018</td>\n",
       "      <td>2263.46</td>\n",
       "      <td>10.1038/s42005-018-0027-2</td>\n",
       "      <td>Communications Physics</td>\n",
       "      <td>Springer Nature</td>\n",
       "      <td>False</td>\n",
       "      <td>NaN</td>\n",
       "      <td>NaN</td>\n",
       "      <td>2614.00</td>\n",
       "      <td>1.15487</td>\n",
       "      <td>2000.00</td>\n",
       "      <td>EUR</td>\n",
       "      <td>9003428.0</td>\n",
       "      <td>PPAC-2_185561</td>\n",
       "      <td>159259</td>\n",
       "    </tr>\n",
       "    <tr>\n",
       "      <th>435</th>\n",
       "      <td>Swiss National Science Foundation (SNSF)</td>\n",
       "      <td>2018</td>\n",
       "      <td>2579.51</td>\n",
       "      <td>10.1103/PhysRevX.8.021067</td>\n",
       "      <td>Physical Review X</td>\n",
       "      <td>American Physical Society (APS)</td>\n",
       "      <td>False</td>\n",
       "      <td>NaN</td>\n",
       "      <td>NaN</td>\n",
       "      <td>2979.00</td>\n",
       "      <td>1.15487</td>\n",
       "      <td>2900.00</td>\n",
       "      <td>USD</td>\n",
       "      <td>NaN</td>\n",
       "      <td>PP00P2_170591</td>\n",
       "      <td>170591</td>\n",
       "    </tr>\n",
       "    <tr>\n",
       "      <th>436</th>\n",
       "      <td>Swiss National Science Foundation (SNSF)</td>\n",
       "      <td>2018</td>\n",
       "      <td>2771.74</td>\n",
       "      <td>10.1103/physrevx.8.031060</td>\n",
       "      <td>Physical Review X</td>\n",
       "      <td>American Physical Society (APS)</td>\n",
       "      <td>False</td>\n",
       "      <td>NaN</td>\n",
       "      <td>NaN</td>\n",
       "      <td>3201.00</td>\n",
       "      <td>1.15487</td>\n",
       "      <td>3200.00</td>\n",
       "      <td>USD</td>\n",
       "      <td>9000391.0</td>\n",
       "      <td>51AC-0_186790</td>\n",
       "      <td>183615</td>\n",
       "    </tr>\n",
       "    <tr>\n",
       "      <th>437</th>\n",
       "      <td>Swiss National Science Foundation (SNSF)</td>\n",
       "      <td>2018</td>\n",
       "      <td>2790.79</td>\n",
       "      <td>10.1103/PhysRevX.8.041018</td>\n",
       "      <td>Physical Review X</td>\n",
       "      <td>American Physical Society (APS)</td>\n",
       "      <td>False</td>\n",
       "      <td>NaN</td>\n",
       "      <td>NaN</td>\n",
       "      <td>3223.00</td>\n",
       "      <td>1.15487</td>\n",
       "      <td>3200.00</td>\n",
       "      <td>USD</td>\n",
       "      <td>NaN</td>\n",
       "      <td>200021_179026</td>\n",
       "      <td>179026</td>\n",
       "    </tr>\n",
       "    <tr>\n",
       "      <th>609</th>\n",
       "      <td>Swiss National Science Foundation (SNSF)</td>\n",
       "      <td>2019</td>\n",
       "      <td>1780.41</td>\n",
       "      <td>10.1140/epje/i2019-11807-x</td>\n",
       "      <td>The European Physical Journal E</td>\n",
       "      <td>Springer Nature</td>\n",
       "      <td>True</td>\n",
       "      <td>NaN</td>\n",
       "      <td>NaN</td>\n",
       "      <td>2010.81</td>\n",
       "      <td>1.12941</td>\n",
       "      <td>1744.74</td>\n",
       "      <td>EUR</td>\n",
       "      <td>9001774.0</td>\n",
       "      <td>CRAC-2_189554</td>\n",
       "      <td>166556</td>\n",
       "    </tr>\n",
       "    <tr>\n",
       "      <th>704</th>\n",
       "      <td>Swiss National Science Foundation (SNSF)</td>\n",
       "      <td>2019</td>\n",
       "      <td>927.26</td>\n",
       "      <td>10.5194/acp-19-3481-2019</td>\n",
       "      <td>Atmospheric Chemistry and Physics</td>\n",
       "      <td>Copernicus GmbH</td>\n",
       "      <td>False</td>\n",
       "      <td>NaN</td>\n",
       "      <td>NaN</td>\n",
       "      <td>1047.26</td>\n",
       "      <td>1.12941</td>\n",
       "      <td>924.00</td>\n",
       "      <td>EUR</td>\n",
       "      <td>9001161.0</td>\n",
       "      <td>IZAC-0_188428</td>\n",
       "      <td>170707</td>\n",
       "    </tr>\n",
       "    <tr>\n",
       "      <th>705</th>\n",
       "      <td>Swiss National Science Foundation (SNSF)</td>\n",
       "      <td>2019</td>\n",
       "      <td>1611.46</td>\n",
       "      <td>10.5194/acp-19-4289-2019</td>\n",
       "      <td>Atmospheric Chemistry and Physics</td>\n",
       "      <td>Copernicus GmbH</td>\n",
       "      <td>False</td>\n",
       "      <td>NaN</td>\n",
       "      <td>NaN</td>\n",
       "      <td>1820.00</td>\n",
       "      <td>1.12941</td>\n",
       "      <td>1617.00</td>\n",
       "      <td>EUR</td>\n",
       "      <td>9002235.0</td>\n",
       "      <td>20AC-1_189987</td>\n",
       "      <td>165516</td>\n",
       "    </tr>\n",
       "    <tr>\n",
       "      <th>706</th>\n",
       "      <td>Swiss National Science Foundation (SNSF)</td>\n",
       "      <td>2019</td>\n",
       "      <td>953.60</td>\n",
       "      <td>10.5194/acp-19-877-2019</td>\n",
       "      <td>Atmospheric Chemistry and Physics</td>\n",
       "      <td>Copernicus GmbH</td>\n",
       "      <td>False</td>\n",
       "      <td>NaN</td>\n",
       "      <td>NaN</td>\n",
       "      <td>1077.00</td>\n",
       "      <td>1.12941</td>\n",
       "      <td>930.00</td>\n",
       "      <td>EUR</td>\n",
       "      <td>NaN</td>\n",
       "      <td>200021_169620</td>\n",
       "      <td>169620</td>\n",
       "    </tr>\n",
       "  </tbody>\n",
       "</table>\n",
       "</div>"
      ],
      "text/plain": [
       "                                  institution  period     euro  \\\n",
       "23   Swiss National Science Foundation (SNSF)    2013  1160.38   \n",
       "85   Swiss National Science Foundation (SNSF)    2015  2255.79   \n",
       "107  Swiss National Science Foundation (SNSF)    2015  1555.00   \n",
       "108  Swiss National Science Foundation (SNSF)    2015  1370.50   \n",
       "109  Swiss National Science Foundation (SNSF)    2015  1194.68   \n",
       "110  Swiss National Science Foundation (SNSF)    2015  1397.04   \n",
       "118  Swiss National Science Foundation (SNSF)    2015  1567.07   \n",
       "119  Swiss National Science Foundation (SNSF)    2015   539.35   \n",
       "171  Swiss National Science Foundation (SNSF)    2015   734.55   \n",
       "175  Swiss National Science Foundation (SNSF)    2015   803.85   \n",
       "176  Swiss National Science Foundation (SNSF)    2015  1081.91   \n",
       "177  Swiss National Science Foundation (SNSF)    2015  1225.98   \n",
       "191  Swiss National Science Foundation (SNSF)    2016  1993.62   \n",
       "221  Swiss National Science Foundation (SNSF)    2016  1814.60   \n",
       "222  Swiss National Science Foundation (SNSF)    2016  1901.81   \n",
       "223  Swiss National Science Foundation (SNSF)    2016  1163.11   \n",
       "224  Swiss National Science Foundation (SNSF)    2016  1633.14   \n",
       "232  Swiss National Science Foundation (SNSF)    2016  1547.49   \n",
       "233  Swiss National Science Foundation (SNSF)    2016  2538.24   \n",
       "234  Swiss National Science Foundation (SNSF)    2016  1660.49   \n",
       "235  Swiss National Science Foundation (SNSF)    2016  2406.36   \n",
       "281  Swiss National Science Foundation (SNSF)    2016  1471.25   \n",
       "282  Swiss National Science Foundation (SNSF)    2016   986.92   \n",
       "319  Swiss National Science Foundation (SNSF)    2017  1933.73   \n",
       "320  Swiss National Science Foundation (SNSF)    2017  1482.19   \n",
       "325  Swiss National Science Foundation (SNSF)    2017  1647.31   \n",
       "328  Swiss National Science Foundation (SNSF)    2017  1068.76   \n",
       "426  Swiss National Science Foundation (SNSF)    2018  2263.46   \n",
       "435  Swiss National Science Foundation (SNSF)    2018  2579.51   \n",
       "436  Swiss National Science Foundation (SNSF)    2018  2771.74   \n",
       "437  Swiss National Science Foundation (SNSF)    2018  2790.79   \n",
       "609  Swiss National Science Foundation (SNSF)    2019  1780.41   \n",
       "704  Swiss National Science Foundation (SNSF)    2019   927.26   \n",
       "705  Swiss National Science Foundation (SNSF)    2019  1611.46   \n",
       "706  Swiss National Science Foundation (SNSF)    2019   953.60   \n",
       "\n",
       "                                 doi  \\\n",
       "23        10.5194/acpd-13-23325-2013   \n",
       "85         10.1016/j.sna.2015.06.014   \n",
       "107   10.1088/1367-2630/16/12/123013   \n",
       "108   10.1088/1367-2630/16/12/123050   \n",
       "109   10.1088/1367-2630/17/11/112002   \n",
       "110   10.1088/1367-2630/17/11/113029   \n",
       "118        10.1103/PhysRevX.5.021009   \n",
       "119        10.1103/PhysRevX.5.031010   \n",
       "171        10.3402/tellusb.v67.25014   \n",
       "175        10.5194/acp-15-10999-2015   \n",
       "176        10.5194/acp-15-11461-2015   \n",
       "177       10.5194/acpd-15-15469-2015   \n",
       "191       10.1016/j.nima.2016.01.018   \n",
       "221    10.1088/1367-2630/18/1/013035   \n",
       "222    10.1088/1367-2630/18/1/013036   \n",
       "223   10.1088/1367-2630/18/10/103027   \n",
       "224    10.1088/1367-2630/18/3/035014   \n",
       "232        10.1103/PhysRevX.6.011007   \n",
       "233        10.1103/PhysRevX.6.031021   \n",
       "234        10.1103/PhysRevX.6.031027   \n",
       "235        10.1103/PhysRevX.6.041020   \n",
       "281        10.5194/acp-16-15529-2016   \n",
       "282         10.5194/acp-16-8341-2016   \n",
       "319         10.1088/1361-6463/aa5b11   \n",
       "320         10.1088/1367-2630/aa591c   \n",
       "325  10.1103/PhysRevApplied.7.044022   \n",
       "328       10.1140/epjd/e2017-70774-9   \n",
       "426        10.1038/s42005-018-0027-2   \n",
       "435        10.1103/PhysRevX.8.021067   \n",
       "436        10.1103/physrevx.8.031060   \n",
       "437        10.1103/PhysRevX.8.041018   \n",
       "609       10.1140/epje/i2019-11807-x   \n",
       "704         10.5194/acp-19-3481-2019   \n",
       "705         10.5194/acp-19-4289-2019   \n",
       "706          10.5194/acp-19-877-2019   \n",
       "\n",
       "                                         journal_title  \\\n",
       "23       Atmospheric Chemistry and Physics Discussions   \n",
       "85                   Sensors and Actuators A: Physical   \n",
       "107                             New Journal of Physics   \n",
       "108                             New Journal of Physics   \n",
       "109                             New Journal of Physics   \n",
       "110                             New Journal of Physics   \n",
       "118                                  Physical Review X   \n",
       "119                                  Physical Review X   \n",
       "171        Tellus B: Chemical and Physical Meteorology   \n",
       "175                  Atmospheric Chemistry and Physics   \n",
       "176                  Atmospheric Chemistry and Physics   \n",
       "177      Atmospheric Chemistry and Physics Discussions   \n",
       "191  Nuclear Instruments and Methods in Physics Res...   \n",
       "221                             New Journal of Physics   \n",
       "222                             New Journal of Physics   \n",
       "223                             New Journal of Physics   \n",
       "224                             New Journal of Physics   \n",
       "232                                  Physical Review X   \n",
       "233                                  Physical Review X   \n",
       "234                                  Physical Review X   \n",
       "235                                  Physical Review X   \n",
       "281                  Atmospheric Chemistry and Physics   \n",
       "282                  Atmospheric Chemistry and Physics   \n",
       "319              Journal of Physics D: Applied Physics   \n",
       "320                             New Journal of Physics   \n",
       "325                            Physical Review Applied   \n",
       "328                    The European Physical Journal D   \n",
       "426                             Communications Physics   \n",
       "435                                  Physical Review X   \n",
       "436                                  Physical Review X   \n",
       "437                                  Physical Review X   \n",
       "609                    The European Physical Journal E   \n",
       "704                  Atmospheric Chemistry and Physics   \n",
       "705                  Atmospheric Chemistry and Physics   \n",
       "706                  Atmospheric Chemistry and Physics   \n",
       "\n",
       "                           publisher  is_hybrid issn  url      chf  \\\n",
       "23                   Copernicus GmbH      False  NaN  NaN  1428.20   \n",
       "85                       Elsevier BV       True  NaN  NaN  2409.43   \n",
       "107                   IOP Publishing      False  NaN  NaN  1660.91   \n",
       "108                   IOP Publishing      False  NaN  NaN  1463.85   \n",
       "109                   IOP Publishing      False  NaN  NaN  1276.05   \n",
       "110                   IOP Publishing      False  NaN  NaN  1492.19   \n",
       "118  American Physical Society (APS)      False  NaN  NaN  1673.80   \n",
       "119  American Physical Society (APS)      False  NaN  NaN   576.08   \n",
       "171               Informa UK Limited      False  NaN  NaN   784.58   \n",
       "175                  Copernicus GmbH      False  NaN  NaN   858.60   \n",
       "176                  Copernicus GmbH      False  NaN  NaN  1155.60   \n",
       "177                  Copernicus GmbH      False  NaN  NaN  1309.48   \n",
       "191                      Elsevier BV       True  NaN  NaN  2173.22   \n",
       "221                   IOP Publishing      False  NaN  NaN  1978.08   \n",
       "222                   IOP Publishing      False  NaN  NaN  2073.14   \n",
       "223                   IOP Publishing      False  NaN  NaN  1267.89   \n",
       "224                   IOP Publishing      False  NaN  NaN  1780.27   \n",
       "232  American Physical Society (APS)      False  NaN  NaN  1686.90   \n",
       "233  American Physical Society (APS)      False  NaN  NaN  2766.91   \n",
       "234  American Physical Society (APS)      False  NaN  NaN  1810.08   \n",
       "235  American Physical Society (APS)      False  NaN  NaN  2623.15   \n",
       "281                  Copernicus GmbH      False  NaN  NaN  1603.80   \n",
       "282                  Copernicus GmbH      False  NaN  NaN  1075.83   \n",
       "319                   IOP Publishing       True  NaN  NaN  2149.48   \n",
       "320                   IOP Publishing      False  NaN  NaN  1647.56   \n",
       "325  American Physical Society (APS)       True  NaN  NaN  1831.10   \n",
       "328                  Springer Nature       True  NaN  NaN  1188.00   \n",
       "426                  Springer Nature      False  NaN  NaN  2614.00   \n",
       "435  American Physical Society (APS)      False  NaN  NaN  2979.00   \n",
       "436  American Physical Society (APS)      False  NaN  NaN  3201.00   \n",
       "437  American Physical Society (APS)      False  NaN  NaN  3223.00   \n",
       "609                  Springer Nature       True  NaN  NaN  2010.81   \n",
       "704                  Copernicus GmbH      False  NaN  NaN  1047.26   \n",
       "705                  Copernicus GmbH      False  NaN  NaN  1820.00   \n",
       "706                  Copernicus GmbH      False  NaN  NaN  1077.00   \n",
       "\n",
       "     conversion_rate  invoice_original_amount invoice_original_currency  \\\n",
       "23           1.23080                  1363.00                       EUR   \n",
       "85           1.06811                  2303.34                       EUR   \n",
       "107          1.06811                  1440.00                       EUR   \n",
       "108          1.06811                  1344.00                       USD   \n",
       "109          1.06811                  1170.00                       EUR   \n",
       "110          1.06811                      NaN                       NaN   \n",
       "118          1.06811                  1700.00                       USD   \n",
       "119          1.06811                   504.21                       EUR   \n",
       "171          1.06811                   750.00                       EUR   \n",
       "175          1.06811                      NaN                       NaN   \n",
       "176          1.06811                  1000.00                       EUR   \n",
       "177          1.06811                  1249.50                       EUR   \n",
       "191          1.09009                  1963.59                       EUR   \n",
       "221          1.09009                      NaN                       NaN   \n",
       "222          1.09009                      NaN                       NaN   \n",
       "223          1.09009                   975.00                       GBP   \n",
       "224          1.09009                      NaN                       NaN   \n",
       "232          1.09009                      NaN                       NaN   \n",
       "233          1.09009                  2500.00                       USD   \n",
       "234          1.09009                      NaN                       NaN   \n",
       "235          1.09009                      NaN                       NaN   \n",
       "281          1.09009                      NaN                       NaN   \n",
       "282          1.09009                   990.00                       EUR   \n",
       "319          1.11157                  1700.00                       GBP   \n",
       "320          1.11157                  1300.00                       GBP   \n",
       "325          1.11157                  1800.00                       USD   \n",
       "328          1.11157                  1080.00                       EUR   \n",
       "426          1.15487                  2000.00                       EUR   \n",
       "435          1.15487                  2900.00                       USD   \n",
       "436          1.15487                  3200.00                       USD   \n",
       "437          1.15487                  3200.00                       USD   \n",
       "609          1.12941                  1744.74                       EUR   \n",
       "704          1.12941                   924.00                       EUR   \n",
       "705          1.12941                  1617.00                       EUR   \n",
       "706          1.12941                   930.00                       EUR   \n",
       "\n",
       "     snsf_voucher_number     grant_snsf grant_snsf_related  \n",
       "23                   NaN  PZ00P2_131673             131673  \n",
       "85                   NaN  200021_135496             135496  \n",
       "107                  NaN  PP00P2_138960             138960  \n",
       "108                  NaN  PP00P2_138917             138917  \n",
       "109                  NaN  200020_149901             149901  \n",
       "110                  NaN  BSSGI0_155818             155818  \n",
       "118                  NaN  200020_156100             156100  \n",
       "119                  NaN  PP00P2_138917             138917  \n",
       "171                  NaN  200021_140228             140228  \n",
       "175                  NaN  200020_160048             160048  \n",
       "176                  NaN  CRSII2_147659             147659  \n",
       "177                  NaN  200021_140663             140663  \n",
       "191                  NaN  200020_159754             159754  \n",
       "221                  NaN  200020_156062             156062  \n",
       "222                  NaN  200020_156062             156062  \n",
       "223                  NaN  200020_157081             157081  \n",
       "224                  NaN  200020_156062             156062  \n",
       "232                  NaN  200021_153578             153578  \n",
       "233                  NaN  200021_146995             146995  \n",
       "234                  NaN  200021_162628             162628  \n",
       "235                  NaN  200020_160084             160084  \n",
       "281                  NaN  CRSII2_147659             147659  \n",
       "282                  NaN  200020_159194             159194  \n",
       "319                  NaN  BSSGI0_155876             155876  \n",
       "320                  NaN  PP00P2_166157             166157  \n",
       "325                  NaN  200021_165975             165975  \n",
       "328                  NaN  200021_160128             160128  \n",
       "426            9003428.0  PPAC-2_185561             159259  \n",
       "435                  NaN  PP00P2_170591             170591  \n",
       "436            9000391.0  51AC-0_186790             183615  \n",
       "437                  NaN  200021_179026             179026  \n",
       "609            9001774.0  CRAC-2_189554             166556  \n",
       "704            9001161.0  IZAC-0_188428             170707  \n",
       "705            9002235.0  20AC-1_189987             165516  \n",
       "706                  NaN  200021_169620             169620  "
      ]
     },
     "execution_count": 85,
     "metadata": {},
     "output_type": "execute_result"
    }
   ],
   "source": [
    "df[df[\"journal_title\"].str.contains(\"Physic\")]"
   ]
  },
  {
   "cell_type": "markdown",
   "metadata": {},
   "source": [
    "### Ajouter une colonne"
   ]
  },
  {
   "cell_type": "code",
   "execution_count": 88,
   "metadata": {},
   "outputs": [],
   "source": [
    "df[\"Nouvelle colonne\"] = None"
   ]
  },
  {
   "cell_type": "markdown",
   "metadata": {},
   "source": [
    "## Faire des traitements sur le tableau"
   ]
  },
  {
   "cell_type": "code",
   "execution_count": 98,
   "metadata": {},
   "outputs": [
    {
     "data": {
      "text/html": [
       "<div>\n",
       "<style scoped>\n",
       "    .dataframe tbody tr th:only-of-type {\n",
       "        vertical-align: middle;\n",
       "    }\n",
       "\n",
       "    .dataframe tbody tr th {\n",
       "        vertical-align: top;\n",
       "    }\n",
       "\n",
       "    .dataframe thead th {\n",
       "        text-align: right;\n",
       "    }\n",
       "</style>\n",
       "<table border=\"1\" class=\"dataframe\">\n",
       "  <thead>\n",
       "    <tr style=\"text-align: right;\">\n",
       "      <th></th>\n",
       "      <th>period</th>\n",
       "      <th>euro</th>\n",
       "      <th>chf</th>\n",
       "      <th>conversion_rate</th>\n",
       "      <th>invoice_original_amount</th>\n",
       "      <th>snsf_voucher_number</th>\n",
       "    </tr>\n",
       "  </thead>\n",
       "  <tbody>\n",
       "    <tr>\n",
       "      <th>count</th>\n",
       "      <td>718.000000</td>\n",
       "      <td>718.000000</td>\n",
       "      <td>717.000000</td>\n",
       "      <td>717.000000</td>\n",
       "      <td>605.000000</td>\n",
       "      <td>3.000000e+02</td>\n",
       "    </tr>\n",
       "    <tr>\n",
       "      <th>mean</th>\n",
       "      <td>2016.976323</td>\n",
       "      <td>2004.709304</td>\n",
       "      <td>2247.313515</td>\n",
       "      <td>1.129393</td>\n",
       "      <td>2119.018165</td>\n",
       "      <td>9.001760e+06</td>\n",
       "    </tr>\n",
       "    <tr>\n",
       "      <th>std</th>\n",
       "      <td>1.841183</td>\n",
       "      <td>1122.693642</td>\n",
       "      <td>1264.431346</td>\n",
       "      <td>0.042791</td>\n",
       "      <td>1176.817712</td>\n",
       "      <td>1.206471e+03</td>\n",
       "    </tr>\n",
       "    <tr>\n",
       "      <th>min</th>\n",
       "      <td>2011.000000</td>\n",
       "      <td>87.260000</td>\n",
       "      <td>97.000000</td>\n",
       "      <td>1.068110</td>\n",
       "      <td>100.000000</td>\n",
       "      <td>9.000044e+06</td>\n",
       "    </tr>\n",
       "    <tr>\n",
       "      <th>25%</th>\n",
       "      <td>2016.000000</td>\n",
       "      <td>1254.875000</td>\n",
       "      <td>1373.180000</td>\n",
       "      <td>1.090090</td>\n",
       "      <td>1290.000000</td>\n",
       "      <td>9.000838e+06</td>\n",
       "    </tr>\n",
       "    <tr>\n",
       "      <th>50%</th>\n",
       "      <td>2018.000000</td>\n",
       "      <td>1637.540000</td>\n",
       "      <td>1848.950000</td>\n",
       "      <td>1.129410</td>\n",
       "      <td>1723.200000</td>\n",
       "      <td>9.001754e+06</td>\n",
       "    </tr>\n",
       "    <tr>\n",
       "      <th>75%</th>\n",
       "      <td>2019.000000</td>\n",
       "      <td>2526.990000</td>\n",
       "      <td>2825.580000</td>\n",
       "      <td>1.154870</td>\n",
       "      <td>2880.000000</td>\n",
       "      <td>9.002275e+06</td>\n",
       "    </tr>\n",
       "    <tr>\n",
       "      <th>max</th>\n",
       "      <td>2019.000000</td>\n",
       "      <td>5104.440000</td>\n",
       "      <td>5765.000000</td>\n",
       "      <td>1.233550</td>\n",
       "      <td>5200.000000</td>\n",
       "      <td>9.004173e+06</td>\n",
       "    </tr>\n",
       "  </tbody>\n",
       "</table>\n",
       "</div>"
      ],
      "text/plain": [
       "            period         euro          chf  conversion_rate  \\\n",
       "count   718.000000   718.000000   717.000000       717.000000   \n",
       "mean   2016.976323  2004.709304  2247.313515         1.129393   \n",
       "std       1.841183  1122.693642  1264.431346         0.042791   \n",
       "min    2011.000000    87.260000    97.000000         1.068110   \n",
       "25%    2016.000000  1254.875000  1373.180000         1.090090   \n",
       "50%    2018.000000  1637.540000  1848.950000         1.129410   \n",
       "75%    2019.000000  2526.990000  2825.580000         1.154870   \n",
       "max    2019.000000  5104.440000  5765.000000         1.233550   \n",
       "\n",
       "       invoice_original_amount  snsf_voucher_number  \n",
       "count               605.000000         3.000000e+02  \n",
       "mean               2119.018165         9.001760e+06  \n",
       "std                1176.817712         1.206471e+03  \n",
       "min                 100.000000         9.000044e+06  \n",
       "25%                1290.000000         9.000838e+06  \n",
       "50%                1723.200000         9.001754e+06  \n",
       "75%                2880.000000         9.002275e+06  \n",
       "max                5200.000000         9.004173e+06  "
      ]
     },
     "execution_count": 98,
     "metadata": {},
     "output_type": "execute_result"
    }
   ],
   "source": [
    "df.describe()"
   ]
  },
  {
   "cell_type": "code",
   "execution_count": 101,
   "metadata": {},
   "outputs": [
    {
     "data": {
      "text/plain": [
       "array(['Public Library of Science (PLoS)', 'Frontiers Media SA',\n",
       "       'MDPI AG', 'e-Century Publishing Corporation', 'Wiley-Blackwell',\n",
       "       'Springer Nature', 'Elsevier BV', 'OMICS Publishing Group',\n",
       "       'Copernicus GmbH', 'PeerJ', 'Cambridge University Press (CUP)',\n",
       "       'SAGE Publications', 'AIP Publishing',\n",
       "       'Oxford University Press (OUP)', 'The Royal Society',\n",
       "       'American Society of Plant Biologists (ASPB)', 'S. Karger AG',\n",
       "       'American Meteorological Society', 'The Optical Society', 'EMBO',\n",
       "       'Canadian Center of Science and Education', 'EDP Sciences',\n",
       "       'Rockefeller University Press', 'IOP Publishing',\n",
       "       'Ovid Technologies (Wolters Kluwer Health)',\n",
       "       'American Physical Society (APS)',\n",
       "       'American Society for Microbiology', 'Informa UK Limited',\n",
       "       'MyJove Corporation',\n",
       "       'American Association for the Advancement of Science (AAAS)',\n",
       "       'Schweizerbart', 'BMJ', 'Hindawi Limited',\n",
       "       'American Association for Cancer Research (AACR)',\n",
       "       'Genetics Society of America', 'Impact Journals, LLC',\n",
       "       'American Geophysical Union (AGU)', 'Wiley',\n",
       "       'Springer Nature America, Inc', 'ECM Research Journal',\n",
       "       'eLife Sciences Publications, Ltd',\n",
       "       'American Chemical Society (ACS)',\n",
       "       'Springer Science and Business Media LLC',\n",
       "       'Royal Society of Chemistry (RSC)',\n",
       "       'Association for Research in Vision and Ophthalmology (ARVO)',\n",
       "       'SAGE Publication', 'Society for Neuroscience', 'Cogitatio',\n",
       "       'Dove Medical Press Ltd.', 'Life Science Alliance, LLC',\n",
       "       'Landscape Online', 'American Medical Association (AMA)',\n",
       "       'International Union of Crystallography (IUCr)',\n",
       "       'Geological Society of America', 'MIT Press - Journals',\n",
       "       'American Society for Clinical Investigation',\n",
       "       'Osterreichische Akademie der Wissenschaften',\n",
       "       'International Mountain Society (IMS) and United Nations University',\n",
       "       'JMIR Publications Inc.', 'Acta Dermato-Venereologica',\n",
       "       'PAGEPress Publications', 'Resilience Alliance, Inc.'],\n",
       "      dtype=object)"
      ]
     },
     "execution_count": 101,
     "metadata": {},
     "output_type": "execute_result"
    }
   ],
   "source": [
    "df[\"publisher\"].unique()"
   ]
  },
  {
   "cell_type": "markdown",
   "metadata": {},
   "source": [
    "Compter les éléments dans une colonne"
   ]
  },
  {
   "cell_type": "code",
   "execution_count": 111,
   "metadata": {},
   "outputs": [
    {
     "data": {
      "text/plain": [
       "e-Century Publishing Corporation                                        1\n",
       "American Society for Clinical Investigation                             1\n",
       "OMICS Publishing Group                                                  1\n",
       "International Mountain Society (IMS) and United Nations University      1\n",
       "ECM Research Journal                                                    1\n",
       "                                                                     ... \n",
       "MDPI AG                                                                42\n",
       "Elsevier BV                                                            64\n",
       "Public Library of Science (PLoS)                                       79\n",
       "Frontiers Media SA                                                     84\n",
       "Springer Nature                                                       155\n",
       "Name: publisher, Length: 62, dtype: int64"
      ]
     },
     "execution_count": 111,
     "metadata": {},
     "output_type": "execute_result"
    }
   ],
   "source": [
    "df[\"publisher\"].value_counts(ascending=True)"
   ]
  },
  {
   "cell_type": "markdown",
   "metadata": {},
   "source": [
    "Mettre en pourcentage"
   ]
  },
  {
   "cell_type": "code",
   "execution_count": 116,
   "metadata": {},
   "outputs": [],
   "source": [
    "round(df[\"publisher\"].value_counts()*100/len(df),2).to_excel(\"distribution_publisher.xls\")"
   ]
  },
  {
   "cell_type": "markdown",
   "metadata": {},
   "source": [
    "Analyse de valeurs numériques"
   ]
  },
  {
   "cell_type": "code",
   "execution_count": 119,
   "metadata": {},
   "outputs": [
    {
     "data": {
      "text/plain": [
       "2119.018165289256"
      ]
     },
     "execution_count": 119,
     "metadata": {},
     "output_type": "execute_result"
    }
   ],
   "source": [
    "df[\"invoice_original_amount\"].mean() # moyenne"
   ]
  },
  {
   "cell_type": "code",
   "execution_count": 120,
   "metadata": {},
   "outputs": [
    {
     "data": {
      "text/plain": [
       "1723.2"
      ]
     },
     "execution_count": 120,
     "metadata": {},
     "output_type": "execute_result"
    }
   ],
   "source": [
    "df[\"invoice_original_amount\"].median() # médiane"
   ]
  },
  {
   "cell_type": "code",
   "execution_count": 121,
   "metadata": {},
   "outputs": [
    {
     "data": {
      "text/plain": [
       "1282005.99"
      ]
     },
     "execution_count": 121,
     "metadata": {},
     "output_type": "execute_result"
    }
   ],
   "source": [
    "df[\"invoice_original_amount\"].sum() #somme"
   ]
  },
  {
   "cell_type": "markdown",
   "metadata": {},
   "source": [
    "Méthodes pandas sont souvent définies sur les Series et sur les DataFrame\n",
    "\n",
    "Sélectionner plusieurs colonnes"
   ]
  },
  {
   "cell_type": "code",
   "execution_count": 123,
   "metadata": {},
   "outputs": [
    {
     "data": {
      "text/plain": [
       "invoice_original_amount    2119.018165\n",
       "euro                       2004.709304\n",
       "dtype: float64"
      ]
     },
     "execution_count": 123,
     "metadata": {},
     "output_type": "execute_result"
    }
   ],
   "source": [
    "df[[\"invoice_original_amount\",\"euro\"]].mean()"
   ]
  },
  {
   "cell_type": "markdown",
   "metadata": {},
   "source": [
    "Combiner sélection et calculs : quel montant a été dépensé en 2015 ?"
   ]
  },
  {
   "cell_type": "code",
   "execution_count": 131,
   "metadata": {},
   "outputs": [
    {
     "data": {
      "text/plain": [
       "175968.53000000003"
      ]
     },
     "execution_count": 131,
     "metadata": {},
     "output_type": "execute_result"
    }
   ],
   "source": [
    "condition = (df[\"period\"]==2015) # Créer une condition de filtrage\n",
    "df_2015 = df[condition] # Appliquer la condition de filtrage au tableau pour sélectionner les lignes concernées\n",
    "colonne_2015_euro = df_2015[\"euro\"] # Ne garder qu'une colonne de ce sous tableau\n",
    "colonne_2015_euro.sum() # Faire la somme des valeurs"
   ]
  },
  {
   "cell_type": "markdown",
   "metadata": {},
   "source": [
    "En une ligne : "
   ]
  },
  {
   "cell_type": "code",
   "execution_count": 132,
   "metadata": {},
   "outputs": [
    {
     "data": {
      "text/plain": [
       "175968.53000000003"
      ]
     },
     "execution_count": 132,
     "metadata": {},
     "output_type": "execute_result"
    }
   ],
   "source": [
    "df[df[\"period\"]==2015][\"euro\"].sum()"
   ]
  }
 ],
 "metadata": {
  "kernelspec": {
   "display_name": "Python 3",
   "language": "python",
   "name": "python3"
  },
  "language_info": {
   "codemirror_mode": {
    "name": "ipython",
    "version": 3
   },
   "file_extension": ".py",
   "mimetype": "text/x-python",
   "name": "python",
   "nbconvert_exporter": "python",
   "pygments_lexer": "ipython3",
   "version": "3.7.7"
  }
 },
 "nbformat": 4,
 "nbformat_minor": 4
}
