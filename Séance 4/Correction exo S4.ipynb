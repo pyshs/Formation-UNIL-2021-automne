{
 "cells": [
  {
   "cell_type": "markdown",
   "metadata": {},
   "source": [
    "## Exercices\n",
    "\n",
    "1. Combien de journaux différents sont mentionnés dans la base de données https://raw.githubusercontent.com/OpenAPC/openapc-de/master/data/snsf/snsf_openapc.csv\n",
    "2. Quels sont les 10 journaux les plus présents ?\n",
    "3. Quel est le montant total payé par le FNS pour le journal le plus mentionné ?\n",
    "4. La même question, mais pour les 10 journaux les plus fréquents ?\n",
    "5. Quelle est la moyenne des dépenses pour l'éditeur le plus présent dans ce dataset ?\n",
    "6. Combien d'articles publiés en open access ont été financés par le FNS en 2017 ?\n",
    "7. Quels sont les articles pour lesquels la publication a coûté plus de 4000 euros ? Pour quels journaux ?\n",
    "8. Créer un dataframe data_modif comprennant les données de l'année 2017 présentant une dépense d'une valeur supérieure à 2000 euros"
   ]
  },
  {
   "cell_type": "code",
   "execution_count": 1,
   "metadata": {},
   "outputs": [],
   "source": [
    "# setup\n",
    "# manipulation :\n",
    "import numpy as np\n",
    "import pandas as pd"
   ]
  },
  {
   "cell_type": "markdown",
   "metadata": {},
   "source": [
    "### 1. Combien de journaux différents sont mentionnés dans la base de données https://raw.githubusercontent.com/OpenAPC/openapc-de/master/data/snsf/snsf_openapc.csv\n"
   ]
  },
  {
   "cell_type": "code",
   "execution_count": 2,
   "metadata": {},
   "outputs": [],
   "source": [
    "# je charge les données dans un dataframe avec pd.read_csv\n",
    "df = pd.read_csv(\"https://raw.githubusercontent.com/OpenAPC/openapc-de/master/data/snsf/snsf_openapc.csv\")"
   ]
  },
  {
   "cell_type": "code",
   "execution_count": 3,
   "metadata": {},
   "outputs": [],
   "source": [
    "# je sélectionne la colone journal_full_title\n",
    "journaux_unique = df[\"journal_full_title\"].unique()"
   ]
  },
  {
   "cell_type": "code",
   "execution_count": 4,
   "metadata": {},
   "outputs": [
    {
     "data": {
      "text/plain": [
       "273"
      ]
     },
     "execution_count": 4,
     "metadata": {},
     "output_type": "execute_result"
    }
   ],
   "source": [
    "# j'utilise \n",
    "len(journaux_unique)"
   ]
  },
  {
   "cell_type": "code",
   "execution_count": 5,
   "metadata": {
    "scrolled": true
   },
   "outputs": [
    {
     "name": "stdout",
     "output_type": "stream",
     "text": [
      "Il y a 273 journaux différents dans la base.\n"
     ]
    }
   ],
   "source": [
    "# la même chose en condensé :\n",
    "nb_journaux = len(df[\"journal_full_title\"].unique())\n",
    "print(\"Il y a {} journaux différents dans la base.\".format(nb_journaux))"
   ]
  },
  {
   "cell_type": "code",
   "execution_count": 6,
   "metadata": {},
   "outputs": [
    {
     "name": "stdout",
     "output_type": "stream",
     "text": [
      "Il y a 273 journaux différents dans la base.\n"
     ]
    }
   ],
   "source": [
    "# même sortie print mais en utilisant f-string : https://realpython.com/python-f-strings/\n",
    "print(f\"Il y a {nb_journaux} journaux différents dans la base.\")"
   ]
  },
  {
   "cell_type": "code",
   "execution_count": 7,
   "metadata": {},
   "outputs": [
    {
     "data": {
      "text/plain": [
       "Nature Communications             72\n",
       "Scientific Reports                62\n",
       "PLOS ONE                          46\n",
       "Cell Reports                      24\n",
       "Frontiers in Psychology           19\n",
       "                                  ..\n",
       "Respiratory Research               1\n",
       "Acta Veterinaria Scandinavica      1\n",
       "Journal of Applied Volcanology     1\n",
       "Genetics                           1\n",
       "Ecology and Society                1\n",
       "Name: journal_full_title, Length: 273, dtype: int64"
      ]
     },
     "execution_count": 7,
     "metadata": {},
     "output_type": "execute_result"
    }
   ],
   "source": [
    "# je pouvais aussi regarder dans value_counts\n",
    "df[\"journal_full_title\"].value_counts()"
   ]
  },
  {
   "cell_type": "code",
   "execution_count": 8,
   "metadata": {},
   "outputs": [
    {
     "data": {
      "text/plain": [
       "269"
      ]
     },
     "execution_count": 8,
     "metadata": {},
     "output_type": "execute_result"
    }
   ],
   "source": [
    "# en réalité pas vraiment 273…\n",
    "\n",
    "journaux_lower_unique = df[\"journal_full_title\"].str.lower().unique()\n",
    "len(journaux_lower_unique)"
   ]
  },
  {
   "cell_type": "markdown",
   "metadata": {},
   "source": [
    "### 2. Quels sont les 10 journaux les plus présents ?\n"
   ]
  },
  {
   "cell_type": "code",
   "execution_count": 9,
   "metadata": {},
   "outputs": [
    {
     "data": {
      "text/plain": [
       "Nature Communications             72\n",
       "Scientific Reports                62\n",
       "PLOS ONE                          46\n",
       "Cell Reports                      24\n",
       "Frontiers in Psychology           19\n",
       "                                  ..\n",
       "Respiratory Research               1\n",
       "Acta Veterinaria Scandinavica      1\n",
       "Journal of Applied Volcanology     1\n",
       "Genetics                           1\n",
       "Ecology and Society                1\n",
       "Name: journal_full_title, Length: 273, dtype: int64"
      ]
     },
     "execution_count": 9,
     "metadata": {},
     "output_type": "execute_result"
    }
   ],
   "source": [
    "df[\"journal_full_title\"].value_counts()"
   ]
  },
  {
   "cell_type": "code",
   "execution_count": 10,
   "metadata": {},
   "outputs": [
    {
     "data": {
      "text/plain": [
       "Nature Communications        72\n",
       "Scientific Reports           62\n",
       "PLOS ONE                     46\n",
       "Cell Reports                 24\n",
       "Frontiers in Psychology      19\n",
       "Nucleic Acids Research       14\n",
       "Science Advances             13\n",
       "Frontiers in Microbiology    13\n",
       "Optics Express               13\n",
       "PLoS ONE                     11\n",
       "Name: journal_full_title, dtype: int64"
      ]
     },
     "execution_count": 10,
     "metadata": {},
     "output_type": "execute_result"
    }
   ],
   "source": [
    "df[\"journal_full_title\"].value_counts()[0:10]\n",
    "# on a d'ailleurs un petit souci avec des doublons de côté de plos one"
   ]
  },
  {
   "cell_type": "code",
   "execution_count": 11,
   "metadata": {},
   "outputs": [],
   "source": [
    "def recodage_plos(entree):\n",
    "    if entree == \"PLoS ONE\":\n",
    "        return \"PLOS ONE\"\n",
    "    else:\n",
    "        return entree\n",
    "    \n",
    "df[\"journal_recod\"] = df[\"journal_full_title\"].apply(recodage_plos)"
   ]
  },
  {
   "cell_type": "code",
   "execution_count": 12,
   "metadata": {},
   "outputs": [
    {
     "data": {
      "text/plain": [
       "Nature Communications        72\n",
       "Scientific Reports           62\n",
       "PLOS ONE                     57\n",
       "Cell Reports                 24\n",
       "Frontiers in Psychology      19\n",
       "Nucleic Acids Research       14\n",
       "Optics Express               13\n",
       "Science Advances             13\n",
       "Frontiers in Microbiology    13\n",
       "Physical Review X             9\n",
       "Name: journal_recod, dtype: int64"
      ]
     },
     "execution_count": 12,
     "metadata": {},
     "output_type": "execute_result"
    }
   ],
   "source": [
    "top10_journaux = df[\"journal_recod\"].value_counts()[0:10]\n",
    "top10_journaux"
   ]
  },
  {
   "cell_type": "code",
   "execution_count": 13,
   "metadata": {},
   "outputs": [],
   "source": [
    "# si on veut récupérer une liste :\n",
    "# top10_journaux.keys().to_list()"
   ]
  },
  {
   "cell_type": "code",
   "execution_count": 14,
   "metadata": {},
   "outputs": [
    {
     "data": {
      "text/plain": [
       "nature communications        72\n",
       "scientific reports           62\n",
       "plos one                     57\n",
       "cell reports                 24\n",
       "frontiers in psychology      19\n",
       "nucleic acids research       14\n",
       "optics express               13\n",
       "science advances             13\n",
       "frontiers in microbiology    13\n",
       "new journal of physics        9\n",
       "Name: journal_full_title, dtype: int64"
      ]
     },
     "execution_count": 14,
     "metadata": {},
     "output_type": "execute_result"
    }
   ],
   "source": [
    "df[\"journal_full_title\"].str.lower().value_counts()[0:10]"
   ]
  },
  {
   "cell_type": "markdown",
   "metadata": {},
   "source": [
    "### 3. Quel est le montant total payé par le FNS pour le journal le plus mentionné ?"
   ]
  },
  {
   "cell_type": "code",
   "execution_count": 15,
   "metadata": {},
   "outputs": [
    {
     "data": {
      "text/plain": [
       "304545.91000000003"
      ]
     },
     "execution_count": 15,
     "metadata": {},
     "output_type": "execute_result"
    }
   ],
   "source": [
    "# On a vu précédemment que Nature Communications est le journal le plus mentionné.\n",
    "# je crée donc un df qui ne garde que ce journal :\n",
    "df_nature = df[df[\"journal_recod\"]==\"Nature Communications\"]\n",
    "\n",
    "# Puis je fais la somme de la colonne euros\n",
    "df_nature[\"euro\"].sum()"
   ]
  },
  {
   "cell_type": "markdown",
   "metadata": {},
   "source": [
    "### 4. La même question, mais pour les 10 journaux les plus fréquents ?"
   ]
  },
  {
   "cell_type": "code",
   "execution_count": 16,
   "metadata": {},
   "outputs": [
    {
     "data": {
      "text/plain": [
       "Nature Communications        72\n",
       "Scientific Reports           62\n",
       "PLOS ONE                     57\n",
       "Cell Reports                 24\n",
       "Frontiers in Psychology      19\n",
       "Nucleic Acids Research       14\n",
       "Optics Express               13\n",
       "Science Advances             13\n",
       "Frontiers in Microbiology    13\n",
       "Physical Review X             9\n",
       "Name: journal_recod, dtype: int64"
      ]
     },
     "execution_count": 16,
     "metadata": {},
     "output_type": "execute_result"
    }
   ],
   "source": [
    "# on les a vus à la question 2\n",
    "top10_journaux"
   ]
  },
  {
   "cell_type": "code",
   "execution_count": 17,
   "metadata": {},
   "outputs": [
    {
     "data": {
      "text/plain": [
       "Index(['Nature Communications', 'Scientific Reports', 'PLOS ONE',\n",
       "       'Cell Reports', 'Frontiers in Psychology', 'Nucleic Acids Research',\n",
       "       'Optics Express', 'Science Advances', 'Frontiers in Microbiology',\n",
       "       'Physical Review X'],\n",
       "      dtype='object')"
      ]
     },
     "execution_count": 17,
     "metadata": {},
     "output_type": "execute_result"
    }
   ],
   "source": [
    "id_top10 = top10_journaux.keys() #ou .index\n",
    "id_top10"
   ]
  },
  {
   "cell_type": "code",
   "execution_count": 18,
   "metadata": {},
   "outputs": [
    {
     "data": {
      "text/plain": [
       "['Nature Communications',\n",
       " 'Scientific Reports',\n",
       " 'PLOS ONE',\n",
       " 'Cell Reports',\n",
       " 'Frontiers in Psychology',\n",
       " 'Nucleic Acids Research',\n",
       " 'Optics Express',\n",
       " 'Science Advances',\n",
       " 'Frontiers in Microbiology',\n",
       " 'Physical Review X']"
      ]
     },
     "execution_count": 18,
     "metadata": {},
     "output_type": "execute_result"
    }
   ],
   "source": [
    "liste_top10 = id_top10.to_list()\n",
    "liste_top10"
   ]
  },
  {
   "cell_type": "code",
   "execution_count": 19,
   "metadata": {},
   "outputs": [],
   "source": [
    "df_top10 = df[df[\"journal_recod\"].isin(liste_top10)]"
   ]
  },
  {
   "cell_type": "code",
   "execution_count": 20,
   "metadata": {},
   "outputs": [
    {
     "data": {
      "text/html": [
       "<div>\n",
       "<style scoped>\n",
       "    .dataframe tbody tr th:only-of-type {\n",
       "        vertical-align: middle;\n",
       "    }\n",
       "\n",
       "    .dataframe tbody tr th {\n",
       "        vertical-align: top;\n",
       "    }\n",
       "\n",
       "    .dataframe thead th {\n",
       "        text-align: right;\n",
       "    }\n",
       "</style>\n",
       "<table border=\"1\" class=\"dataframe\">\n",
       "  <thead>\n",
       "    <tr style=\"text-align: right;\">\n",
       "      <th></th>\n",
       "      <th>institution</th>\n",
       "      <th>period</th>\n",
       "      <th>euro</th>\n",
       "      <th>doi</th>\n",
       "      <th>journal_full_title</th>\n",
       "      <th>publisher</th>\n",
       "      <th>is_hybrid</th>\n",
       "      <th>issn</th>\n",
       "      <th>url</th>\n",
       "      <th>chf</th>\n",
       "      <th>conversion_rate</th>\n",
       "      <th>invoice_original_amount</th>\n",
       "      <th>invoice_original_currency</th>\n",
       "      <th>snsf_voucher_number</th>\n",
       "      <th>grant_snsf</th>\n",
       "      <th>grant_snsf_related</th>\n",
       "      <th>journal_recod</th>\n",
       "    </tr>\n",
       "  </thead>\n",
       "  <tbody>\n",
       "    <tr>\n",
       "      <th>0</th>\n",
       "      <td>Swiss National Science Foundation (SNSF)</td>\n",
       "      <td>2011</td>\n",
       "      <td>896.45</td>\n",
       "      <td>10.1371/journal.pone.0024555</td>\n",
       "      <td>PLoS ONE</td>\n",
       "      <td>Public Library of Science (PLoS)</td>\n",
       "      <td>False</td>\n",
       "      <td>NaN</td>\n",
       "      <td>NaN</td>\n",
       "      <td>1105.82</td>\n",
       "      <td>1.23355</td>\n",
       "      <td>1215.00</td>\n",
       "      <td>USD</td>\n",
       "      <td>NaN</td>\n",
       "      <td>3100A0B-128675</td>\n",
       "      <td>128675</td>\n",
       "      <td>PLOS ONE</td>\n",
       "    </tr>\n",
       "    <tr>\n",
       "      <th>3</th>\n",
       "      <td>Swiss National Science Foundation (SNSF)</td>\n",
       "      <td>2012</td>\n",
       "      <td>972.18</td>\n",
       "      <td>10.3389/fmicb.2012.00106</td>\n",
       "      <td>Frontiers in Microbiology</td>\n",
       "      <td>Frontiers Media SA</td>\n",
       "      <td>False</td>\n",
       "      <td>NaN</td>\n",
       "      <td>NaN</td>\n",
       "      <td>1171.78</td>\n",
       "      <td>1.20531</td>\n",
       "      <td>972.00</td>\n",
       "      <td>EUR</td>\n",
       "      <td>NaN</td>\n",
       "      <td>PDFMP2-123048</td>\n",
       "      <td>123048</td>\n",
       "      <td>Frontiers in Microbiology</td>\n",
       "    </tr>\n",
       "    <tr>\n",
       "      <th>14</th>\n",
       "      <td>Swiss National Science Foundation (SNSF)</td>\n",
       "      <td>2013</td>\n",
       "      <td>918.56</td>\n",
       "      <td>10.1371/journal.pone.0069473</td>\n",
       "      <td>PLoS ONE</td>\n",
       "      <td>Public Library of Science (PLoS)</td>\n",
       "      <td>False</td>\n",
       "      <td>NaN</td>\n",
       "      <td>NaN</td>\n",
       "      <td>1130.56</td>\n",
       "      <td>1.23080</td>\n",
       "      <td>1215.00</td>\n",
       "      <td>USD</td>\n",
       "      <td>NaN</td>\n",
       "      <td>31003A_141225</td>\n",
       "      <td>141225</td>\n",
       "      <td>PLOS ONE</td>\n",
       "    </tr>\n",
       "    <tr>\n",
       "      <th>15</th>\n",
       "      <td>Swiss National Science Foundation (SNSF)</td>\n",
       "      <td>2013</td>\n",
       "      <td>1013.28</td>\n",
       "      <td>10.1371/journal.pone.0072876</td>\n",
       "      <td>PLoS ONE</td>\n",
       "      <td>Public Library of Science (PLoS)</td>\n",
       "      <td>False</td>\n",
       "      <td>NaN</td>\n",
       "      <td>NaN</td>\n",
       "      <td>1247.14</td>\n",
       "      <td>1.23080</td>\n",
       "      <td>1350.00</td>\n",
       "      <td>USD</td>\n",
       "      <td>NaN</td>\n",
       "      <td>PP00P3_123346</td>\n",
       "      <td>123346</td>\n",
       "      <td>PLOS ONE</td>\n",
       "    </tr>\n",
       "    <tr>\n",
       "      <th>16</th>\n",
       "      <td>Swiss National Science Foundation (SNSF)</td>\n",
       "      <td>2013</td>\n",
       "      <td>927.44</td>\n",
       "      <td>10.1371/journal.pone.0074249</td>\n",
       "      <td>PLoS ONE</td>\n",
       "      <td>Public Library of Science (PLoS)</td>\n",
       "      <td>False</td>\n",
       "      <td>NaN</td>\n",
       "      <td>NaN</td>\n",
       "      <td>1141.49</td>\n",
       "      <td>1.23080</td>\n",
       "      <td>1215.00</td>\n",
       "      <td>USD</td>\n",
       "      <td>NaN</td>\n",
       "      <td>310030_141067</td>\n",
       "      <td>141067</td>\n",
       "      <td>PLOS ONE</td>\n",
       "    </tr>\n",
       "    <tr>\n",
       "      <th>...</th>\n",
       "      <td>...</td>\n",
       "      <td>...</td>\n",
       "      <td>...</td>\n",
       "      <td>...</td>\n",
       "      <td>...</td>\n",
       "      <td>...</td>\n",
       "      <td>...</td>\n",
       "      <td>...</td>\n",
       "      <td>...</td>\n",
       "      <td>...</td>\n",
       "      <td>...</td>\n",
       "      <td>...</td>\n",
       "      <td>...</td>\n",
       "      <td>...</td>\n",
       "      <td>...</td>\n",
       "      <td>...</td>\n",
       "      <td>...</td>\n",
       "    </tr>\n",
       "    <tr>\n",
       "      <th>678</th>\n",
       "      <td>Swiss National Science Foundation (SNSF)</td>\n",
       "      <td>2019</td>\n",
       "      <td>2526.99</td>\n",
       "      <td>10.3389/fpsyg.2019.00020</td>\n",
       "      <td>Frontiers in Psychology</td>\n",
       "      <td>Frontiers Media SA</td>\n",
       "      <td>False</td>\n",
       "      <td>NaN</td>\n",
       "      <td>NaN</td>\n",
       "      <td>2854.01</td>\n",
       "      <td>1.12941</td>\n",
       "      <td>285.44</td>\n",
       "      <td>USD</td>\n",
       "      <td>9000129.0</td>\n",
       "      <td>10AC-4_186515</td>\n",
       "      <td>162388</td>\n",
       "      <td>Frontiers in Psychology</td>\n",
       "    </tr>\n",
       "    <tr>\n",
       "      <th>679</th>\n",
       "      <td>Swiss National Science Foundation (SNSF)</td>\n",
       "      <td>2019</td>\n",
       "      <td>2014.45</td>\n",
       "      <td>10.3389/fpsyg.2019.00180</td>\n",
       "      <td>Frontiers in Psychology</td>\n",
       "      <td>Frontiers Media SA</td>\n",
       "      <td>False</td>\n",
       "      <td>NaN</td>\n",
       "      <td>NaN</td>\n",
       "      <td>2275.14</td>\n",
       "      <td>1.12941</td>\n",
       "      <td>2279.47</td>\n",
       "      <td>EUR</td>\n",
       "      <td>9000242.0</td>\n",
       "      <td>51AC-0_186581</td>\n",
       "      <td>125770</td>\n",
       "      <td>Frontiers in Psychology</td>\n",
       "    </tr>\n",
       "    <tr>\n",
       "      <th>680</th>\n",
       "      <td>Swiss National Science Foundation (SNSF)</td>\n",
       "      <td>2019</td>\n",
       "      <td>2889.06</td>\n",
       "      <td>10.3389/fpsyg.2019.01225</td>\n",
       "      <td>Frontiers in Psychology</td>\n",
       "      <td>Frontiers Media SA</td>\n",
       "      <td>False</td>\n",
       "      <td>NaN</td>\n",
       "      <td>NaN</td>\n",
       "      <td>3262.93</td>\n",
       "      <td>1.12941</td>\n",
       "      <td>3177.15</td>\n",
       "      <td>USD</td>\n",
       "      <td>9001745.0</td>\n",
       "      <td>10AC-4_189582</td>\n",
       "      <td>143573</td>\n",
       "      <td>Frontiers in Psychology</td>\n",
       "    </tr>\n",
       "    <tr>\n",
       "      <th>681</th>\n",
       "      <td>Swiss National Science Foundation (SNSF)</td>\n",
       "      <td>2019</td>\n",
       "      <td>815.08</td>\n",
       "      <td>10.3389/fpsyg.2019.01338</td>\n",
       "      <td>Frontiers in Psychology</td>\n",
       "      <td>Frontiers Media SA</td>\n",
       "      <td>False</td>\n",
       "      <td>NaN</td>\n",
       "      <td>NaN</td>\n",
       "      <td>920.56</td>\n",
       "      <td>1.12941</td>\n",
       "      <td>916.53</td>\n",
       "      <td>USD</td>\n",
       "      <td>9001951.0</td>\n",
       "      <td>CRAC-2_189718</td>\n",
       "      <td>160837</td>\n",
       "      <td>Frontiers in Psychology</td>\n",
       "    </tr>\n",
       "    <tr>\n",
       "      <th>682</th>\n",
       "      <td>Swiss National Science Foundation (SNSF)</td>\n",
       "      <td>2019</td>\n",
       "      <td>1949.58</td>\n",
       "      <td>10.3389/fpsyg.2019.01481</td>\n",
       "      <td>Frontiers in Psychology</td>\n",
       "      <td>Frontiers Media SA</td>\n",
       "      <td>False</td>\n",
       "      <td>NaN</td>\n",
       "      <td>NaN</td>\n",
       "      <td>2201.88</td>\n",
       "      <td>1.12941</td>\n",
       "      <td>2192.23</td>\n",
       "      <td>USD</td>\n",
       "      <td>9002203.0</td>\n",
       "      <td>51AC-0_189984</td>\n",
       "      <td>185901</td>\n",
       "      <td>Frontiers in Psychology</td>\n",
       "    </tr>\n",
       "  </tbody>\n",
       "</table>\n",
       "<p>296 rows × 17 columns</p>\n",
       "</div>"
      ],
      "text/plain": [
       "                                  institution  period     euro  \\\n",
       "0    Swiss National Science Foundation (SNSF)    2011   896.45   \n",
       "3    Swiss National Science Foundation (SNSF)    2012   972.18   \n",
       "14   Swiss National Science Foundation (SNSF)    2013   918.56   \n",
       "15   Swiss National Science Foundation (SNSF)    2013  1013.28   \n",
       "16   Swiss National Science Foundation (SNSF)    2013   927.44   \n",
       "..                                        ...     ...      ...   \n",
       "678  Swiss National Science Foundation (SNSF)    2019  2526.99   \n",
       "679  Swiss National Science Foundation (SNSF)    2019  2014.45   \n",
       "680  Swiss National Science Foundation (SNSF)    2019  2889.06   \n",
       "681  Swiss National Science Foundation (SNSF)    2019   815.08   \n",
       "682  Swiss National Science Foundation (SNSF)    2019  1949.58   \n",
       "\n",
       "                              doi         journal_full_title  \\\n",
       "0    10.1371/journal.pone.0024555                   PLoS ONE   \n",
       "3        10.3389/fmicb.2012.00106  Frontiers in Microbiology   \n",
       "14   10.1371/journal.pone.0069473                   PLoS ONE   \n",
       "15   10.1371/journal.pone.0072876                   PLoS ONE   \n",
       "16   10.1371/journal.pone.0074249                   PLoS ONE   \n",
       "..                            ...                        ...   \n",
       "678      10.3389/fpsyg.2019.00020    Frontiers in Psychology   \n",
       "679      10.3389/fpsyg.2019.00180    Frontiers in Psychology   \n",
       "680      10.3389/fpsyg.2019.01225    Frontiers in Psychology   \n",
       "681      10.3389/fpsyg.2019.01338    Frontiers in Psychology   \n",
       "682      10.3389/fpsyg.2019.01481    Frontiers in Psychology   \n",
       "\n",
       "                            publisher  is_hybrid issn  url      chf  \\\n",
       "0    Public Library of Science (PLoS)      False  NaN  NaN  1105.82   \n",
       "3                  Frontiers Media SA      False  NaN  NaN  1171.78   \n",
       "14   Public Library of Science (PLoS)      False  NaN  NaN  1130.56   \n",
       "15   Public Library of Science (PLoS)      False  NaN  NaN  1247.14   \n",
       "16   Public Library of Science (PLoS)      False  NaN  NaN  1141.49   \n",
       "..                                ...        ...  ...  ...      ...   \n",
       "678                Frontiers Media SA      False  NaN  NaN  2854.01   \n",
       "679                Frontiers Media SA      False  NaN  NaN  2275.14   \n",
       "680                Frontiers Media SA      False  NaN  NaN  3262.93   \n",
       "681                Frontiers Media SA      False  NaN  NaN   920.56   \n",
       "682                Frontiers Media SA      False  NaN  NaN  2201.88   \n",
       "\n",
       "     conversion_rate  invoice_original_amount invoice_original_currency  \\\n",
       "0            1.23355                  1215.00                       USD   \n",
       "3            1.20531                   972.00                       EUR   \n",
       "14           1.23080                  1215.00                       USD   \n",
       "15           1.23080                  1350.00                       USD   \n",
       "16           1.23080                  1215.00                       USD   \n",
       "..               ...                      ...                       ...   \n",
       "678          1.12941                   285.44                       USD   \n",
       "679          1.12941                  2279.47                       EUR   \n",
       "680          1.12941                  3177.15                       USD   \n",
       "681          1.12941                   916.53                       USD   \n",
       "682          1.12941                  2192.23                       USD   \n",
       "\n",
       "     snsf_voucher_number      grant_snsf grant_snsf_related  \\\n",
       "0                    NaN  3100A0B-128675             128675   \n",
       "3                    NaN   PDFMP2-123048             123048   \n",
       "14                   NaN   31003A_141225             141225   \n",
       "15                   NaN   PP00P3_123346             123346   \n",
       "16                   NaN   310030_141067             141067   \n",
       "..                   ...             ...                ...   \n",
       "678            9000129.0   10AC-4_186515             162388   \n",
       "679            9000242.0   51AC-0_186581             125770   \n",
       "680            9001745.0   10AC-4_189582             143573   \n",
       "681            9001951.0   CRAC-2_189718             160837   \n",
       "682            9002203.0   51AC-0_189984             185901   \n",
       "\n",
       "                 journal_recod  \n",
       "0                     PLOS ONE  \n",
       "3    Frontiers in Microbiology  \n",
       "14                    PLOS ONE  \n",
       "15                    PLOS ONE  \n",
       "16                    PLOS ONE  \n",
       "..                         ...  \n",
       "678    Frontiers in Psychology  \n",
       "679    Frontiers in Psychology  \n",
       "680    Frontiers in Psychology  \n",
       "681    Frontiers in Psychology  \n",
       "682    Frontiers in Psychology  \n",
       "\n",
       "[296 rows x 17 columns]"
      ]
     },
     "execution_count": 20,
     "metadata": {},
     "output_type": "execute_result"
    }
   ],
   "source": [
    "df[df[\"journal_recod\"].isin(liste_top10)]"
   ]
  },
  {
   "cell_type": "code",
   "execution_count": 21,
   "metadata": {},
   "outputs": [
    {
     "data": {
      "text/plain": [
       "730993.5900000001"
      ]
     },
     "execution_count": 21,
     "metadata": {},
     "output_type": "execute_result"
    }
   ],
   "source": [
    "df_top10[\"euro\"].sum()"
   ]
  },
  {
   "cell_type": "code",
   "execution_count": 22,
   "metadata": {},
   "outputs": [
    {
     "data": {
      "text/plain": [
       "712592.55"
      ]
     },
     "execution_count": 22,
     "metadata": {},
     "output_type": "execute_result"
    }
   ],
   "source": [
    "# si on n'avait pas recodé : 712592.55 €\n",
    "ancientop10 = df[\"journal_full_title\"].value_counts()[0:10].keys().to_list() # ou index.to_list()\n",
    "dftop10_sansreco = df[df[\"journal_full_title\"].isin(ancientop10)]\n",
    "dftop10_sansreco[\"euro\"].sum()"
   ]
  },
  {
   "cell_type": "markdown",
   "metadata": {},
   "source": [
    "### 5. Quelle est la moyenne des dépenses pour l'éditeur le plus présent dans ce dataset ?"
   ]
  },
  {
   "cell_type": "code",
   "execution_count": 23,
   "metadata": {},
   "outputs": [
    {
     "data": {
      "text/plain": [
       "'Springer Nature'"
      ]
     },
     "execution_count": 23,
     "metadata": {},
     "output_type": "execute_result"
    }
   ],
   "source": [
    "# je dois donc trouver l'éditeur le plus présent\n",
    "# Comme précédement, j'utilise value_counts, mais cette fois sur le publisher\n",
    "# Et si je ne veux pas tout afficher je peux directement identifier le plus présent avec idxmax()\n",
    "df[\"publisher\"].value_counts().idxmax()"
   ]
  },
  {
   "cell_type": "code",
   "execution_count": 24,
   "metadata": {},
   "outputs": [
    {
     "data": {
      "text/plain": [
       "Springer Nature                                155\n",
       "Frontiers Media SA                              84\n",
       "Public Library of Science (PLoS)                79\n",
       "Elsevier BV                                     64\n",
       "MDPI AG                                         42\n",
       "                                              ... \n",
       "Ovid Technologies (Wolters Kluwer Health)        1\n",
       "American Society of Plant Biologists (ASPB)      1\n",
       "Rockefeller University Press                     1\n",
       "EDP Sciences                                     1\n",
       "Resilience Alliance, Inc.                        1\n",
       "Name: publisher, Length: 62, dtype: int64"
      ]
     },
     "execution_count": 24,
     "metadata": {},
     "output_type": "execute_result"
    }
   ],
   "source": [
    "df[\"publisher\"].value_counts()"
   ]
  },
  {
   "cell_type": "code",
   "execution_count": 25,
   "metadata": {},
   "outputs": [
    {
     "data": {
      "text/plain": [
       "2419.8024516129026"
      ]
     },
     "execution_count": 25,
     "metadata": {},
     "output_type": "execute_result"
    }
   ],
   "source": [
    "# je filtre uniquement l'éditeur en question : Springer Nature\n",
    "springer_nature = df[df[\"publisher\"]==\"Springer Nature\"]\n",
    "\n",
    "# Et je calcule la moyenne des dépenses (en euros)\n",
    "springer_nature[\"euro\"].mean()"
   ]
  },
  {
   "cell_type": "code",
   "execution_count": 26,
   "metadata": {},
   "outputs": [
    {
     "data": {
      "text/plain": [
       "2419.8024516129026"
      ]
     },
     "execution_count": 26,
     "metadata": {},
     "output_type": "execute_result"
    }
   ],
   "source": [
    "# tout en une ligne :\n",
    "df[df[\"publisher\"]==df[\"publisher\"].value_counts().idxmax()][\"euro\"].mean()"
   ]
  },
  {
   "cell_type": "markdown",
   "metadata": {},
   "source": [
    "### 6. Combien d'articles publiés en open access ont été financés par le FNS en 2017 ?"
   ]
  },
  {
   "cell_type": "code",
   "execution_count": 27,
   "metadata": {},
   "outputs": [
    {
     "data": {
      "text/plain": [
       "71"
      ]
     },
     "execution_count": 27,
     "metadata": {},
     "output_type": "execute_result"
    }
   ],
   "source": [
    "# Plusieurs possibilités pour une même résultat : \n",
    "    \n",
    "# Option 1\n",
    "# je filtre les résultats de 2017\n",
    "df_2017 = df[df[\"period\"]==2017]\n",
    "# et j'utilise len\n",
    "len(df_2017)\n",
    "\n",
    "# on peut aussi au choix utiliser df_2017.shape"
   ]
  },
  {
   "cell_type": "code",
   "execution_count": 28,
   "metadata": {},
   "outputs": [
    {
     "data": {
      "text/plain": [
       "(71, 17)"
      ]
     },
     "execution_count": 28,
     "metadata": {},
     "output_type": "execute_result"
    }
   ],
   "source": [
    "df_2017.shape"
   ]
  },
  {
   "cell_type": "code",
   "execution_count": 29,
   "metadata": {},
   "outputs": [
    {
     "data": {
      "text/plain": [
       "2019    199\n",
       "2018    163\n",
       "2016    106\n",
       "2015     98\n",
       "2017     71\n",
       "2014     54\n",
       "2013     22\n",
       "2012      4\n",
       "2011      1\n",
       "Name: period, dtype: int64"
      ]
     },
     "execution_count": 29,
     "metadata": {},
     "output_type": "execute_result"
    }
   ],
   "source": [
    "# Option 2\n",
    "# ou alors utiliser value counts\n",
    "df[\"period\"].value_counts()"
   ]
  },
  {
   "cell_type": "code",
   "execution_count": 30,
   "metadata": {},
   "outputs": [
    {
     "data": {
      "text/plain": [
       "71"
      ]
     },
     "execution_count": 30,
     "metadata": {},
     "output_type": "execute_result"
    }
   ],
   "source": [
    "# option 3\n",
    "# de façon un peu sauvage faire une somme sur un retour TRUE/FALSE\n",
    "(df[\"period\"]==2017).sum()"
   ]
  },
  {
   "cell_type": "markdown",
   "metadata": {},
   "source": [
    "### 7. Quels sont les articles pour lesquels la publication a coûté plus de 4000 euros ? Pour quels journaux ?\n"
   ]
  },
  {
   "cell_type": "code",
   "execution_count": 31,
   "metadata": {},
   "outputs": [],
   "source": [
    "# je sélectionne ceux dont le montant en euros est supérieur à 4000€\n",
    "df_sup_4000 = df[df[\"euro\"]>4000]"
   ]
  },
  {
   "cell_type": "code",
   "execution_count": 32,
   "metadata": {},
   "outputs": [
    {
     "data": {
      "text/plain": [
       "['10.1016/j.celrep.2015.01.063',\n",
       " '10.1016/j.celrep.2015.06.051',\n",
       " '10.1038/ncomms8837',\n",
       " '10.1038/ncomms9892',\n",
       " '10.3791/53188',\n",
       " '10.1016/j.celrep.2015.12.097',\n",
       " '10.1038/ncomms10796',\n",
       " '10.1016/j.celrep.2017.08.075',\n",
       " '10.1016/j.celrep.2017.12.020',\n",
       " '10.1016/j.molcel.2017.06.027',\n",
       " '10.1038/s41467-017-01467-7',\n",
       " '10.1016/j.celrep.2018.03.026',\n",
       " '10.1016/j.celrep.2018.03.102',\n",
       " '10.1016/j.celrep.2018.04.076',\n",
       " '10.1016/j.celrep.2018.05.083',\n",
       " '10.1016/j.celrep.2018.07.102',\n",
       " '10.1016/j.celrep.2018.08.019',\n",
       " '10.1016/j.celrep.2018.08.043',\n",
       " '10.1016/j.celrep.2018.08.087',\n",
       " '10.1016/j.celrep.2018.10.090',\n",
       " '10.1016/j.celrep.2018.12.002',\n",
       " '10.1016/j.celrep.2018.12.044',\n",
       " '10.1038/s41467-018-05181-w',\n",
       " '10.1038/s41467-018-05410-2',\n",
       " '10.1038/s41467-018-05709-0',\n",
       " '10.1038/s41467-018-05715-2',\n",
       " '10.1038/s41467-018-05879-x',\n",
       " '10.1038/s41467-018-05952-5',\n",
       " '10.1038/s41467-018-06025-3',\n",
       " '10.1038/s41467-018-06040-4',\n",
       " '10.1038/s41467-018-06160-x',\n",
       " '10.1038/s41467-018-06246-6',\n",
       " '10.1038/s41467-018-06417-5',\n",
       " '10.1038/s41467-018-06857-z',\n",
       " '10.1038/s41467-018-07175-0',\n",
       " '10.1038/s41467-018-07196-9',\n",
       " '10.1038/s41467-018-07238-2',\n",
       " '10.1038/s41467-018-07473-7',\n",
       " '10.1038/s41467-018-07761-2',\n",
       " '10.1038/s41467-018-08266-8',\n",
       " '10.1016/j.celrep.2019.01.104',\n",
       " '10.1016/j.celrep.2019.04.068',\n",
       " '10.1016/j.celrep.2019.04.093',\n",
       " '10.1016/j.celrep.2019.04.106',\n",
       " '10.1016/j.celrep.2019.05.065',\n",
       " '10.1016/j.celrep.2019.05.090',\n",
       " '10.1038/s41467-018-07949-6',\n",
       " '10.1038/s41467-018-07968-3',\n",
       " '10.1038/s41467-018-08156-z',\n",
       " '10.1038/s41467-018-08242-2',\n",
       " '10.1038/s41467-019-08483-9',\n",
       " '10.1038/s41467-019-08634-y',\n",
       " '10.1038/s41467-019-08650-y',\n",
       " '10.1038/s41467-019-08664-6',\n",
       " '10.1038/s41467-019-08741-w',\n",
       " '10.1038/s41467-019-08763-4',\n",
       " '10.1038/s41467-019-09053-9',\n",
       " '10.1038/s41467-019-09079-z',\n",
       " '10.1038/s41467-019-09122-z',\n",
       " '10.1038/s41467-019-09164-3',\n",
       " '10.1038/s41467-019-09189-8',\n",
       " '10.1038/s41467-019-09413-5',\n",
       " '10.1038/s41467-019-09431-3',\n",
       " '10.1038/s41467-019-09486-2',\n",
       " '10.1038/s41467-019-09673-1',\n",
       " '10.1038/s41467-019-09728-3',\n",
       " '10.1038/s41467-019-09823-5',\n",
       " '10.1038/s41467-019-10181-5',\n",
       " '10.1038/s41467-019-10208-x',\n",
       " '10.1038/s41467-019-10223-y',\n",
       " '10.1038/s41467-019-10274-1',\n",
       " '10.1038/s41467-019-10356-0',\n",
       " '10.1038/s41467-019-10466-9',\n",
       " '10.1038/s41467-019-10469-6',\n",
       " '10.1038/s41467-019-10566-6']"
      ]
     },
     "execution_count": 32,
     "metadata": {},
     "output_type": "execute_result"
    }
   ],
   "source": [
    "# et je récupère le doi des journaux en question :\n",
    "df_sup_4000[\"doi\"].to_list()"
   ]
  },
  {
   "cell_type": "code",
   "execution_count": 33,
   "metadata": {
    "scrolled": true
   },
   "outputs": [
    {
     "data": {
      "text/plain": [
       "array(['Cell Reports', 'Nature Communications',\n",
       "       'Journal of Visualized Experiments', 'Molecular Cell'],\n",
       "      dtype=object)"
      ]
     },
     "execution_count": 33,
     "metadata": {},
     "output_type": "execute_result"
    }
   ],
   "source": [
    "# et je récupère le nom des journaux en question\n",
    "# avec unique() cette fois en raison des apparitions multiples\n",
    "df_sup_4000[\"journal_recod\"].unique()"
   ]
  },
  {
   "cell_type": "code",
   "execution_count": 34,
   "metadata": {},
   "outputs": [
    {
     "data": {
      "text/plain": [
       "['Cell Reports',\n",
       " 'Nature Communications',\n",
       " 'Journal of Visualized Experiments',\n",
       " 'Molecular Cell']"
      ]
     },
     "execution_count": 34,
     "metadata": {},
     "output_type": "execute_result"
    }
   ],
   "source": [
    "#si je veux une liste:\n",
    "list(df_sup_4000[\"journal_recod\"].unique())"
   ]
  },
  {
   "cell_type": "markdown",
   "metadata": {},
   "source": [
    "### 8. Créer un dataframe data_modif comprennant les données de l'année 2017 présentant une dépense d'une valeur supérieure à 2000 euros"
   ]
  },
  {
   "cell_type": "code",
   "execution_count": 35,
   "metadata": {},
   "outputs": [],
   "source": [
    "# soit on fait tout d'un coup en une ligne :\n",
    "data_modif = df[(df[\"period\"]==2017) & (df[\"euro\"]>2000)]"
   ]
  },
  {
   "cell_type": "code",
   "execution_count": 36,
   "metadata": {},
   "outputs": [],
   "source": [
    "# soit on décompose les étapes :\n",
    "\n",
    "# un filtre pour 2017\n",
    "filtre_2017 = df[\"period\"]==2017\n",
    "\n",
    "# un filtre pour > 2000€\n",
    "filtre_sup_2000 = df[\"euro\"]>2000\n",
    "\n",
    "# et la créatio d'un nouveau df en utilisant les filtres\n",
    "data_modif2 = df[filtre_2017 & filtre_sup_2000]"
   ]
  },
  {
   "cell_type": "code",
   "execution_count": 37,
   "metadata": {},
   "outputs": [
    {
     "data": {
      "text/plain": [
       "(30, 17)"
      ]
     },
     "execution_count": 37,
     "metadata": {},
     "output_type": "execute_result"
    }
   ],
   "source": [
    "data_modif.shape"
   ]
  },
  {
   "cell_type": "code",
   "execution_count": 38,
   "metadata": {},
   "outputs": [
    {
     "data": {
      "text/plain": [
       "(30, 17)"
      ]
     },
     "execution_count": 38,
     "metadata": {},
     "output_type": "execute_result"
    }
   ],
   "source": [
    "data_modif2.shape"
   ]
  },
  {
   "cell_type": "code",
   "execution_count": 39,
   "metadata": {},
   "outputs": [],
   "source": [
    "# (30, 16) si pas recodé dans une nouvelle colone"
   ]
  }
 ],
 "metadata": {
  "kernelspec": {
   "display_name": "Python 3",
   "language": "python",
   "name": "python3"
  },
  "language_info": {
   "codemirror_mode": {
    "name": "ipython",
    "version": 3
   },
   "file_extension": ".py",
   "mimetype": "text/x-python",
   "name": "python",
   "nbconvert_exporter": "python",
   "pygments_lexer": "ipython3",
   "version": "3.7.9"
  }
 },
 "nbformat": 4,
 "nbformat_minor": 4
}
